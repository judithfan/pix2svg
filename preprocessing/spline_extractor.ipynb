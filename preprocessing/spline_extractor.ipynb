{
 "cells": [
  {
   "cell_type": "code",
   "execution_count": 106,
   "metadata": {
    "collapsed": true
   },
   "outputs": [],
   "source": [
    "import numpy as np\n",
    "from svgpathtools import svg2paths, Path, Line, wsvg\n",
    "import svgpathtools\n",
    "from rdp import rdp\n",
    "from svg.path import parse_path\n",
    "import os\n",
    "import pandas as pd"
   ]
  },
  {
   "cell_type": "code",
   "execution_count": 125,
   "metadata": {
    "collapsed": true
   },
   "outputs": [],
   "source": [
    "# define paths\n",
    "path_to_svg = './svg'\n",
    "save_dir = './spline_coords'"
   ]
  },
  {
   "cell_type": "code",
   "execution_count": 97,
   "metadata": {
    "collapsed": false
   },
   "outputs": [],
   "source": [
    "def read_svg_file(filename):\n",
    "    paths, attributes =  svg2paths(filename)\n",
    "    return paths"
   ]
  },
  {
   "cell_type": "code",
   "execution_count": 109,
   "metadata": {
    "collapsed": false
   },
   "outputs": [
    {
     "name": "stdout",
     "output_type": "stream",
     "text": [
      "Extracted 0 of 709 airplane sketches...\n",
      "Extracted 100 of 709 airplane sketches...\n",
      "Extracted 200 of 709 airplane sketches...\n",
      "Extracted 300 of 709 airplane sketches...\n",
      "Extracted 400 of 709 airplane sketches...\n",
      "Extracted 500 of 709 airplane sketches...\n",
      "Extracted 600 of 709 airplane sketches...\n",
      "Extracted 700 of 709 airplane sketches...\n"
     ]
    }
   ],
   "source": [
    "all_classes = [i for i in os.listdir(path_to_svg) if os.path.isdir(os.path.join(path_to_svg,i))]\n",
    "assert len(all_classes)==125\n",
    "# loop through classes\n",
    "for c in all_classes:\n",
    "    class_path = os.path.join(path_to_svg,c)\n",
    "    all_sketches = [i for i in os.listdir(class_path) if i.split('.')[1]=='svg']\n",
    "    \n",
    "    # initialize\n",
    "    start_x = []\n",
    "    start_y = []\n",
    "    c1_x = []\n",
    "    c1_y = []\n",
    "    c2_x = []\n",
    "    c2_y = []\n",
    "    end_x = []\n",
    "    end_y = []\n",
    "    stroke_num = []\n",
    "    spline_num = []\n",
    "    stroke_counter = 0\n",
    "    spline_counter = 0\n",
    "\n",
    "    class_name = []\n",
    "    photo_name = []\n",
    "    sketch_name = []\n",
    "\n",
    "    path_to_invalid = os.path.join(class_path,'invalid.txt')\n",
    "    with open(path_to_invalid) as f:\n",
    "        invalid = set([line[:-2] for line in f.readlines() if line[0]=='n'])\n",
    "    cat = class_path.split('/')[-1]\n",
    "    # loop through sketches\n",
    "    for i,s in enumerate(all_sketches):\n",
    "        if i%100==0:\n",
    "            print 'Extracted {} of {} {} sketches...'.format(i, len(all_sketches), cat)\n",
    "        if s in invalid:\n",
    "            print s + ' marked invalid, moving on...'\n",
    "        else:\n",
    "            sketch_path = os.path.join(path_to_svg,c,s)\n",
    "            # read in paths and loop through to get strokes and spline segments\n",
    "            paths = read_svg_file(sketch_path)        \n",
    "            for path in paths:\n",
    "                stroke_counter += 1\n",
    "                for point in path:\n",
    "                    if type(point) == svgpathtools.path.CubicBezier:\n",
    "                        start_x.append(np.real(point.start))\n",
    "                        start_y.append(np.imag(point.start))   \n",
    "                        c1_x.append(np.real(point.control1))\n",
    "                        c1_y.append(np.imag(point.control1))\n",
    "                        c2_x.append(np.real(point.control2))\n",
    "                        c2_y.append(np.imag(point.control2))\n",
    "                        end_x.append(np.real(point.end))\n",
    "                        end_y.append(np.imag(point.end))\n",
    "                        spline_num.append(spline_counter)\n",
    "                        spline_counter += 1         \n",
    "                        stroke_num.append(stroke_counter)\n",
    "                        class_name.append(os.path.dirname(sketch_path).split('/')[-1])\n",
    "                        photo_name.append(os.path.basename(sketch_path).split('-')[0] + '.jpg')\n",
    "                        sketch_name.append(os.path.basename(sketch_path))                    \n",
    "\n",
    "    df = pd.DataFrame([start_x,start_y,c1_x,c1_y,c2_x,c2_y,end_x,end_y, \\\n",
    "                       stroke_num,spline_num,class_name,photo_name,sketch_name]) \n",
    "    df = df.transpose()\n",
    "    df.columns = ['start_x','start_y','c1_x','c1_y','c2_x','c2_y','end_x','end_y', \\\n",
    "                  'stroke_num','spline_num','class_name','photo_name','sketch_name']\n",
    "\n",
    "    if not os.path.exists(save_dir):\n",
    "        os.makedirs(save_dir)\n",
    "    save_path = os.path.join(save_dir, cat + '.csv')\n",
    "    df.to_csv(save_path)\n",
    "    "
   ]
  },
  {
   "cell_type": "code",
   "execution_count": 110,
   "metadata": {
    "collapsed": false
   },
   "outputs": [],
   "source": []
  },
  {
   "cell_type": "code",
   "execution_count": 111,
   "metadata": {
    "collapsed": false
   },
   "outputs": [],
   "source": []
  },
  {
   "cell_type": "code",
   "execution_count": 128,
   "metadata": {
    "collapsed": false
   },
   "outputs": [],
   "source": []
  },
  {
   "cell_type": "code",
   "execution_count": null,
   "metadata": {
    "collapsed": false
   },
   "outputs": [],
   "source": []
  },
  {
   "cell_type": "code",
   "execution_count": null,
   "metadata": {
    "collapsed": true
   },
   "outputs": [],
   "source": []
  }
 ],
 "metadata": {
  "kernelspec": {
   "display_name": "Python 2",
   "language": "python",
   "name": "python2"
  },
  "language_info": {
   "codemirror_mode": {
    "name": "ipython",
    "version": 2
   },
   "file_extension": ".py",
   "mimetype": "text/x-python",
   "name": "python",
   "nbconvert_exporter": "python",
   "pygments_lexer": "ipython2",
   "version": "2.7.12"
  }
 },
 "nbformat": 4,
 "nbformat_minor": 0
}
