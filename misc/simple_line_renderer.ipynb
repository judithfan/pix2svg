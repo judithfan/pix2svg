{
 "cells": [
  {
   "cell_type": "code",
   "execution_count": 5,
   "metadata": {
    "collapsed": true
   },
   "outputs": [],
   "source": [
    "from __future__ import division\n",
    "\n",
    "import numpy as np\n",
    "from numpy import *\n",
    "\n",
    "import matplotlib.pyplot as plt\n",
    "%matplotlib inline\n",
    "import seaborn as sns"
   ]
  },
  {
   "cell_type": "code",
   "execution_count": 6,
   "metadata": {
    "collapsed": false
   },
   "outputs": [],
   "source": [
    "class bresenham_diff:    \n",
    "    '''\n",
    "    Bresenham's algorithm\n",
    "    Input: Takes starting point (p0) and endpoint (p1).\n",
    "    Output: set of pixel coordinates, or matrix with pixels filled in\n",
    "    TODO: add option to thicken lines, add option to gaussian blur\n",
    "    \n",
    "    resource: http://floppsie.comp.glam.ac.uk/Glamorgan/gaius/gametools/6.html\n",
    "    see also: https://github.com/encukou/bresenham\n",
    "    but this is a actually WAY stripped down implementation purged of if-blocks\n",
    "    '''\n",
    "    def __init__(self, p0, p1):\n",
    "        self.initial = True\n",
    "        self.end = False\n",
    "        self.p0 = p0\n",
    "        self.p1 = p1\n",
    "        self.x0 = p0[0]\n",
    "        self.y0 = p0[1]\n",
    "        self.x1 = p1[0]\n",
    "        self.y1 = p1[1]\n",
    "        self.dx = abs(self.x1-self.x0) \n",
    "        self.dy = abs(self.y1-self.y0)\n",
    "        self.slope = self.dy/self.dx\n",
    "        self.sign = np.sign(self.slope)\n",
    "        self.xpix = []\n",
    "        self.ypix = []\n",
    "        self.imsize = 250\n",
    "        \n",
    "    def walk_along(self):\n",
    "        '''\n",
    "        intuition: increment by x pixel, and fill in the closest y pixel as you go\n",
    "\n",
    "        '''\n",
    "        self.xpix = np.linspace(int(self.x0),int(self.x1),abs(self.dx)+1)\n",
    "        for _y in np.linspace(self.y0,self.y1,abs(self.dx)+1):\n",
    "            self.ypix.append(np.round(_y))            \n",
    "        return self.xpix, self.ypix\n",
    "    \n",
    "    def fillgrid(self,xpix,ypix):\n",
    "        mat = np.tile(0,(self.imsize,self.imsize))\n",
    "        for _x,_y in zip(xpix,ypix):\n",
    "            mat[int(_x),int(_y)] = 250                \n",
    "        return mat\n",
    "    \n",
    "    ## add option to thicken lines\n",
    "    \n",
    "    ## add option to gaussian blur\n",
    "    "
   ]
  },
  {
   "cell_type": "code",
   "execution_count": 7,
   "metadata": {
    "collapsed": false
   },
   "outputs": [],
   "source": [
    "start = [0,0]\n",
    "end = [200,-180]\n",
    "l = bresenham_diff(start,end)\n",
    "xpix,ypix = l.walk_along()\n",
    "mat = l.fillgrid(xpix,ypix)"
   ]
  },
  {
   "cell_type": "code",
   "execution_count": 9,
   "metadata": {
    "collapsed": false
   },
   "outputs": [
    {
     "data": {
      "text/plain": [
       "<matplotlib.image.AxesImage at 0x112dee090>"
      ]
     },
     "execution_count": 9,
     "metadata": {},
     "output_type": "execute_result"
    },
    {
     "data": {
      "image/png": "[encoded data removed]",
      "text/plain": [
       "<matplotlib.figure.Figure at 0x112758390>"
      ]
     },
     "metadata": {},
     "output_type": "display_data"
    }
   ],
   "source": [
    "sns.set_style('whitegrid')\n",
    "plt.matshow(mat)"
   ]
  },
  {
   "cell_type": "code",
   "execution_count": null,
   "metadata": {
    "collapsed": false
   },
   "outputs": [],
   "source": []
  }
 ],
 "metadata": {
  "kernelspec": {
   "display_name": "Python 2",
   "language": "python",
   "name": "python2"
  },
  "language_info": {
   "codemirror_mode": {
    "name": "ipython",
    "version": 2
   },
   "file_extension": ".py",
   "mimetype": "text/x-python",
   "name": "python",
   "nbconvert_exporter": "python",
   "pygments_lexer": "ipython2",
   "version": "2.7.12"
  }
 },
 "nbformat": 4,
 "nbformat_minor": 0
}
