{
 "cells": [
  {
   "cell_type": "code",
   "execution_count": 249,
   "metadata": {
    "collapsed": true
   },
   "outputs": [],
   "source": [
    "from __future__ import division\n",
    "\n",
    "import numpy as np\n",
    "from numpy import *\n",
    "\n",
    "import os\n",
    "\n",
    "import tensorflow as tf\n",
    "\n",
    "import PIL\n",
    "from PIL import Image\n",
    "import matplotlib.pyplot as plt\n",
    "\n",
    "from skimage import data, io, filters\n",
    "\n",
    "from matplotlib.path import Path\n",
    "import matplotlib.patches as patches\n",
    "\n",
    "import pandas as pd"
   ]
  },
  {
   "cell_type": "code",
   "execution_count": 250,
   "metadata": {
    "collapsed": true
   },
   "outputs": [],
   "source": [
    "path_to_strokes =  \"tiny/airplane.npy\"\n",
    "X = np.load(path_to_strokes)[()]"
   ]
  },
  {
   "cell_type": "code",
   "execution_count": 251,
   "metadata": {},
   "outputs": [
    {
     "name": "stdout",
     "output_type": "stream",
     "text": [
      "('Example sketch has ', '169', ' strokes')\n",
      "('Corresponds to photo: ', 'n02691156_10151')\n"
     ]
    }
   ],
   "source": [
    "print('Example sketch has ', str(shape(X['airplane'][0][0])[0]), ' strokes')\n",
    "print('Corresponds to photo: ', X['airplane'][1][0])\n",
    "\n",
    "path_to_source_photos = \"../tiny/photo/airplane/\"\n",
    "photo = os.path.join(path_to_source_photos,'n02691156_10151.jpg')"
   ]
  },
  {
   "cell_type": "code",
   "execution_count": 252,
   "metadata": {
    "collapsed": true
   },
   "outputs": [],
   "source": [
    "class TinyDataset():\n",
    "    \"\"\"tiny airplane dataset of photos and sketches for pix2svg.\"\"\"\n",
    "\n",
    "    def __init__(self, npy_file, root_dir, transform=None):\n",
    "        \"\"\"\n",
    "        Args:\n",
    "            npy_file (string): Path to the numpy file with stroke-5 representation and corresponding photos.\n",
    "                    # to get stroke-5 representation of svg\n",
    "                    x['airplane'][0][5]\n",
    "                    # to get corresponding photos\n",
    "                    x['airplane'][1][5]\n",
    "            root_dir (string): Directory with all the images.\n",
    "            transform (callable, optional): Optional transform to be applied\n",
    "                on a sample.\n",
    "        \"\"\"\n",
    "        self.root_dir = root_dir\n",
    "        self.stroke_dir = npy_file\n",
    "        self.photo_dir = os.path.join(root_dir,'photo')\n",
    "        self.strokes = np.load(npy_file)[()]\n",
    "        self.transform = transform\n",
    "    \n",
    "    def __len__(self):\n",
    "        return len(self.strokes['airplane'][0])\n",
    "\n",
    "    def __getitem__(self, idx):\n",
    "        img_name = os.path.join(self.photo_dir,'airplane',X['airplane'][1][idx]+ '.jpg')\n",
    "        photo = io.imread(img_name)\n",
    "        photo = photo.astype(float)\n",
    "        strokes = self.strokes['airplane'][0][idx]\n",
    "        sample = {'photo': photo, 'strokes': strokes,'name': X['airplane'][1][idx]+ '.jpg'}\n",
    "        \n",
    "        if self.transform:\n",
    "            sample = self.transform(sample)\n",
    "\n",
    "        return sample    \n",
    "\n",
    "class ToTensor(object):\n",
    "    \"\"\"Convert ndarrays in sample to Tensors.\"\"\"\n",
    "\n",
    "    def __call__(self, sample):\n",
    "        image, strokes, name = sample['photo'], sample['strokes'], sample['name']\n",
    "\n",
    "        # swap color axis because\n",
    "        # numpy image: H x W x C\n",
    "        # torch image: C X H X W\n",
    "        image = image.transpose((2, 0, 1))        \n",
    "        return {'tensor': tf.divide(tf.stack(sample['photo']),255),\n",
    "                'strokes': strokes,\n",
    "                'name': name,\n",
    "                'photo': image}    \n",
    "\n",
    "def to_normal_strokes(big_stroke):\n",
    "    \"\"\"Convert from stroke-5 format (from sketch-rnn paper) back to stroke-3.\"\"\"\n",
    "    l = 0\n",
    "    for i in range(len(big_stroke)):\n",
    "        if big_stroke[i, 4] > 0:\n",
    "            l = i\n",
    "            break\n",
    "    if l == 0:\n",
    "        l = len(big_stroke)\n",
    "    result = np.zeros((l, 3))\n",
    "    result[:, 0:2] = big_stroke[0:l, 0:2]\n",
    "    result[:, 2] = big_stroke[0:l, 3]\n",
    "    return result    \n",
    "    \n",
    "def strokes_to_lines(strokes):\n",
    "    \"\"\"\n",
    "    Convert stroke-3 format to polyline format.\n",
    "    List contains sublist of continuous line segments (strokes).    \n",
    "    \"\"\"\n",
    "    x = 0\n",
    "    y = 0\n",
    "    lines = []\n",
    "    line = []\n",
    "    for i in range(len(strokes)):\n",
    "        if strokes[i, 2] == 1:\n",
    "            x += float(strokes[i, 0])\n",
    "            y += float(strokes[i, 1])\n",
    "            line.append([x, y])\n",
    "            lines.append(line)\n",
    "            line = []\n",
    "        else:\n",
    "            x += float(strokes[i, 0])\n",
    "            y += float(strokes[i, 1])\n",
    "            line.append([x, y])\n",
    "    return lines\n",
    "\n",
    "def polyline_pathmaker(lines):\n",
    "    x = []\n",
    "    y = []\n",
    "\n",
    "    codes = [Path.MOVETO] # start with moveto command always\n",
    "    for i,l in enumerate(lines):\n",
    "        for _i,_l in enumerate(l):\n",
    "            x.append(_l[0])\n",
    "            y.append(_l[1])\n",
    "            if _i<len(l)-1:\n",
    "                codes.append(Path.LINETO) # keep pen on page\n",
    "            else:\n",
    "                if i != len(lines)-1: # final vertex\n",
    "                    codes.append(Path.MOVETO)\n",
    "    verts = zip(x,y)            \n",
    "    return verts, codes\n",
    "\n",
    "def path_renderer(verts, codes):\n",
    "    path = Path(verts, codes)\n",
    "    patch = patches.PathPatch(path, facecolor='none', lw=2)\n",
    "    ax.add_patch(patch)\n",
    "    ax.set_xlim(0,max(max(verts)))\n",
    "    ax.set_ylim(0,max(max(verts)))\n",
    "    ax.axis('off')\n",
    "    plt.gca().invert_yaxis() # y values increase as you go down in image\n",
    "    plt.show()"
   ]
  },
  {
   "cell_type": "code",
   "execution_count": 253,
   "metadata": {},
   "outputs": [
    {
     "name": "stdout",
     "output_type": "stream",
     "text": [
      "batch_render_tiny_intermediates.ipynb  LICENSE    \u001b[0m\u001b[01;34msketchy\u001b[0m/  tf_sketchy.ipynb\r\n",
      "helpers.py                             \u001b[01;34mpix2svg\u001b[0m/   test      \u001b[01;34mtiny\u001b[0m/\r\n",
      "helpers.pyc                            README.md  \u001b[01;35mtest.png\u001b[0m  \u001b[01;34mtiny_intermediates\u001b[0m/\r\n"
     ]
    }
   ],
   "source": [
    "%ls"
   ]
  },
  {
   "cell_type": "code",
   "execution_count": 254,
   "metadata": {
    "collapsed": true
   },
   "outputs": [],
   "source": [
    "## load in airplanes dataset\n",
    "airplanes = TinyDataset(npy_file='/home/jefan/ptsketchy/tiny/airplane.npy',root_dir='/home/jefan/ptsketchy/tiny',transform=None)"
   ]
  },
  {
   "cell_type": "code",
   "execution_count": 256,
   "metadata": {},
   "outputs": [
    {
     "name": "stdout",
     "output_type": "stream",
     "text": [
      "(100, (256, 256, 3), (99, 5))\n"
     ]
    },
    {
     "data": {
      "image/png": "[encoded data removed]",
      "text/plain": [
       "<matplotlib.figure.Figure at 0x7f7e95c57c50>"
      ]
     },
     "metadata": {},
     "output_type": "display_data"
    }
   ],
   "source": [
    "## display given photo and corresponding sketch from stroke-5 representation\n",
    "i = 100\n",
    "sample = airplanes[i]\n",
    "print(i, sample['photo'].shape, sample['strokes'].shape)\n",
    "\n",
    "plt.figure()\n",
    "ax = plt.subplot(121)\n",
    "ax.set_title(sample['name'])\n",
    "ax.axis('off')\n",
    "img = np.reshape(sample['photo'],(256,256,3))\n",
    "plt.imshow(img,interpolation='nearest')\n",
    "\n",
    "ax = plt.subplot(122)\n",
    "lines = strokes_to_lines(to_normal_strokes(sample['strokes']))\n",
    "verts,codes = polyline_pathmaker(lines)\n",
    "path_renderer(verts,codes)\n",
    "\n",
    "plt.show()"
   ]
  },
  {
   "cell_type": "code",
   "execution_count": 19,
   "metadata": {
    "collapsed": true
   },
   "outputs": [],
   "source": [
    "# load in airplanes dataset\n",
    "airplanes = TinyDataset(npy_file='/home/jefan/ptsketchy/tiny/airplane.npy',\n",
    "                        root_dir='/home/jefan/ptsketchy/tiny',\n",
    "                        transform=ToTensor())"
   ]
  },
  {
   "cell_type": "code",
   "execution_count": 28,
   "metadata": {
    "collapsed": true
   },
   "outputs": [],
   "source": [
    "# load in features for photos\n",
    "path_to_features = 'sketchy/triplet_features'\n",
    "photo_features = np.load(os.path.join(path_to_features,'photo_features.npy'))\n",
    "F = photo_features"
   ]
  },
  {
   "cell_type": "code",
   "execution_count": 48,
   "metadata": {
    "collapsed": true
   },
   "outputs": [],
   "source": [
    "# read in filenames and generate pandas dataframe with object labels\n",
    "_filenames = pd.read_csv(os.path.join(path_to_features,'photo_filenames.txt'),header=None,names=['filename'])\n",
    "\n",
    "filenames = []\n",
    "for i in range(len(_filenames)):\n",
    "    filenames.append(_filenames[_filenames.index==i].values[0][0])\n",
    "filenames = ['sketchy' + f[1:] for f in filenames]\n",
    "path = filenames\n",
    "obj = [f.split('/')[3] for f in filenames]\n",
    "img = [f.split('/')[4] for f in filenames]\n",
    "\n",
    "data = {'path': path,\n",
    "         'object': obj,\n",
    "         'filename': img}\n",
    "X = pd.DataFrame.from_dict(data)"
   ]
  },
  {
   "cell_type": "code",
   "execution_count": 103,
   "metadata": {
    "collapsed": true
   },
   "outputs": [],
   "source": [
    "# subset airplane features only\n",
    "matches = X['object']=='airplane'\n",
    "inds = np.where(matches==True)\n",
    "X0 = X[matches]\n",
    "F0 = F[inds]"
   ]
  },
  {
   "cell_type": "code",
   "execution_count": null,
   "metadata": {
    "collapsed": true
   },
   "outputs": [],
   "source": []
  },
  {
   "cell_type": "code",
   "execution_count": 179,
   "metadata": {
    "collapsed": true
   },
   "outputs": [],
   "source": [
    "# construct (12490,1024) version of photo feature matrix, called PF, that matches indexing of the sketch feature matrix\n",
    "sketch_features = np.load('sketchy/airplane_features/airplane_sketch_features.npy')\n",
    "_sketch_filenames = pd.read_csv('sketchy/airplane_features/airplane_sketch_filenames.txt',header=None,names=['filename'])\n",
    "sketch_filenames = []\n",
    "for i in range(len(_sketch_filenames)):\n",
    "    sketch_filenames.append(_sketch_filenames[_sketch_filenames.index==i].values[0][0])\n",
    "PF = []\n",
    "inds = [] \n",
    "for sf in sketch_filenames:\n",
    "    q = sf.split('/')[2]+'.jpg'\n",
    "    PF.append(F0[X0['filename']==q])\n",
    "    inds.append(np.where(X0['filename']==q)[0][0])\n",
    "PF = np.squeeze(np.array(PF))\n",
    "SF = sketch_features\n",
    "inds = np.array(inds)\n",
    "\n",
    "## zip together/concatenate the photo and sketch features\n",
    "_F = np.hstack((PF,SF))"
   ]
  },
  {
   "cell_type": "code",
   "execution_count": null,
   "metadata": {},
   "outputs": [],
   "source": []
  },
  {
   "cell_type": "code",
   "execution_count": 224,
   "metadata": {},
   "outputs": [
    {
     "name": "stdout",
     "output_type": "stream",
     "text": [
      "10156.0 sketch intermediates to train on.\n",
      "830.0 sketch intermediates to validate on.\n",
      "1504.0 sketch intermediates to test on.\n"
     ]
    }
   ],
   "source": [
    "# generate random index to do train/val/test split\n",
    "_idx = np.arange(len(X0))\n",
    "np.random.seed(seed=0)\n",
    "np.random.shuffle(_idx)\n",
    "train_len = int(len(_idx)*0.85)\n",
    "val_len = int(len(_idx)*0.05)\n",
    "test_len = int(len(_idx*0.10))\n",
    "\n",
    "# indices of 100 photos that will go into train/val/test split\n",
    "train_inds = _idx[:train_len] \n",
    "val_inds = _idx[train_len:train_len+val_len]\n",
    "test_inds = _idx[train_len+val_len:len(_idx)]\n",
    "\n",
    "# construct 12490 vectors that correspond to membership in train/val/test splits\n",
    "train_vec = np.zeros(len(F)).astype(bool)\n",
    "val_vec = np.zeros(len(F)).astype(bool)\n",
    "test_vec = np.zeros(len(F)).astype(bool)\n",
    "\n",
    "for i in train_inds:\n",
    "    train_vec[idx==i] = True\n",
    "for i in val_inds:\n",
    "    val_vec[idx==i] = True    \n",
    "for i in test_inds:\n",
    "    test_vec[idx==i] = True \n",
    "    \n",
    "# print str(sum(train_vec)/len(train_vec) * len(F)) + ' sketch intermediates to train on.'\n",
    "# print str(sum(val_vec)/len(val_vec) * len(F)) + ' sketch intermediates to validate on.'\n",
    "# print str(sum(test_vec)/len(test_vec) * len(F)) + ' sketch intermediates to test on.'    \n",
    "\n",
    "# # now actually split data\n",
    "# F_train = F[train_vec]\n",
    "# F_val = F[val_vec]\n",
    "# F_test = F[test_vec]\n",
    "# print np.shape(F_train)"
   ]
  },
  {
   "cell_type": "code",
   "execution_count": 313,
   "metadata": {},
   "outputs": [
    {
     "name": "stdout",
     "output_type": "stream",
     "text": [
      "Object `np.intersect` not found.\n"
     ]
    }
   ],
   "source": []
  },
  {
   "cell_type": "code",
   "execution_count": null,
   "metadata": {},
   "outputs": [],
   "source": []
  },
  {
   "cell_type": "code",
   "execution_count": 328,
   "metadata": {},
   "outputs": [
    {
     "data": {
      "text/plain": [
       "6377"
      ]
     },
     "execution_count": 328,
     "metadata": {},
     "output_type": "execute_result"
    }
   ],
   "source": []
  },
  {
   "cell_type": "code",
   "execution_count": null,
   "metadata": {
    "collapsed": true
   },
   "outputs": [],
   "source": []
  },
  {
   "cell_type": "code",
   "execution_count": 340,
   "metadata": {},
   "outputs": [],
   "source": [
    "### now get a (12490,5) representation of the 'next stroke'\n",
    "### no wait, instead, just bump up the dimensionality of these feature matrices to fit that of \n",
    "### the (delta_x,delta_y) stroke representation\n",
    "### Strokes dataframe (\"S\") is of dimensionality (55855,5).\n",
    "### So, resize and re-index the feature matrix to match S. \n",
    "\n",
    "S = pd.read_csv('tiny/stroke_dataframe.csv')\n",
    "photo_dir = np.array([sf.split('/')[2] for sf in sketch_filenames]) # photo dir\n",
    "sketch_dir = np.array(map(int,[sf.split('/')[3] for sf in sketch_filenames])) # sketch dir\n",
    "stroke_png = np.array(map(int,[sf.split('/')[4].split('.')[0] for sf in sketch_filenames])) # stroke png\n",
    "\n",
    "F = []\n",
    "for index, row in S.iterrows():\n",
    "    # get ind of the original small (12490,5) matrix that corresponds to this row of S (55855,5)\n",
    "    ind = np.intersect1d(np.intersect1d(np.where(photo_dir==row['photoID']),\n",
    "              np.where(sketch_dir==row['sketchID'])),\n",
    "              np.where(stroke_png==row['strokeID']))[0]\n",
    "    F.append(_F[ind])\n",
    "    \n",
    "F = np.array(F)"
   ]
  },
  {
   "cell_type": "code",
   "execution_count": null,
   "metadata": {
    "collapsed": true
   },
   "outputs": [],
   "source": []
  },
  {
   "cell_type": "code",
   "execution_count": null,
   "metadata": {},
   "outputs": [
    {
     "name": "stdout",
     "output_type": "stream",
     "text": [
      "generating list of photo indices based on X0\n"
     ]
    }
   ],
   "source": [
    "# generate 55855-long vector of photo indices\n",
    "print 'generating list of photo indices based on X0'\n",
    "inds = [] \n",
    "for index, row in S.iterrows():\n",
    "    q = row['photoID']+'.jpg'\n",
    "    inds.append(np.where(X0['filename']==q)[0][0])\n",
    "inds = np.array(inds)\n",
    "\n",
    "# generate random index to do train/val/test split\n",
    "print 'generating random index to do train/val/test split'\n",
    "_idx = np.arange(len(X0))\n",
    "np.random.seed(seed=0)\n",
    "np.random.shuffle(_idx)\n",
    "train_len = int(len(_idx)*0.85)\n",
    "val_len = int(len(_idx)*0.05)\n",
    "test_len = int(len(_idx*0.10))\n",
    "\n",
    "# indices of 100 photos that will go into train/val/test split\n",
    "train_inds = _idx[:train_len] \n",
    "val_inds = _idx[train_len:train_len+val_len]\n",
    "test_inds = _idx[train_len+val_len:len(_idx)]\n",
    "\n",
    "print 'constructing 55855 vectors that correspond to membership in train/val/test splits'\n",
    "# construct 55855 vectors that correspond to membership in train/val/test splits\n",
    "train_vec = np.zeros(len(F)).astype(bool)\n",
    "val_vec = np.zeros(len(F)).astype(bool)\n",
    "test_vec = np.zeros(len(F)).astype(bool)\n",
    "\n",
    "for i in train_inds:\n",
    "    train_vec[inds==i] = True\n",
    "for i in val_inds:\n",
    "    val_vec[inds==i] = True    \n",
    "for i in test_inds:\n",
    "    test_vec[inds==i] = True \n",
    "    \n",
    "assert sum(train_vec)+ sum(val_vec) + sum(test_vec) == len(train_vec)    \n",
    "print ' '\n",
    "print str(sum(train_vec)/len(train_vec) * len(F)) + ' sketch intermediates to train on.'\n",
    "print str(sum(val_vec)/len(val_vec) * len(F)) + ' sketch intermediates to validate on.'\n",
    "print str(sum(test_vec)/len(test_vec) * len(F)) + ' sketch intermediates to test on.'    \n",
    "print ' '\n",
    "print 'Now actually splitting data.'\n",
    "# now actually split data\n",
    "F_train = F[train_vec]\n",
    "F_val = F[val_vec]\n",
    "F_test = F[test_vec]\n",
    "print np.shape(F_train)"
   ]
  },
  {
   "cell_type": "code",
   "execution_count": 363,
   "metadata": {},
   "outputs": [
    {
     "data": {
      "text/plain": [
       "list"
      ]
     },
     "execution_count": 363,
     "metadata": {},
     "output_type": "execute_result"
    }
   ],
   "source": []
  },
  {
   "cell_type": "code",
   "execution_count": 357,
   "metadata": {},
   "outputs": [],
   "source": []
  },
  {
   "cell_type": "code",
   "execution_count": null,
   "metadata": {
    "collapsed": true
   },
   "outputs": [],
   "source": []
  }
 ],
 "metadata": {
  "kernelspec": {
   "display_name": "Python 2",
   "language": "python",
   "name": "python2"
  },
  "language_info": {
   "codemirror_mode": {
    "name": "ipython",
    "version": 2
   },
   "file_extension": ".py",
   "mimetype": "text/x-python",
   "name": "python",
   "nbconvert_exporter": "python",
   "pygments_lexer": "ipython2",
   "version": "2.7.12"
  }
 },
 "nbformat": 4,
 "nbformat_minor": 2
}
