{
 "cells": [
  {
   "cell_type": "code",
   "execution_count": 90,
   "metadata": {
    "collapsed": true
   },
   "outputs": [],
   "source": [
    "from __future__ import division\n",
    "\n",
    "import numpy as np\n",
    "from numpy import *\n",
    "\n",
    "import os\n",
    "\n",
    "import tensorflow as tf\n",
    "\n",
    "import PIL\n",
    "from PIL import Image\n",
    "import matplotlib.pyplot as plt\n",
    "\n",
    "from skimage import data, io, filters\n",
    "\n",
    "from matplotlib.path import Path\n",
    "import matplotlib.patches as patches\n",
    "\n",
    "import pandas as pd"
   ]
  },
  {
   "cell_type": "code",
   "execution_count": 91,
   "metadata": {
    "collapsed": true
   },
   "outputs": [],
   "source": [
    "path_to_strokes =  \"tiny/airplane.npy\"\n",
    "X = np.load(path_to_strokes)[()]"
   ]
  },
  {
   "cell_type": "code",
   "execution_count": 92,
   "metadata": {},
   "outputs": [
    {
     "name": "stdout",
     "output_type": "stream",
     "text": [
      "('Example sketch has ', '169', ' strokes')\n",
      "('Corresponds to photo: ', 'n02691156_10151')\n"
     ]
    }
   ],
   "source": [
    "print('Example sketch has ', str(shape(X['airplane'][0][0])[0]), ' strokes')\n",
    "print('Corresponds to photo: ', X['airplane'][1][0])\n",
    "\n",
    "path_to_source_photos = \"../tiny/photo/airplane/\"\n",
    "photo = os.path.join(path_to_source_photos,'n02691156_10151.jpg')"
   ]
  },
  {
   "cell_type": "code",
   "execution_count": 93,
   "metadata": {
    "collapsed": true
   },
   "outputs": [],
   "source": [
    "class TinyDataset():\n",
    "    \"\"\"tiny airplane dataset of photos and sketches for pix2svg.\"\"\"\n",
    "\n",
    "    def __init__(self, npy_file, root_dir, transform=None):\n",
    "        \"\"\"\n",
    "        Args:\n",
    "            npy_file (string): Path to the numpy file with stroke-5 representation and corresponding photos.\n",
    "                    # to get stroke-5 representation of svg\n",
    "                    x['airplane'][0][5]\n",
    "                    # to get corresponding photos\n",
    "                    x['airplane'][1][5]\n",
    "            root_dir (string): Directory with all the images.\n",
    "            transform (callable, optional): Optional transform to be applied\n",
    "                on a sample.\n",
    "        \"\"\"\n",
    "        self.root_dir = root_dir\n",
    "        self.stroke_dir = npy_file\n",
    "        self.photo_dir = os.path.join(root_dir,'photo')\n",
    "        self.strokes = np.load(npy_file)[()]\n",
    "        self.transform = transform\n",
    "    \n",
    "    def __len__(self):\n",
    "        return len(self.strokes['airplane'][0])\n",
    "\n",
    "    def __getitem__(self, idx):\n",
    "        img_name = os.path.join(self.photo_dir,'airplane',X['airplane'][1][idx]+ '.jpg')\n",
    "        photo = io.imread(img_name)\n",
    "        photo = photo.astype(float)\n",
    "        strokes = self.strokes['airplane'][0][idx]\n",
    "        sample = {'photo': photo, 'strokes': strokes,'name': X['airplane'][1][idx]+ '.jpg'}\n",
    "        \n",
    "        if self.transform:\n",
    "            sample = self.transform(sample)\n",
    "\n",
    "        return sample    \n",
    "\n",
    "class ToTensor(object):\n",
    "    \"\"\"Convert ndarrays in sample to Tensors.\"\"\"\n",
    "\n",
    "    def __call__(self, sample):\n",
    "        image, strokes, name = sample['photo'], sample['strokes'], sample['name']\n",
    "\n",
    "        # swap color axis because\n",
    "        # numpy image: H x W x C\n",
    "        # torch image: C X H X W\n",
    "        image = image.transpose((2, 0, 1))        \n",
    "        return {'tensor': tf.divide(tf.stack(sample['photo']),255),\n",
    "                'strokes': strokes,\n",
    "                'name': name,\n",
    "                'photo': image}    \n",
    "\n",
    "def to_normal_strokes(big_stroke):\n",
    "    \"\"\"Convert from stroke-5 format (from sketch-rnn paper) back to stroke-3.\"\"\"\n",
    "    l = 0\n",
    "    for i in range(len(big_stroke)):\n",
    "        if big_stroke[i, 4] > 0:\n",
    "            l = i\n",
    "            break\n",
    "    if l == 0:\n",
    "        l = len(big_stroke)\n",
    "    result = np.zeros((l, 3))\n",
    "    result[:, 0:2] = big_stroke[0:l, 0:2]\n",
    "    result[:, 2] = big_stroke[0:l, 3]\n",
    "    return result    \n",
    "    \n",
    "def strokes_to_lines(strokes):\n",
    "    \"\"\"\n",
    "    Convert stroke-3 format to polyline format.\n",
    "    List contains sublist of continuous line segments (strokes).    \n",
    "    \"\"\"\n",
    "    x = 0\n",
    "    y = 0\n",
    "    lines = []\n",
    "    line = []\n",
    "    for i in range(len(strokes)):\n",
    "        if strokes[i, 2] == 1:\n",
    "            x += float(strokes[i, 0])\n",
    "            y += float(strokes[i, 1])\n",
    "            line.append([x, y])\n",
    "            lines.append(line)\n",
    "            line = []\n",
    "        else:\n",
    "            x += float(strokes[i, 0])\n",
    "            y += float(strokes[i, 1])\n",
    "            line.append([x, y])\n",
    "    return lines\n",
    "\n",
    "def polyline_pathmaker(lines):\n",
    "    x = []\n",
    "    y = []\n",
    "\n",
    "    codes = [Path.MOVETO] # start with moveto command always\n",
    "    for i,l in enumerate(lines):\n",
    "        for _i,_l in enumerate(l):\n",
    "            x.append(_l[0])\n",
    "            y.append(_l[1])\n",
    "            if _i<len(l)-1:\n",
    "                codes.append(Path.LINETO) # keep pen on page\n",
    "            else:\n",
    "                if i != len(lines)-1: # final vertex\n",
    "                    codes.append(Path.MOVETO)\n",
    "    verts = zip(x,y)            \n",
    "    return verts, codes\n",
    "\n",
    "def path_renderer(verts, codes):\n",
    "    path = Path(verts, codes)\n",
    "    patch = patches.PathPatch(path, facecolor='none', lw=2)\n",
    "    ax.add_patch(patch)\n",
    "    ax.set_xlim(0,max(max(verts)))\n",
    "    ax.set_ylim(0,max(max(verts)))\n",
    "    ax.axis('off')\n",
    "    plt.gca().invert_yaxis() # y values increase as you go down in image\n",
    "    plt.show()"
   ]
  },
  {
   "cell_type": "code",
   "execution_count": 94,
   "metadata": {},
   "outputs": [
    {
     "name": "stdout",
     "output_type": "stream",
     "text": [
      "batch_render_tiny_intermediates.ipynb   \u001b[0m\u001b[01;34mpix2svg\u001b[0m/\r\n",
      "\u001b[01;34mcheckpoints\u001b[0m/                            README.md\r\n",
      "helpers.py                              \u001b[01;34msketchy\u001b[0m/\r\n",
      "helpers.pyc                             \u001b[01;35mtest.png\u001b[0m\r\n",
      "LICENSE                                 tf_sketchy.ipynb\r\n",
      "mdn.py                                  \u001b[01;34mtiny\u001b[0m/\r\n",
      "mdn.pyc                                 \u001b[01;34m___tiny_intermediates\u001b[0m/\r\n",
      "mixture_density_network_tutorial.ipynb  \u001b[01;34mtiny_intermediates\u001b[0m/\r\n",
      "\u001b[01;34mMNIST_data\u001b[0m/                             \u001b[01;34mtiny_intermediates_resized\u001b[0m/\r\n"
     ]
    }
   ],
   "source": [
    "%ls"
   ]
  },
  {
   "cell_type": "code",
   "execution_count": 95,
   "metadata": {
    "collapsed": true
   },
   "outputs": [],
   "source": [
    "## load in airplanes dataset\n",
    "airplanes = TinyDataset(npy_file='/home/jefan/ptsketchy/tiny/airplane.npy',root_dir='/home/jefan/ptsketchy/tiny',transform=None)"
   ]
  },
  {
   "cell_type": "code",
   "execution_count": 96,
   "metadata": {},
   "outputs": [
    {
     "name": "stdout",
     "output_type": "stream",
     "text": [
      "(100, (256, 256, 3), (99, 5))\n"
     ]
    },
    {
     "data": {
      "image/png": "[encoded data removed]",
      "text/plain": [
       "<matplotlib.figure.Figure at 0x7fd68417f850>"
      ]
     },
     "metadata": {},
     "output_type": "display_data"
    }
   ],
   "source": [
    "## display given photo and corresponding sketch from stroke-5 representation\n",
    "i = 100\n",
    "sample = airplanes[i]\n",
    "print(i, sample['photo'].shape, sample['strokes'].shape)\n",
    "\n",
    "plt.figure()\n",
    "ax = plt.subplot(121)\n",
    "ax.set_title(sample['name'])\n",
    "ax.axis('off')\n",
    "img = np.reshape(sample['photo'],(256,256,3))\n",
    "plt.imshow(img,interpolation='nearest')\n",
    "\n",
    "ax = plt.subplot(122)\n",
    "lines = strokes_to_lines(to_normal_strokes(sample['strokes']))\n",
    "verts,codes = polyline_pathmaker(lines)\n",
    "path_renderer(verts,codes)\n",
    "\n",
    "plt.show()"
   ]
  },
  {
   "cell_type": "code",
   "execution_count": 97,
   "metadata": {
    "collapsed": true
   },
   "outputs": [],
   "source": [
    "# load in airplanes dataset\n",
    "airplanes = TinyDataset(npy_file='/home/jefan/ptsketchy/tiny/airplane.npy',\n",
    "                        root_dir='/home/jefan/ptsketchy/tiny',\n",
    "                        transform=ToTensor())"
   ]
  },
  {
   "cell_type": "code",
   "execution_count": 98,
   "metadata": {
    "collapsed": true
   },
   "outputs": [],
   "source": [
    "# load in features for photos\n",
    "path_to_features = 'sketchy/triplet_features'\n",
    "photo_features = np.load(os.path.join(path_to_features,'photo_features.npy'))\n",
    "F = photo_features"
   ]
  },
  {
   "cell_type": "code",
   "execution_count": 99,
   "metadata": {
    "collapsed": true
   },
   "outputs": [],
   "source": [
    "# read in filenames and generate pandas dataframe with object labels\n",
    "_filenames = pd.read_csv(os.path.join(path_to_features,'photo_filenames.txt'),header=None,names=['filename'])\n",
    "\n",
    "filenames = []\n",
    "for i in range(len(_filenames)):\n",
    "    filenames.append(_filenames[_filenames.index==i].values[0][0])\n",
    "filenames = ['sketchy' + f[1:] for f in filenames]\n",
    "path = filenames\n",
    "obj = [f.split('/')[3] for f in filenames]\n",
    "img = [f.split('/')[4] for f in filenames]\n",
    "\n",
    "data = {'path': path,\n",
    "         'object': obj,\n",
    "         'filename': img}\n",
    "X = pd.DataFrame.from_dict(data)"
   ]
  },
  {
   "cell_type": "code",
   "execution_count": 100,
   "metadata": {
    "collapsed": true
   },
   "outputs": [],
   "source": [
    "# subset airplane features only\n",
    "matches = X['object']=='airplane'\n",
    "inds = np.where(matches==True)\n",
    "X0 = X[matches]\n",
    "F0 = F[inds]"
   ]
  },
  {
   "cell_type": "code",
   "execution_count": null,
   "metadata": {
    "collapsed": true
   },
   "outputs": [],
   "source": []
  },
  {
   "cell_type": "code",
   "execution_count": 101,
   "metadata": {
    "collapsed": true
   },
   "outputs": [],
   "source": [
    "# construct (11094,1024) version of photo feature matrix, called PF, that matches indexing of the sketch feature matrix\n",
    "sketch_features = np.load('sketchy/airplane_features/airplane_sketch_features.npy')\n",
    "_sketch_filenames = pd.read_csv('sketchy/airplane_features/airplane_sketch_filenames.txt',header=None,names=['filename'])\n",
    "sketch_filenames = []\n",
    "for i in range(len(_sketch_filenames)):\n",
    "    sketch_filenames.append(_sketch_filenames[_sketch_filenames.index==i].values[0][0])\n",
    "PF = []\n",
    "inds = [] \n",
    "for sf in sketch_filenames:\n",
    "    q = sf.split('/')[2]+'.jpg'\n",
    "    PF.append(F0[X0['filename']==q])\n",
    "    inds.append(np.where(X0['filename']==q)[0][0])\n",
    "PF = np.squeeze(np.array(PF))\n",
    "SF = sketch_features\n",
    "inds = np.array(inds)\n",
    "\n",
    "## zip together/concatenate the photo and sketch features\n",
    "_F = np.hstack((PF,SF))"
   ]
  },
  {
   "cell_type": "code",
   "execution_count": 102,
   "metadata": {
    "collapsed": true
   },
   "outputs": [],
   "source": [
    "### now get a (11094,5) representation of the 'next stroke'\n",
    "### no wait, instead, just bump up the dimensionality of these feature matrices to fit that of \n",
    "### the (delta_x,delta_y) stroke representation\n",
    "### Strokes dataframe (\"S\") is of dimensionality (55855,5).\n",
    "### So, resize and re-index the feature matrix to match S. \n",
    "\n",
    "S = pd.read_csv('tiny/stroke_dataframe.csv')\n",
    "S1 = S\n",
    "photo_dir = np.array([sf.split('/')[2] for sf in sketch_filenames]) # photo dir\n",
    "sketch_dir = np.array(map(int,[sf.split('/')[3] for sf in sketch_filenames])) # sketch dir\n",
    "stroke_png = np.array(map(int,[sf.split('/')[4].split('.')[0] for sf in sketch_filenames])) # stroke png\n",
    "\n",
    "F = []\n",
    "for index, row in S.iterrows():\n",
    "    # get ind of the original small (11094,5) matrix that corresponds to this row of S (55855,5)\n",
    "    ind = np.intersect1d(np.intersect1d(np.where(photo_dir==row['photoID']),\n",
    "              np.where(sketch_dir==row['sketchID'])),\n",
    "              np.where(stroke_png==row['strokeID']))[0]\n",
    "    F.append(_F[ind])\n",
    "    \n",
    "F = np.array(F)\n",
    "F1 = F # protected F1 matrix"
   ]
  },
  {
   "cell_type": "markdown",
   "metadata": {},
   "source": [
    "### convert strokes matrix from absolute to relative coordinates "
   ]
  },
  {
   "cell_type": "code",
   "execution_count": 103,
   "metadata": {
    "collapsed": true
   },
   "outputs": [],
   "source": [
    "from copy import deepcopy\n",
    "unique_photos = np.unique(S1.photoID)\n",
    "r = pd.DataFrame(columns=list(S1.keys()))\n",
    "\n",
    "run_this = False\n",
    "if run_this:\n",
    "    for i, p in enumerate(unique_photos):\n",
    "        print 'Processing ' + p + ': ' + str(i+1) + ' of ' + str(len(unique_photos)) + ' photos.'\n",
    "        s1 = S1[S1.photoID==p]\n",
    "        unique_sketches_of_photo = np.unique(s1.sketchID)\n",
    "        for sketch in unique_sketches_of_photo:\n",
    "            this_sketch = s1[s1.sketchID==sketch]\n",
    "            for index, row in this_sketch.iterrows():\n",
    "                _row = deepcopy(row)\n",
    "                if index==min(this_sketch.index): # first stroke\n",
    "                    r = r.append(row)\n",
    "                    this_x = row.x\n",
    "                    this_y = row.y\n",
    "                else:\n",
    "                    x_offset = _row.x-this_x\n",
    "                    y_offset = _row.y-this_y\n",
    "                    row.x = x_offset\n",
    "                    row.y = y_offset\n",
    "                    r = r.append(row)\n",
    "                this_x = _row.x # hold onto current row so you can compute difference with next one\n",
    "                this_y = _row.y\n",
    "    # save out relative strokes matrix as S2\n",
    "    S2 = r   \n",
    "    print 'Saving out stroke_dataframe_relative.csv'\n",
    "    S2.to_csv('tiny/stroke_dataframe_relative.csv')"
   ]
  },
  {
   "cell_type": "code",
   "execution_count": null,
   "metadata": {
    "collapsed": true
   },
   "outputs": [],
   "source": []
  },
  {
   "cell_type": "code",
   "execution_count": 104,
   "metadata": {},
   "outputs": [
    {
     "name": "stdout",
     "output_type": "stream",
     "text": [
      "generating list of photo indices based on X0\n",
      "generating random index to do train/val/test split\n",
      "constructing 55855 vectors that correspond to membership in train/val/test splits\n",
      " \n",
      "45041.0 sketch intermediates to train on.\n",
      "4185.0 sketch intermediates to validate on.\n",
      "6629.0 sketch intermediates to test on.\n",
      " \n",
      "Now actually splitting data.\n"
     ]
    }
   ],
   "source": [
    "# check if S2 exists, if not, load it in\n",
    "try:\n",
    "    S2\n",
    "except:\n",
    "    S2 = pd.read_csv('tiny/stroke_dataframe_relative.csv')\n",
    "    \n",
    "# define S to either be ABSOLUTE strokes matrix (S1) or RELATIVE strokes matrix (S2)\n",
    "S = S2\n",
    "\n",
    "# generate 55855-long vector of photo indices\n",
    "print 'generating list of photo indices based on X0'\n",
    "inds = [] \n",
    "for index, row in S.iterrows():\n",
    "    q = row['photoID']+'.jpg'\n",
    "    inds.append(np.where(X0['filename']==q)[0][0])\n",
    "inds = np.array(inds)\n",
    "\n",
    "# generate random index to do train/val/test split\n",
    "print 'generating random index to do train/val/test split'\n",
    "_idx = np.arange(len(X0))\n",
    "np.random.seed(seed=0)\n",
    "np.random.shuffle(_idx)\n",
    "train_len = int(len(_idx)*0.85)\n",
    "val_len = int(len(_idx)*0.05)\n",
    "test_len = int(len(_idx*0.10))\n",
    "\n",
    "# indices of 100 photos that will go into train/val/test split\n",
    "train_inds = _idx[:train_len] \n",
    "val_inds = _idx[train_len:train_len+val_len]\n",
    "test_inds = _idx[train_len+val_len:len(_idx)]\n",
    "\n",
    "print 'constructing 55855 vectors that correspond to membership in train/val/test splits'\n",
    "# construct 55855 vectors that correspond to membership in train/val/test splits\n",
    "train_vec = np.zeros(len(F)).astype(bool)\n",
    "val_vec = np.zeros(len(F)).astype(bool)\n",
    "test_vec = np.zeros(len(F)).astype(bool)\n",
    "\n",
    "for i in train_inds:\n",
    "    train_vec[inds==i] = True\n",
    "for i in val_inds:\n",
    "    val_vec[inds==i] = True    \n",
    "for i in test_inds:\n",
    "    test_vec[inds==i] = True \n",
    "    \n",
    "assert sum(train_vec)+ sum(val_vec) + sum(test_vec) == len(train_vec)    \n",
    "print ' '\n",
    "print str(sum(train_vec)/len(train_vec) * len(F)) + ' sketch intermediates to train on.'\n",
    "print str(sum(val_vec)/len(val_vec) * len(F)) + ' sketch intermediates to validate on.'\n",
    "print str(sum(test_vec)/len(test_vec) * len(F)) + ' sketch intermediates to test on.'    \n",
    "print ' '\n",
    "print 'Now actually splitting data.'\n",
    "# now actually split data\n",
    "F_train = F[train_vec]\n",
    "F_val = F[val_vec]\n",
    "F_test = F[test_vec]\n",
    "\n",
    "S_train = S[train_vec]\n",
    "S_val = S[val_vec]\n",
    "S_test = S[test_vec]\n",
    "\n",
    "S_train = S_train[['x', 'y', 'pen']].copy()\n",
    "S_val = S_val[['x', 'y', 'pen']].copy()\n",
    "S_test = S_test[['x', 'y', 'pen']].copy()"
   ]
  },
  {
   "cell_type": "code",
   "execution_count": 105,
   "metadata": {
    "collapsed": true
   },
   "outputs": [],
   "source": [
    "## training helpers\n",
    "def minibatch(data, minibatch_idx):\n",
    "    return data[minibatch_idx] if type(data) is np.ndarray else [data[i] for i in minibatch_idx] \n",
    "\n",
    "def minibatches(data, batch_size, shuffle=True):\n",
    "    batches = [np.array(col) for col in zip(*data)]\n",
    "    return get_minibatches(batches, batch_size, shuffle)\n",
    "\n",
    "def get_minibatches(data, minibatch_size, shuffle=True):\n",
    "    \"\"\"\n",
    "    Iterates through the provided data one minibatch at at time. You can use this function to\n",
    "    iterate through data in minibatches as follows:\n",
    "        for inputs_minibatch in get_minibatches(inputs, minibatch_size):\n",
    "            ...\n",
    "    Or with multiple data sources:\n",
    "        for inputs_minibatch, labels_minibatch in get_minibatches([inputs, labels], minibatch_size):\n",
    "            ...\n",
    "    Args:\n",
    "        data: there are two possible values:\n",
    "            - a list or numpy array\n",
    "            - a list where each element is either a list or numpy array\n",
    "        minibatch_size: the maximum number of items in a minibatch\n",
    "        shuffle: whether to randomize the order of returned data\n",
    "    Returns:\n",
    "        minibatches: the return value depends on data:\n",
    "            - If data is a list/array it yields the next minibatch of data.\n",
    "            - If data a list of lists/arrays it returns the next minibatch of each element in the\n",
    "              list. This can be used to iterate through multiple data sources\n",
    "              (e.g., features and labels) at the same time.\n",
    "    \"\"\"\n",
    "    list_data = type(data) is list and (type(data[0]) is list or type(data[0]) is np.ndarray)\n",
    "    data_size = len(data[0]) if list_data else len(data)\n",
    "    indices = np.arange(data_size)\n",
    "    if shuffle:\n",
    "        np.random.shuffle(indices)\n",
    "    for minibatch_start in np.arange(0, data_size, minibatch_size):\n",
    "        minibatch_indices = indices[minibatch_start:minibatch_start + minibatch_size]\n",
    "        yield [minibatch(d, minibatch_indices) for d in data] if list_data \\\n",
    "            else minibatch(data, minibatch_indices), minibatch_indices\n",
    "\n",
    "# usage notes:\n",
    "# for m in get_minibatches([F_train,S_train.as_matrix()],batch_size,shuffle=True):\n",
    "#     print len(m),m[0].shape,m[1].shape"
   ]
  },
  {
   "cell_type": "code",
   "execution_count": null,
   "metadata": {
    "collapsed": true
   },
   "outputs": [],
   "source": []
  },
  {
   "cell_type": "code",
   "execution_count": null,
   "metadata": {
    "collapsed": true
   },
   "outputs": [],
   "source": []
  },
  {
   "cell_type": "markdown",
   "metadata": {},
   "source": [
    "### quality assurance make sure that image classification is working as advertised based on triplet features"
   ]
  },
  {
   "cell_type": "code",
   "execution_count": 106,
   "metadata": {
    "collapsed": true
   },
   "outputs": [],
   "source": [
    "import numpy as np\n",
    "from sklearn.model_selection import train_test_split\n",
    "from sklearn.model_selection import cross_val_score\n",
    "from sklearn import svm\n",
    "\n",
    "# reminders:\n",
    "# S1 is stroke matrix\n",
    "# F1 is feature matrix\n",
    "# PF is photo-feature matrix\n",
    "# SF is sketch-feature matrix\n",
    "\n",
    "# get np.array of source photo labels\n",
    "photos = np.array([sf.split('/')[2] for sf in sketch_filenames])"
   ]
  },
  {
   "cell_type": "code",
   "execution_count": 107,
   "metadata": {
    "collapsed": true
   },
   "outputs": [],
   "source": [
    "run_this = 0\n",
    "if run_this:\n",
    "    # split sketch feature data for linear classification\n",
    "    X_train, X_test, y_train, y_test = train_test_split(\n",
    "        SF, photos, test_size=0.2, random_state=0)\n",
    "\n",
    "    # check dimensionality of split data\n",
    "    print 'dimensionality of train/test split'\n",
    "    print X_train.shape, y_train.shape\n",
    "    print X_test.shape, y_test.shape\n",
    "    print ' '\n",
    "    cval = True\n",
    "    if cval==False:\n",
    "        # compute linear classification accuracy (takes a minute or so to run)\n",
    "        clf = svm.SVC(kernel='linear', C=1).fit(X_train, y_train)\n",
    "        clf.score(X_test, y_test)   \n",
    "    else:\n",
    "        # compute linear classification accuracy (takes several minutes to run)       \n",
    "        clf = svm.SVC(kernel='linear', C=1)\n",
    "        scores = cross_val_score(clf, SF, photos, cv=5)\n",
    "        print(\"Accuracy: %0.2f (+/- %0.2f)\" % (scores.mean(), scores.std() * 2))\n",
    "        ## Accuracy: 0.41 (+/- 0.08) achieved on 6/26/17"
   ]
  },
  {
   "cell_type": "code",
   "execution_count": null,
   "metadata": {
    "collapsed": true
   },
   "outputs": [],
   "source": []
  },
  {
   "cell_type": "code",
   "execution_count": null,
   "metadata": {
    "collapsed": true
   },
   "outputs": [],
   "source": []
  },
  {
   "cell_type": "markdown",
   "metadata": {},
   "source": [
    "### draft of model for single minibatch"
   ]
  },
  {
   "cell_type": "code",
   "execution_count": 19,
   "metadata": {
    "collapsed": true
   },
   "outputs": [],
   "source": [
    "RANDOM_SEED = 42\n",
    "tf.set_random_seed(RANDOM_SEED)\n",
    "\n",
    "# reset entire graph\n",
    "tf.reset_default_graph()\n",
    "sess = tf.InteractiveSession()\n",
    "\n",
    "# weight on offset loss\n",
    "offset_weight = 100.\n",
    "\n",
    "# learning rate\n",
    "learning_rate = 0.01\n",
    "\n",
    "# get minibatch\n",
    "batch_size = 10\n",
    "F_batch = F_train[:batch_size,:]\n",
    "S_batch = S_train.head(n=batch_size)\n",
    "\n",
    "# reserve numpy version \n",
    "F_batch_array = F_batch\n",
    "S_batch_array = S_batch.as_matrix().astype('float32')\n",
    "\n",
    "# convert to tensorflow tensor\n",
    "F_batch = tf.cast(tf.stack(F_batch,name='F_batch'),tf.float32)\n",
    "S_batch = tf.cast(tf.stack(S_batch.as_matrix().astype('float32'),name='S_batch'),tf.float32)\n",
    "\n",
    "# Layer's sizes\n",
    "x_size = F_batch.shape[1]   # Number of input nodes: 2048 features and 1 bias\n",
    "h_size = 256                # Number of hidden nodes\n",
    "y_size = S_batch.shape[1]   # Number of outcomes (x,y,pen)\n",
    "\n",
    "# Symbols\n",
    "X = tf.placeholder(\"float\", shape=[None, x_size])\n",
    "y = tf.placeholder(\"float\", shape=[None, y_size])\n",
    "output = tf.placeholder(\"float\", shape=[None,y_size])\n",
    "\n",
    "# Weight initializations\n",
    "W1 = tf.get_variable('W1', [x_size, h_size],initializer=tf.contrib.layers.xavier_initializer(), dtype=tf.float32)\n",
    "b1 = tf.get_variable('b1', [h_size],initializer=tf.zeros_initializer(), dtype=tf.float32)\n",
    "\n",
    "W2 = tf.get_variable('W2', [h_size, h_size],initializer=tf.contrib.layers.xavier_initializer(), dtype=tf.float32)\n",
    "b2 = tf.get_variable('b2', [h_size],initializer=tf.zeros_initializer(), dtype=tf.float32)\n",
    "\n",
    "W3 = tf.get_variable('W3', [h_size, y_size],initializer=tf.contrib.layers.xavier_initializer(), dtype=tf.float32)\n",
    "b3 = tf.get_variable('b3', [y_size],initializer=tf.zeros_initializer(), dtype=tf.float32)\n",
    "\n",
    "# forward propagation\n",
    "fc1 = tf.nn.relu(tf.nn.xw_plus_b(F_batch, W1, b1,name='fc1'))\n",
    "fc2 = tf.nn.relu(tf.nn.xw_plus_b(fc1, W2, b2,name='fc2'))\n",
    "output = tf.nn.xw_plus_b(fc1, W3, b3,name='output')\n",
    "\n",
    "actual_offset = tf.slice(S_batch,[0,0],[batch_size,2])\n",
    "actual_pen = tf.slice(S_batch,[0,2],[batch_size,-1]) \n",
    "pred_offset = tf.multiply(tf.slice(output,[0,0],[batch_size,2]),offset_weight)\n",
    "pred_pen = tf.nn.softmax(tf.slice(output,[0,2],[batch_size,-1]))\n",
    "# currently doesn't properly handle the pen state loss\n",
    "offset_loss = tf.reduce_sum(tf.sqrt(tf.reduce_sum(tf.square(tf.subtract(pred_offset,actual_offset)),axis=1)))\n",
    "pen_loss = tf.reduce_mean(tf.nn.softmax_cross_entropy_with_logits(\n",
    "            labels = actual_pen,\n",
    "            logits = pred_pen))\n",
    "\n",
    "loss = tf.add(offset_loss,pen_loss)\n",
    "\n",
    "# run backprop\n",
    "optimizer = tf.train.AdamOptimizer(learning_rate)\n",
    "train_op = optimizer.minimize(loss)\n",
    "\n",
    "# # get predicted stroke vector\n",
    "strokes = tf.concat([pred_offset, pred_pen],axis=1)\n",
    "\n",
    "tf.global_variables_initializer().run()\n",
    "\n",
    "\n",
    "# sess.close()"
   ]
  },
  {
   "cell_type": "code",
   "execution_count": 20,
   "metadata": {
    "collapsed": true
   },
   "outputs": [],
   "source": [
    "updates = sess.run([fc1,output,pred_offset,\n",
    "                    pred_pen,actual_offset, actual_pen,\n",
    "                    offset_loss,pen_loss,loss,\n",
    "                    train_op,strokes], feed_dict={X:F_batch_array,y:S_batch_array})"
   ]
  },
  {
   "cell_type": "code",
   "execution_count": null,
   "metadata": {
    "collapsed": true
   },
   "outputs": [],
   "source": []
  },
  {
   "cell_type": "code",
   "execution_count": 140,
   "metadata": {
    "collapsed": true
   },
   "outputs": [],
   "source": [
    "fc1 = updates[0]\n",
    "output = updates[1]\n",
    "pred_offset = updates[2]\n",
    "pred_pen = updates[3]\n",
    "actual_offset = updates[4]\n",
    "actual_pen = updates[5]\n",
    "offset_loss = updates[6]\n",
    "pen_loss = updates[7]\n",
    "loss = updates[8]\n",
    "train_op = updates[9]\n",
    "strokes = updates[10]\n",
    "\n"
   ]
  },
  {
   "cell_type": "code",
   "execution_count": null,
   "metadata": {
    "collapsed": true
   },
   "outputs": [],
   "source": []
  },
  {
   "cell_type": "code",
   "execution_count": null,
   "metadata": {
    "collapsed": true
   },
   "outputs": [],
   "source": []
  },
  {
   "cell_type": "code",
   "execution_count": null,
   "metadata": {
    "collapsed": true
   },
   "outputs": [],
   "source": []
  },
  {
   "cell_type": "code",
   "execution_count": null,
   "metadata": {
    "collapsed": true
   },
   "outputs": [],
   "source": []
  },
  {
   "cell_type": "code",
   "execution_count": 149,
   "metadata": {},
   "outputs": [
    {
     "data": {
      "text/plain": [
       "TensorShape([Dimension(None), Dimension(2048)])"
      ]
     },
     "execution_count": 149,
     "metadata": {},
     "output_type": "execute_result"
    }
   ],
   "source": []
  },
  {
   "cell_type": "markdown",
   "metadata": {},
   "source": [
    "###  run multiple batches of MLP version"
   ]
  },
  {
   "cell_type": "code",
   "execution_count": 108,
   "metadata": {
    "collapsed": true
   },
   "outputs": [],
   "source": [
    "RANDOM_SEED = 42\n",
    "tf.set_random_seed(RANDOM_SEED)\n",
    "\n",
    "# reset entire graph\n",
    "tf.reset_default_graph()\n",
    "\n",
    "# weight on offset loss\n",
    "offset_weight = 0.1\n",
    "\n",
    "# amount to multiply predicted offset values by\n",
    "offset_multiplier = 100.\n",
    "\n",
    "# learning rate\n",
    "learning_rate = 0.001\n",
    "\n",
    "# set batch size\n",
    "batch_size = 10\n",
    "\n",
    "# epoch counter\n",
    "epoch_num = 0\n",
    "\n",
    "# feed in only current features, or also features on the next time step as well?\n",
    "now_plus_next = True\n",
    "\n",
    "# initialize variables\n",
    "if now_plus_next:\n",
    "    F = tf.placeholder(\"float\", shape=[None, 4096])  # features (input)\n",
    "else:\n",
    "    F = tf.placeholder(\"float\", shape=[None, 2048])  # features (input)\n",
    "S = tf.placeholder(\"float\", shape=[None, 3]) # strokes (output)\n",
    "\n",
    "# Layer's sizes\n",
    "x_size = F.shape[1]   # Number of input nodes: 2048 features and 1 bias\n",
    "h_size = 256        # Number of hidden nodes\n",
    "y_size = S.shape[1]   # Number of outcomes (x,y,pen)\n",
    "\n",
    "output = tf.placeholder(\"float\", shape=[None,y_size])\n",
    "\n",
    "# convert to tensorflow tensor\n",
    "F = tf.cast(tf.stack(F,name='F'),tf.float32)\n",
    "S = tf.cast(tf.stack(S,name='S'),tf.float32)\n",
    "\n",
    "# Weight initializations\n",
    "W1 = tf.get_variable('W1', [x_size, h_size],initializer=tf.contrib.layers.xavier_initializer(), dtype=tf.float32)\n",
    "b1 = tf.get_variable('b1', [h_size],initializer=tf.zeros_initializer(), dtype=tf.float32)\n",
    "\n",
    "W2 = tf.get_variable('W2', [h_size, h_size],initializer=tf.contrib.layers.xavier_initializer(), dtype=tf.float32)\n",
    "b2 = tf.get_variable('b2', [h_size],initializer=tf.zeros_initializer(), dtype=tf.float32)\n",
    "\n",
    "W3 = tf.get_variable('W3', [h_size, y_size],initializer=tf.contrib.layers.xavier_initializer(), dtype=tf.float32)\n",
    "b3 = tf.get_variable('b3', [y_size],initializer=tf.zeros_initializer(), dtype=tf.float32)\n",
    "\n",
    "# forward propagation\n",
    "fc1 = tf.nn.relu(tf.nn.xw_plus_b(F, W1, b1,name='fc1'))\n",
    "fc2 = tf.nn.relu(tf.nn.xw_plus_b(fc1, W2, b2,name='fc2'))\n",
    "output = tf.nn.xw_plus_b(fc1, W3, b3,name='output')\n",
    "\n",
    "actual_offset = tf.slice(So,[0,0],[batch_size,2])\n",
    "actual_pen = tf.squeeze(tf.slice(So,[0,2],[batch_size,-1]))\n",
    "pred_offset = tf.multiply(tf.slice(output,[0,0],[batch_size,2]),offset_multiplier)\n",
    "pred_pen = tf.squeeze(tf.slice(output,[0,2],[batch_size,-1]))\n",
    "\n",
    "offset_loss = tf.reduce_sum(tf.sqrt(tf.reduce_sum(tf.square(tf.subtract(pred_offset,actual_offset)),axis=1)))\n",
    "pen_loss = tf.reduce_mean(tf.nn.softmax_cross_entropy_with_logits(\n",
    "            labels = actual_pen,\n",
    "            logits = pred_pen))\n",
    "\n",
    "loss = tf.add(tf.multiply(offset_weight,offset_loss),pen_loss)\n",
    "\n",
    "# run backprop\n",
    "optimizer = tf.train.AdamOptimizer(learning_rate)\n",
    "train_op = optimizer.minimize(loss)\n",
    "\n",
    "# saver\n",
    "save = False\n",
    "saver = tf.train.Saver()\n",
    "\n",
    "# get predicted stroke vector\n",
    "strokes = tf.concat([pred_offset, tf.expand_dims(pred_pen,1)],axis=1)\n",
    "\n",
    "# run batches\n",
    "with tf.Session() as sess:\n",
    "    tf.global_variables_initializer().run()\n",
    "    for m,idx in get_minibatches([F_train,S_train.as_matrix().astype('float32')],batch_size,shuffle=True):        \n",
    "        \n",
    "        if m[0].shape[0]==batch_size:\n",
    "            F_batch = m[0]\n",
    "            S_batch = m[1] \n",
    "            \n",
    "            # use idx to retrieve the features of the subsequent row in the feature matrix, so you\n",
    "            # effectively feed in sketch_so_far and sketch_so_far_plus_next_xy, as well as pen (absolute?) location and state\n",
    "            if (max(idx)<45040):\n",
    "                F_batch_next = F_train[idx+1].shape \n",
    "                F_now_plus_next = np.hstack((F_train[idx],F_train[idx+1]))\n",
    "            \n",
    "            if (now_plus_next) & (max(idx)<45040):\n",
    "                updates = sess.run([offset_loss, pen_loss, loss, pred_offset], feed_dict={F:F_now_plus_next,S:S_batch})\n",
    "            else:\n",
    "                try:\n",
    "                    updates = sess.run([offset_loss, pen_loss, loss, pred_offset], feed_dict={F:F_batch,S:S_batch}) \n",
    "                except:\n",
    "                    pass\n",
    "\n",
    "            offset_loss_ = updates[0]\n",
    "            pen_loss_ = updates[1]\n",
    "            loss_ = updates[2]\n",
    "            pred_offset_ = updates[3]\n",
    "\n",
    "            if epoch_num%200==0:\n",
    "                print \"Epoch: \" + str(epoch_num) + \" | Loss: \" + str(loss_) + \\\n",
    "                \" | Offset loss: \" + str(offset_loss_) + \" | Pen loss: \" + str(pen_loss_)\n",
    "\n",
    "            # save\n",
    "            if save:\n",
    "                saver.save(sess, 'checkpoints/pix2svg_train_0')\n",
    "                \n",
    "            # increment epoch number\n",
    "            epoch_num += 1\n"
   ]
  },
  {
   "cell_type": "code",
   "execution_count": null,
   "metadata": {
    "collapsed": true
   },
   "outputs": [],
   "source": [
    "## meeting notes\n",
    "# june 26: validate triplet network to make sure it does the task -- QA\n",
    "# does it take in pen location? put in pen location, pen state \n",
    "# put in sketch so far + (sketch so far +1)\n",
    "# delta x, delta y -- make sure the thing it spits out, after getting squashed by tanh, or whatever, is well centered\n"
   ]
  },
  {
   "cell_type": "markdown",
   "metadata": {},
   "source": [
    "### simpler version that goes from last pen offset to next pen offset"
   ]
  },
  {
   "cell_type": "code",
   "execution_count": 110,
   "metadata": {},
   "outputs": [
    {
     "name": "stdout",
     "output_type": "stream",
     "text": [
      "Epoch: 0 | Loss: 8250.34 | Offset loss: 10273.1 | Pen loss: 159.433\n",
      "Epoch: 200 | Loss: 5645.42 | Offset loss: 7020.43 | Pen loss: 145.378\n",
      "Epoch: 400 | Loss: 8678.95 | Offset loss: 10783.6 | Pen loss: 260.344\n",
      "Epoch: 600 | Loss: 4909.4 | Offset loss: 6119.17 | Pen loss: 70.3102\n",
      "Epoch: 800 | Loss: 7867.83 | Offset loss: 9817.23 | Pen loss: 70.2685\n",
      "Epoch: 1000 | Loss: 2980.32 | Offset loss: 3712.18 | Pen loss: 52.8845\n",
      "Epoch: 1200 | Loss: 6821.04 | Offset loss: 8498.8 | Pen loss: 110.025\n",
      "Epoch: 1400 | Loss: 8527.17 | Offset loss: 10632.4 | Pen loss: 106.13\n",
      "Epoch: 1600 | Loss: 6072.67 | Offset loss: 7574.29 | Pen loss: 66.2271\n",
      "Epoch: 1800 | Loss: 6337.97 | Offset loss: 7834.5 | Pen loss: 351.836\n",
      "Epoch: 2000 | Loss: 10150.8 | Offset loss: 12651.0 | Pen loss: 149.963\n",
      "Epoch: 2200 | Loss: 3221.87 | Offset loss: 4009.85 | Pen loss: 69.9651\n",
      "Epoch: 2400 | Loss: 7817.52 | Offset loss: 9739.13 | Pen loss: 131.052\n",
      "Epoch: 2600 | Loss: 2849.59 | Offset loss: 3548.3 | Pen loss: 54.7421\n",
      "Epoch: 2800 | Loss: 7948.94 | Offset loss: 9887.3 | Pen loss: 195.522\n",
      "Epoch: 3000 | Loss: 12629.5 | Offset loss: 15757.5 | Pen loss: 117.646\n",
      "Epoch: 3200 | Loss: 3830.88 | Offset loss: 4769.15 | Pen loss: 77.7746\n",
      "Epoch: 3400 | Loss: 4502.43 | Offset loss: 5598.59 | Pen loss: 117.814\n",
      "Epoch: 3600 | Loss: 13247.9 | Offset loss: 16517.6 | Pen loss: 168.919\n",
      "Epoch: 3800 | Loss: 6957.13 | Offset loss: 8674.43 | Pen loss: 87.9368\n",
      "Epoch: 4000 | Loss: 5322.95 | Offset loss: 6609.43 | Pen loss: 177.03\n",
      "Epoch: 4200 | Loss: 3501.16 | Offset loss: 4359.94 | Pen loss: 66.0247\n",
      "Epoch: 4400 | Loss: 3366.67 | Offset loss: 4193.48 | Pen loss: 59.4112\n"
     ]
    }
   ],
   "source": [
    "## now try simpler version that just tries to predict the next offset based on previous offset \n",
    "\n",
    "RANDOM_SEED = 42\n",
    "tf.set_random_seed(RANDOM_SEED)\n",
    "\n",
    "# reset entire graph\n",
    "tf.reset_default_graph()\n",
    "\n",
    "# weight on offset loss\n",
    "offset_weight = 0.8\n",
    "\n",
    "# amount to multiply predicted offset values by\n",
    "offset_multiplier = 100.\n",
    "\n",
    "# learning rate\n",
    "learning_rate = 0.001\n",
    "\n",
    "# set batch size\n",
    "batch_size = 10\n",
    "\n",
    "# epoch counter\n",
    "epoch_num = 0\n",
    "\n",
    "# initialize variables\n",
    "Si = tf.placeholder(\"float\", shape=[None, 3]) # strokes (input)\n",
    "So = tf.placeholder(\"float\", shape=[None, 3]) # strokes (output)\n",
    "\n",
    "# Layer's sizes\n",
    "x_size = Si.shape[1]   # Number of input nodes: x, y, state\n",
    "h_size = 256        # Number of hidden nodes\n",
    "y_size = So.shape[1]   # Number of outcomes (x,y,pen)\n",
    "\n",
    "output = tf.placeholder(\"float\", shape=[None,y_size])\n",
    "\n",
    "# convert to tensorflow tensor\n",
    "Si = tf.cast(tf.stack(Si,name='Si'),tf.float32)\n",
    "So = tf.cast(tf.stack(So,name='So'),tf.float32)\n",
    "\n",
    "# Weight initializations\n",
    "W1 = tf.get_variable('W1', [x_size, h_size],initializer=tf.contrib.layers.xavier_initializer(), dtype=tf.float32)\n",
    "b1 = tf.get_variable('b1', [h_size],initializer=tf.zeros_initializer(), dtype=tf.float32)\n",
    "\n",
    "W2 = tf.get_variable('W2', [h_size, h_size],initializer=tf.contrib.layers.xavier_initializer(), dtype=tf.float32)\n",
    "b2 = tf.get_variable('b2', [h_size],initializer=tf.zeros_initializer(), dtype=tf.float32)\n",
    "\n",
    "W3 = tf.get_variable('W3', [h_size, y_size],initializer=tf.contrib.layers.xavier_initializer(), dtype=tf.float32)\n",
    "b3 = tf.get_variable('b3', [y_size],initializer=tf.zeros_initializer(), dtype=tf.float32)\n",
    "\n",
    "# forward propagation\n",
    "fc1 = tf.nn.relu(tf.nn.xw_plus_b(Si, W1, b1,name='fc1'))\n",
    "fc2 = tf.nn.relu(tf.nn.xw_plus_b(fc1, W2, b2,name='fc2'))\n",
    "output = tf.nn.xw_plus_b(fc1, W3, b3,name='output')\n",
    "\n",
    "actual_offset = tf.slice(So,[0,0],[batch_size,2])\n",
    "actual_pen = tf.squeeze(tf.slice(So,[0,2],[batch_size,-1]))\n",
    "pred_offset = tf.multiply(tf.slice(output,[0,0],[batch_size,2]),offset_multiplier)\n",
    "pred_pen = tf.squeeze(tf.slice(output,[0,2],[batch_size,-1]))\n",
    "\n",
    "offset_loss = tf.reduce_sum(tf.sqrt(tf.reduce_sum(tf.square(tf.subtract(pred_offset,actual_offset)),axis=1)))\n",
    "pen_loss = tf.reduce_mean(tf.nn.softmax_cross_entropy_with_logits(\n",
    "            labels = actual_pen,\n",
    "            logits = pred_pen))\n",
    "\n",
    "loss = tf.add(tf.multiply(offset_weight,offset_loss),tf.multiply(1-offset_weight,pen_loss))\n",
    "\n",
    "# run backprop\n",
    "optimizer = tf.train.AdamOptimizer(learning_rate)\n",
    "train_op = optimizer.minimize(loss)\n",
    "\n",
    "# saver\n",
    "save = False\n",
    "saver = tf.train.Saver()\n",
    "\n",
    "# get predicted stroke vector\n",
    "strokes = tf.concat([pred_offset, tf.expand_dims(tf.round(tf.sigmoid(pred_pen)+1),1)],axis=1)\n",
    "Strokes = []\n",
    "\n",
    "# run batches\n",
    "with tf.Session() as sess:\n",
    "    tf.global_variables_initializer().run()\n",
    "    for m,idx in get_minibatches(S_train.as_matrix().astype('float32')[:len(S_train)-1],batch_size,shuffle=True):        \n",
    "\n",
    "            Si_batch = m # batch of current strokes \n",
    "            \n",
    "            if (max(idx)<45040):\n",
    "                So_batch = S_train.iloc[idx+1].as_matrix().astype('float32')\n",
    "                \n",
    "            updates = sess.run([offset_loss, pen_loss, loss, pred_offset, actual_pen, pred_pen, strokes], feed_dict={Si:Si_batch,So:So_batch}) \n",
    "\n",
    "            offset_loss_ = updates[0]\n",
    "            pen_loss_ = updates[1]\n",
    "            loss_ = updates[2]\n",
    "            pred_offset_ = updates[3]\n",
    "            actual_pen_ = updates[4]\n",
    "            pred_pen_ = updates[5]\n",
    "            strokes_ = updates[6]\n",
    "            \n",
    "            if epoch_num%200==0:\n",
    "                print \"Epoch: \" + str(epoch_num) + \" | Loss: \" + str(loss_) + \\\n",
    "                \" | Offset loss: \" + str(offset_loss_) + \" | Pen loss: \" + str(pen_loss_) \n",
    "\n",
    "            # save\n",
    "            if save:\n",
    "                saver.save(sess, 'checkpoints/pix2svg_train_svg2svg_0')\n",
    "                \n",
    "            # increment epoch number\n",
    "            epoch_num += 1\n"
   ]
  },
  {
   "cell_type": "code",
   "execution_count": null,
   "metadata": {
    "collapsed": true
   },
   "outputs": [],
   "source": []
  },
  {
   "cell_type": "code",
   "execution_count": 111,
   "metadata": {},
   "outputs": [
    {
     "data": {
      "image/png": "[encoded data removed]",
      "text/plain": [
       "<matplotlib.figure.Figure at 0x7fd5356ff490>"
      ]
     },
     "metadata": {},
     "output_type": "display_data"
    }
   ],
   "source": [
    "plt.scatter(strokes_[:,0],strokes_[:,1])\n",
    "plt.show()"
   ]
  },
  {
   "cell_type": "code",
   "execution_count": 112,
   "metadata": {},
   "outputs": [
    {
     "data": {
      "image/png": "[encoded data removed]",
      "text/plain": [
       "<matplotlib.figure.Figure at 0x7fd56bf613d0>"
      ]
     },
     "metadata": {},
     "output_type": "display_data"
    },
    {
     "data": {
      "image/png": "[encoded data removed]",
      "text/plain": [
       "<matplotlib.figure.Figure at 0x7fd52c404990>"
      ]
     },
     "metadata": {},
     "output_type": "display_data"
    }
   ],
   "source": [
    "### demo of the difference between the absolute pen position and the relative pen position\n",
    "plt.figure()\n",
    "inds = list(S[(S.photoID=='n02691156_10151') & (S.sketchID==0)].index)\n",
    "verts = zip(S1.loc[inds].x.values,S1.loc[inds].y.values)\n",
    "codes = S1.loc[inds].pen.values\n",
    "path = Path(verts, codes)\n",
    "patch = patches.PathPatch(path, facecolor='none', lw=2)\n",
    "ax = plt.subplot(121)\n",
    "ax.add_patch(patch)\n",
    "ax.set_xlim(0,600)\n",
    "ax.set_ylim(0,600) \n",
    "ax.axis('off')\n",
    "plt.gca().invert_yaxis() # y values increase as you go down in image\n",
    "plt.show()\n",
    "\n",
    "inds = list(S[(S.photoID=='n02691156_10151') & (S.sketchID==0)].index)\n",
    "verts = zip(S2.loc[inds].x.values,S2.loc[inds].y.values)\n",
    "codes = S2.loc[inds].pen.values\n",
    "path = Path(verts, codes)\n",
    "patch = patches.PathPatch(path, facecolor='none', lw=2)\n",
    "ax = plt.subplot(122)\n",
    "ax.add_patch(patch)\n",
    "ax.set_xlim(-200,200)\n",
    "ax.set_ylim(-200,200) \n",
    "ax.axis('off')\n",
    "plt.gca().invert_yaxis() # y values increase as you go down in image\n",
    "plt.show()"
   ]
  },
  {
   "cell_type": "markdown",
   "metadata": {},
   "source": [
    "### predict next offset on basis of previous 4 offsets"
   ]
  },
  {
   "cell_type": "code",
   "execution_count": null,
   "metadata": {
    "collapsed": true
   },
   "outputs": [],
   "source": []
  },
  {
   "cell_type": "code",
   "execution_count": 113,
   "metadata": {
    "collapsed": true
   },
   "outputs": [],
   "source": [
    "RANDOM_SEED = 42\n",
    "tf.set_random_seed(RANDOM_SEED)\n",
    "\n",
    "# reset entire graph\n",
    "tf.reset_default_graph()\n",
    "\n",
    "# weight on offset loss\n",
    "offset_weight = 1.\n",
    "\n",
    "# amount to multiply predicted offset values by\n",
    "offset_multiplier = 100.\n",
    "\n",
    "# learning rate\n",
    "learning_rate = 0.001\n",
    "\n",
    "# set batch size\n",
    "batch_size = 10\n",
    "\n",
    "# epoch counter\n",
    "epoch_num = 0\n",
    "\n",
    "# initialize variables\n",
    "Si4 = tf.placeholder(\"float\", shape=[None, 3]) # strokes (input) -- 4th to last\n",
    "Si3 = tf.placeholder(\"float\", shape=[None, 3]) # strokes (input) -- 3rd to last\n",
    "Si2 = tf.placeholder(\"float\", shape=[None, 3]) # strokes (input) -- 2nd to last\n",
    "Si1 = tf.placeholder(\"float\", shape=[None, 3]) # strokes (input) -- previous one\n",
    "So = tf.placeholder(\"float\", shape=[None, 3]) # strokes (output)\n",
    "\n",
    "# Layer's sizes\n",
    "x_size = Si1.shape[1]*4   # Number of input nodes: x, y, state\n",
    "h_size = 512        # Number of hidden nodes\n",
    "y_size = So.shape[1]   # Number of outcomes (x,y,pen)\n",
    "\n",
    "output = tf.placeholder(\"float\", shape=[None,y_size])\n",
    "\n",
    "# convert to tensorflow tensor\n",
    "Si4 = tf.cast(tf.stack(Si4,name='Si4'),tf.float32)\n",
    "Si3 = tf.cast(tf.stack(Si3,name='Si3'),tf.float32)\n",
    "Si2 = tf.cast(tf.stack(Si2,name='Si2'),tf.float32)\n",
    "Si1 = tf.cast(tf.stack(Si1,name='Si1'),tf.float32)\n",
    "Si = tf.concat([Si4,Si3,Si2,Si1],axis=1)\n",
    "So = tf.cast(tf.stack(So,name='So'),tf.float32)\n",
    "\n",
    "# Weight initializations\n",
    "W1 = tf.get_variable('W1', [x_size, h_size],initializer=tf.contrib.layers.xavier_initializer(), dtype=tf.float32)\n",
    "b1 = tf.get_variable('b1', [h_size],initializer=tf.zeros_initializer(), dtype=tf.float32)\n",
    "\n",
    "W2 = tf.get_variable('W2', [h_size, h_size],initializer=tf.contrib.layers.xavier_initializer(), dtype=tf.float32)\n",
    "b2 = tf.get_variable('b2', [h_size],initializer=tf.zeros_initializer(), dtype=tf.float32)\n",
    "\n",
    "W3 = tf.get_variable('W3', [h_size, y_size],initializer=tf.contrib.layers.xavier_initializer(), dtype=tf.float32)\n",
    "b3 = tf.get_variable('b3', [y_size],initializer=tf.zeros_initializer(), dtype=tf.float32)\n",
    "\n",
    "# forward propagation\n",
    "fc1 = tf.nn.relu(tf.nn.xw_plus_b(Si, W1, b1,name='fc1'))\n",
    "fc2 = tf.nn.relu(tf.nn.xw_plus_b(fc1, W2, b2,name='fc2'))\n",
    "output = tf.nn.xw_plus_b(fc1, W3, b3,name='output')\n",
    "\n",
    "actual_offset = tf.slice(So,[0,0],[batch_size,2])\n",
    "actual_pen = tf.squeeze(tf.slice(So,[0,2],[batch_size,-1]))\n",
    "pred_offset = tf.multiply(tf.slice(output,[0,0],[batch_size,2]),offset_multiplier)\n",
    "pred_pen = tf.squeeze(tf.slice(output,[0,2],[batch_size,-1]))\n",
    "\n",
    "offset_loss = tf.reduce_sum(tf.sqrt(tf.reduce_sum(tf.square(tf.subtract(pred_offset,actual_offset)),axis=1)))\n",
    "pen_loss = tf.reduce_mean(tf.nn.softmax_cross_entropy_with_logits(\n",
    "            labels = actual_pen,\n",
    "            logits = pred_pen))\n",
    "\n",
    "loss = tf.add(tf.multiply(offset_weight,offset_loss),tf.multiply(1-offset_weight,pen_loss))\n",
    "\n",
    "# run backprop\n",
    "optimizer = tf.train.AdamOptimizer(learning_rate)\n",
    "train_op = optimizer.minimize(loss)\n",
    "\n",
    "# saver\n",
    "save = False\n",
    "saver = tf.train.Saver()\n",
    "\n",
    "# get predicted stroke vector\n",
    "strokes = tf.concat([pred_offset, tf.expand_dims(tf.round(tf.sigmoid(pred_pen)+1),1)],axis=1)\n",
    "Strokes = []\n",
    "\n",
    "# run batches\n",
    "with tf.Session() as sess:\n",
    "    tf.global_variables_initializer().run()\n",
    "    for m,idx in get_minibatches(S_train.as_matrix().astype('float32')[:len(S_train)-1],batch_size,shuffle=True):        \n",
    "\n",
    "            Si1_batch = m # batch of current strokes \n",
    "            Si2_batch = S_train.iloc[idx-1].as_matrix().astype('float32')\n",
    "            Si3_batch = S_train.iloc[idx-2].as_matrix().astype('float32')\n",
    "            Si4_batch = S_train.iloc[idx-3].as_matrix().astype('float32')\n",
    "            \n",
    "            if (max(idx)<45040):\n",
    "                So_batch = S_train.iloc[idx+1].as_matrix().astype('float32')\n",
    "                \n",
    "            updates = sess.run([offset_loss, pen_loss, loss, \n",
    "                                pred_offset, actual_pen, pred_pen, strokes], \n",
    "                               feed_dict={Si1:Si1_batch,Si2:Si2_batch,Si3:Si3_batch,Si4:Si4_batch,\n",
    "                                          So:So_batch}) \n",
    "\n",
    "            offset_loss_ = updates[0]\n",
    "            pen_loss_ = updates[1]\n",
    "            loss_ = updates[2]\n",
    "            pred_offset_ = updates[3]\n",
    "            actual_pen_ = updates[4]\n",
    "            pred_pen_ = updates[5]\n",
    "            strokes_ = updates[6]\n",
    "            \n",
    "            if epoch_num%200==0:\n",
    "                print \"Epoch: \" + str(epoch_num) + \" | Loss: \" + str(loss_) + \\\n",
    "                \" | Offset loss: \" + str(offset_loss_) + \" | Pen loss: \" + str(pen_loss_) \n",
    "\n",
    "            # save\n",
    "            if save:\n",
    "                saver.save(sess, 'checkpoints/pix2svg_train_svg2svg_0')\n",
    "                \n",
    "            # increment epoch number\n",
    "            epoch_num += 1\n"
   ]
  },
  {
   "cell_type": "markdown",
   "metadata": {},
   "source": [
    "### now trying to predict mixture of gaussians rather than naive nonlinear function... because pen offsets can't be modeled by any function\n",
    "\n"
   ]
  },
  {
   "cell_type": "markdown",
   "metadata": {},
   "source": [
    "reverting to trying to predict next pen offset based on single most recent pen offset"
   ]
  },
  {
   "cell_type": "code",
   "execution_count": null,
   "metadata": {
    "collapsed": true
   },
   "outputs": [],
   "source": []
  },
  {
   "cell_type": "code",
   "execution_count": 197,
   "metadata": {
    "scrolled": true
   },
   "outputs": [
    {
     "name": "stdout",
     "output_type": "stream",
     "text": [
      "('Epoch Num: ', 0, 'Reconstruction Loss:', 142.40862)\n",
      "('Epoch Num: ', 100, 'Reconstruction Loss:', 146.73276)\n",
      "('Epoch Num: ', 200, 'Reconstruction Loss:', 143.53572)\n",
      "('Epoch Num: ', 300, 'Reconstruction Loss:', 146.30927)\n",
      "('Epoch Num: ', 400, 'Reconstruction Loss:', 143.62589)\n",
      "('Epoch Num: ', 500, 'Reconstruction Loss:', 142.88931)\n",
      "('Epoch Num: ', 600, 'Reconstruction Loss:', 143.24689)\n",
      "('Epoch Num: ', 700, 'Reconstruction Loss:', 144.42648)\n",
      "('Epoch Num: ', 800, 'Reconstruction Loss:', 144.39893)\n",
      "('Epoch Num: ', 900, 'Reconstruction Loss:', 91.308319)\n",
      "('Epoch Num: ', 1000, 'Reconstruction Loss:', nan)\n",
      "('Epoch Num: ', 1100, 'Reconstruction Loss:', 143.09306)\n",
      "('Epoch Num: ', 1200, 'Reconstruction Loss:', nan)\n",
      "('Epoch Num: ', 1300, 'Reconstruction Loss:', 145.02594)\n",
      "('Epoch Num: ', 1400, 'Reconstruction Loss:', 147.22566)\n",
      "('Epoch Num: ', 1500, 'Reconstruction Loss:', 147.19031)\n",
      "('Epoch Num: ', 1600, 'Reconstruction Loss:', 126.70847)\n",
      "('Epoch Num: ', 1700, 'Reconstruction Loss:', nan)\n",
      "('Epoch Num: ', 1800, 'Reconstruction Loss:', 126.05428)\n",
      "('Epoch Num: ', 1900, 'Reconstruction Loss:', 136.02991)\n",
      "('Epoch Num: ', 2000, 'Reconstruction Loss:', 144.82986)\n",
      "('Epoch Num: ', 2100, 'Reconstruction Loss:', nan)\n",
      "('Epoch Num: ', 2200, 'Reconstruction Loss:', 137.37674)\n",
      "('Epoch Num: ', 2300, 'Reconstruction Loss:', 134.56625)\n",
      "('Epoch Num: ', 2400, 'Reconstruction Loss:', nan)\n",
      "('Epoch Num: ', 2500, 'Reconstruction Loss:', 146.08743)\n",
      "('Epoch Num: ', 2600, 'Reconstruction Loss:', nan)\n",
      "('Epoch Num: ', 2700, 'Reconstruction Loss:', 141.49911)\n",
      "('Epoch Num: ', 2800, 'Reconstruction Loss:', 154.62381)\n",
      "('Epoch Num: ', 2900, 'Reconstruction Loss:', 122.30074)\n",
      "('Epoch Num: ', 3000, 'Reconstruction Loss:', nan)\n",
      "('Epoch Num: ', 3100, 'Reconstruction Loss:', 146.26424)\n",
      "('Epoch Num: ', 3200, 'Reconstruction Loss:', nan)\n",
      "('Epoch Num: ', 3300, 'Reconstruction Loss:', nan)\n",
      "('Epoch Num: ', 3400, 'Reconstruction Loss:', 144.92764)\n",
      "('Epoch Num: ', 3500, 'Reconstruction Loss:', 139.46045)\n",
      "('Epoch Num: ', 3600, 'Reconstruction Loss:', 142.2424)\n",
      "('Epoch Num: ', 3700, 'Reconstruction Loss:', 146.02829)\n",
      "('Epoch Num: ', 3800, 'Reconstruction Loss:', 136.65732)\n",
      "('Epoch Num: ', 3900, 'Reconstruction Loss:', nan)\n",
      "('Epoch Num: ', 4000, 'Reconstruction Loss:', 143.90469)\n",
      "('Epoch Num: ', 4100, 'Reconstruction Loss:', 144.3707)\n",
      "('Epoch Num: ', 4200, 'Reconstruction Loss:', 144.22266)\n",
      "('Epoch Num: ', 4300, 'Reconstruction Loss:', 116.4599)\n",
      "('Epoch Num: ', 4400, 'Reconstruction Loss:', 144.01218)\n",
      "('Epoch Num: ', 4500, 'Reconstruction Loss:', nan)\n"
     ]
    }
   ],
   "source": [
    "## now trying to predict mixture of gaussians rather than naive nonlinear function... because pen offsets can't be modeled by any function\n",
    "\n",
    "import mdn as mdn ## import mixture density network helpers\n",
    "reload(mdn)\n",
    "\n",
    "RANDOM_SEED = 42\n",
    "tf.set_random_seed(RANDOM_SEED)\n",
    "\n",
    "# reset entire graph\n",
    "tf.reset_default_graph()\n",
    "\n",
    "# weight on offset loss\n",
    "offset_weight = 0.8\n",
    "\n",
    "# amount to multiply predicted offset values by\n",
    "offset_multiplier = 100.\n",
    "\n",
    "# learning rate\n",
    "learning_rate = 0.001\n",
    "\n",
    "# set batch size\n",
    "batch_size = 10\n",
    "\n",
    "# epoch counter\n",
    "epoch_num = 0\n",
    "\n",
    "# initialize variables\n",
    "Si = tf.placeholder(\"float\", shape=[None, 3]) # strokes (input)\n",
    "So = tf.placeholder(\"float\", shape=[None, 3]) # strokes (output) \n",
    "r_cost = tf.placeholder(\"float\", shape=[None])\n",
    "x1_data = tf.placeholder(\"float\",shape=[None])\n",
    "x2_data = tf.placeholder(\"float\",shape=[None])\n",
    "pen_data = tf.placeholder(\"float\",shape=[None])\n",
    "offset_loss = tf.placeholder(\"float\",shape=[None])\n",
    "state_loss = tf.placeholder(\"float\",shape=[None])\n",
    "recon_loss = tf.placeholder(\"float\",shape=[None])\n",
    "\n",
    "# Layer's sizes\n",
    "x_size = Si.shape[1]   # Number of input nodes: x, y, state\n",
    "h_size = 384        # Number of hidden nodes 6*64\n",
    "# y_size = So.shape[1]   # Number of outcomes (x,y,pen)\n",
    "y_size = 8 ## split this into MDN parameters: first two elements are pen state logits (1 or 2), next 384/6 are for estimating the other parameters\n",
    "\n",
    "output = tf.placeholder(\"float\", shape=[None,y_size])\n",
    "\n",
    "# # convert to tensorflow tensor\n",
    "Si = tf.cast(tf.stack(Si,name='Si'),tf.float32)\n",
    "So = tf.cast(tf.stack(So,name='So'),tf.float32)\n",
    "\n",
    "# Weight initializations\n",
    "W1 = tf.get_variable('W1', [x_size, h_size],initializer=tf.contrib.layers.xavier_initializer(), dtype=tf.float32)\n",
    "b1 = tf.get_variable('b1', [h_size],initializer=tf.zeros_initializer(), dtype=tf.float32)\n",
    "\n",
    "W2 = tf.get_variable('W2', [h_size, h_size],initializer=tf.contrib.layers.xavier_initializer(), dtype=tf.float32)\n",
    "b2 = tf.get_variable('b2', [h_size],initializer=tf.zeros_initializer(), dtype=tf.float32)\n",
    "\n",
    "W3 = tf.get_variable('W3', [h_size, y_size],initializer=tf.contrib.layers.xavier_initializer(), dtype=tf.float32)\n",
    "b3 = tf.get_variable('b3', [y_size],initializer=tf.zeros_initializer(), dtype=tf.float32)\n",
    "\n",
    "# forward propagation\n",
    "fc1 = tf.nn.relu(tf.nn.xw_plus_b(Si, W1, b1,name='fc1'))\n",
    "fc2 = tf.nn.relu(tf.nn.xw_plus_b(fc1, W2, b2,name='fc2'))\n",
    "output = tf.nn.xw_plus_b(fc2, W3, b3,name='output')\n",
    "\n",
    "# get mixture distribution parameters\n",
    "out = mdn.get_mixture_coef(output)\n",
    "[o_pi, o_mu1, o_mu2, o_sigma1, o_sigma2, o_corr, o_pen, o_pen_logits] = out ## each of these are the size of the batch\n",
    "\n",
    "# get target for prediction\n",
    "target = So # shape: (batch_size, 3) \n",
    "\n",
    "[x1_data, x2_data, pen_data] = tf.split(target, 3, 1)\n",
    "x1_data = tf.squeeze(x1_data) # shape (batch_size,)       \n",
    "x2_data = tf.squeeze(x2_data) # shape (batch_size,)       \n",
    "pen_data = tf.squeeze(pen_data) # shape (batch_size,) \n",
    "pen_data = tf.subtract(pen_data,1) # classes need to be in the range [0, num_classes-1]\n",
    "\n",
    "# compute reconstruction loss\n",
    "offset_loss, state_loss = mdn.get_lossfunc(o_pi, o_mu1, o_mu2, o_sigma1, o_sigma2, o_corr,\n",
    "                        o_pen_logits, x1_data, x2_data, pen_data)\n",
    "offset_loss = tf.squeeze(offset_loss)\n",
    "recon_loss = tf.add(offset_loss,state_loss)\n",
    "loss = tf.reduce_sum(recon_loss,axis=0)\n",
    "\n",
    "# # run backprop\n",
    "optimizer = tf.train.AdamOptimizer(learning_rate)\n",
    "train_op = optimizer.minimize(loss)\n",
    "\n",
    "init = tf.global_variables_initializer()\n",
    "with tf.Session() as sess:\n",
    "    sess.run(init)\n",
    "    for m,idx in get_minibatches(S_train.as_matrix().astype('float32')[:len(S_train)-1],batch_size,shuffle=True):        \n",
    "\n",
    "        Si_batch = m # batch of current strokes \n",
    "        if (max(idx)<45040):\n",
    "            So_batch = S_train.iloc[idx+1].as_matrix().astype('float32')  \n",
    "       \n",
    "        results = sess.run([o_pi, o_mu1, o_mu2, o_sigma1, o_sigma2, o_corr, o_pen, o_pen_logits, offset_loss, state_loss, recon_loss, loss], feed_dict={Si:Si_batch,So:So_batch}) \n",
    "        \n",
    "        _o_pi = results[0]\n",
    "        _o_mu1 = results[1]\n",
    "        _o_mu2 = results[2]\n",
    "        _o_sigma1 = results[3]\n",
    "        _o_sigma2 = results[4]\n",
    "        _o_corr = results[5]\n",
    "        _o_pen = results[6]\n",
    "        _o_pen_logits = results[7]   \n",
    "        _offset_loss = results[8]\n",
    "        _state_loss = results[9]\n",
    "        _recon_loss = results[10]\n",
    "        _loss = results[11]\n",
    "        \n",
    "        if epoch_num%100==0:\n",
    "            print('Epoch Num: ', epoch_num, 'Reconstruction Loss:', _loss)\n",
    "   \n",
    "        epoch_num += 1"
   ]
  },
  {
   "cell_type": "code",
   "execution_count": null,
   "metadata": {
    "collapsed": true
   },
   "outputs": [],
   "source": []
  },
  {
   "cell_type": "code",
   "execution_count": null,
   "metadata": {
    "collapsed": true
   },
   "outputs": [],
   "source": []
  },
  {
   "cell_type": "code",
   "execution_count": null,
   "metadata": {
    "collapsed": true
   },
   "outputs": [],
   "source": []
  },
  {
   "cell_type": "code",
   "execution_count": 195,
   "metadata": {},
   "outputs": [
    {
     "name": "stdout",
     "output_type": "stream",
     "text": [
      "WARNING:tensorflow:From <ipython-input-195-12c34c9f189d>:10: initialize_all_variables (from tensorflow.python.ops.variables) is deprecated and will be removed after 2017-03-02.\n",
      "Instructions for updating:\n",
      "Use `tf.global_variables_initializer` instead.\n",
      "36.8414\n",
      "[ 2.  2.  1.  2.  2.  1.  1.  2.  1.  2.] (10,)\n",
      "[[ 2.  2.  1.  2.  2.  1.  1.  2.  1.  2.]] (1, 10)\n",
      "[[ 0.13384162  0.13384162  0.04923758  0.13384162  0.13384162  0.04923758\n",
      "   0.04923758  0.13384162  0.04923758  0.13384162]]\n",
      "[ 1.]\n"
     ]
    }
   ],
   "source": [
    "a = tf.constant([2.,2.,1.,2.,2.,1.,1.,2.,1.,2.])\n",
    "b = tf.constant([1.,1.,1.,1.,1.,1.,1.,1.,1.,1.])\n",
    "c = tf.reshape(a,[-1,10]) \n",
    "### reshape with a -1 nests a tensor, so one that is originally of shape (10,) becomes (1,10)\n",
    "d = tf.split(c,10,1)\n",
    "e = tf.constant([-0.4])\n",
    "\n",
    "result =  tf.nn.softmax_cross_entropy_with_logits(labels=a,logits=b)\n",
    "sess = tf.InteractiveSession()\n",
    "sess.run(tf.initialize_all_variables())\n",
    "print result.eval()\n",
    "\n",
    "print a.eval(), a.get_shape()\n",
    "print c.eval(), c.get_shape()\n",
    "print tf.nn.softmax(c).eval()\n",
    "print tf.nn.softmax(e).eval()\n",
    "\n",
    "sess.close()"
   ]
  },
  {
   "cell_type": "code",
   "execution_count": null,
   "metadata": {
    "collapsed": true
   },
   "outputs": [],
   "source": []
  },
  {
   "cell_type": "code",
   "execution_count": null,
   "metadata": {
    "collapsed": true
   },
   "outputs": [],
   "source": []
  },
  {
   "cell_type": "code",
   "execution_count": null,
   "metadata": {
    "collapsed": true
   },
   "outputs": [],
   "source": []
  },
  {
   "cell_type": "code",
   "execution_count": 193,
   "metadata": {
    "collapsed": true
   },
   "outputs": [],
   "source": [
    "# NSAMPLE = 1000\n",
    "x_data = np.float32(np.random.uniform(-10.5, 10.5, (1, NSAMPLE))).T\n",
    "r_data = np.float32(np.random.normal(size=(NSAMPLE,1)))\n",
    "y_data = np.float32(np.sin(0.75*x_data)*7.0+x_data*0.5+r_data*1.0)\n",
    "\n",
    "# plt.figure(figsize=(8, 8))\n",
    "# plot_out = plt.plot(x_data,y_data,'ro',alpha=0.3)\n",
    "# plt.show()\n",
    "\n",
    "# temp_data = x_data\n",
    "# x_data = y_data\n",
    "# y_data = temp_data\n",
    "\n",
    "# plt.figure(figsize=(8, 8))\n",
    "# plot_out = plt.plot(x_data,y_data,'ro',alpha=0.3)\n",
    "# plt.show()"
   ]
  },
  {
   "cell_type": "code",
   "execution_count": 259,
   "metadata": {
    "collapsed": true
   },
   "outputs": [],
   "source": [
    "import mdn as mdn\n"
   ]
  },
  {
   "cell_type": "code",
   "execution_count": null,
   "metadata": {
    "collapsed": true
   },
   "outputs": [],
   "source": [
    "mdn"
   ]
  },
  {
   "cell_type": "code",
   "execution_count": 203,
   "metadata": {
    "collapsed": true
   },
   "outputs": [],
   "source": []
  },
  {
   "cell_type": "code",
   "execution_count": 263,
   "metadata": {},
   "outputs": [
    {
     "name": "stdout",
     "output_type": "stream",
     "text": [
      "[ 0.02453992]\n",
      "[ 0.95884156]\n",
      "[ 0.1577232]\n"
     ]
    }
   ],
   "source": [
    "x1 = tf.random_normal([1], mean=0, stddev=0.1)\n",
    "x2 = tf.random_normal([1], mean=1, stddev=0.1)\n",
    "mu1 = tf.constant(0., dtype=tf.float32)\n",
    "mu2 = tf.constant(1., dtype=tf.float32)\n",
    "s1 = tf.constant(1., dtype=tf.float32)\n",
    "s2 = tf.constant(1., dtype=tf.float32)\n",
    "rho = tf.constant(0., dtype=tf.float32)\n",
    "result = mdn.tf_2d_normal(x1, x2, mu1, mu2, s1, s2, rho)\n",
    "sess = tf.InteractiveSession()\n",
    "sess.run(tf.global_variables_initializer())\n",
    "print x1.eval()\n",
    "print x2.eval()\n",
    "print result.eval()\n",
    "sess.close()"
   ]
  },
  {
   "cell_type": "code",
   "execution_count": null,
   "metadata": {
    "collapsed": true
   },
   "outputs": [],
   "source": []
  },
  {
   "cell_type": "code",
   "execution_count": 222,
   "metadata": {},
   "outputs": [
    {
     "data": {
      "image/png": "[encoded data removed]",
      "text/plain": [
       "<matplotlib.figure.Figure at 0x7f202fbd2b90>"
      ]
     },
     "metadata": {},
     "output_type": "display_data"
    }
   ],
   "source": [
    "## self contained example of sinusoidal function fitting\n",
    "NSAMPLE = 1000\n",
    "x_data = np.float32(np.random.uniform(-10.5, 10.5, (1, NSAMPLE))).T\n",
    "r_data = np.float32(np.random.normal(size=(NSAMPLE,1)))\n",
    "y_data = np.float32(np.sin(0.75*x_data)*7.0+x_data*0.5+r_data*1.0)\n",
    "\n",
    "x = tf.placeholder(dtype=tf.float32, shape=[None,1])\n",
    "y = tf.placeholder(dtype=tf.float32, shape=[None,1])\n",
    "\n",
    "NHIDDEN = 20\n",
    "W = tf.Variable(tf.random_normal([1,NHIDDEN], stddev=1.0, dtype=tf.float32))\n",
    "b = tf.Variable(tf.random_normal([1,NHIDDEN], stddev=1.0, dtype=tf.float32))\n",
    "\n",
    "W_out = tf.Variable(tf.random_normal([NHIDDEN,1], stddev=1.0, dtype=tf.float32))\n",
    "b_out = tf.Variable(tf.random_normal([1,1], stddev=1.0, dtype=tf.float32))\n",
    "\n",
    "hidden_layer = tf.nn.tanh(tf.matmul(x, W) + b)\n",
    "y_out = tf.matmul(hidden_layer,W_out) + b_out\n",
    "lossfunc = tf.nn.l2_loss(y_out-y)\n",
    "train_op = tf.train.RMSPropOptimizer(learning_rate=0.1, decay=0.8).minimize(lossfunc)\n",
    "\n",
    "sess = tf.InteractiveSession()\n",
    "sess.run(tf.global_variables_initializer())\n",
    "NEPOCH = 1000\n",
    "for i in range(NEPOCH):\n",
    "    sess.run(train_op,feed_dict={x: x_data, y: y_data})\n",
    "    \n",
    "x_test = np.float32(np.arange(-10.5,10.5,0.1))\n",
    "x_test = x_test.reshape(x_test.size,1)\n",
    "y_test = sess.run(y_out,feed_dict={x: x_test})\n",
    "\n",
    "plt.figure(figsize=(8, 8))\n",
    "plt.plot(x_data,y_data,'ro', x_test,y_test,'bo',alpha=0.3)\n",
    "plt.show()\n",
    "\n",
    "sess.close()    "
   ]
  },
  {
   "cell_type": "code",
   "execution_count": 234,
   "metadata": {},
   "outputs": [
    {
     "name": "stdout",
     "output_type": "stream",
     "text": [
      "Tensor(\"Mul_35:0\", shape=(?, 24), dtype=float32) Tensor(\"Exp_11:0\", shape=(?, 24), dtype=float32) Tensor(\"split_9:2\", shape=(?, 24), dtype=float32)\n"
     ]
    }
   ],
   "source": [
    "NHIDDEN = 24\n",
    "STDEV = 0.5\n",
    "KMIX = 24 # number of mixtures\n",
    "NOUT = KMIX * 3 # pi, mu, stdev\n",
    "\n",
    "x = tf.placeholder(dtype=tf.float32, shape=[None,1], name=\"x\")\n",
    "y = tf.placeholder(dtype=tf.float32, shape=[None,1], name=\"y\")\n",
    "\n",
    "Wh = tf.Variable(tf.random_normal([1,NHIDDEN], stddev=STDEV, dtype=tf.float32))\n",
    "bh = tf.Variable(tf.random_normal([1,NHIDDEN], stddev=STDEV, dtype=tf.float32))\n",
    "\n",
    "Wo = tf.Variable(tf.random_normal([NHIDDEN,NOUT], stddev=STDEV, dtype=tf.float32))\n",
    "bo = tf.Variable(tf.random_normal([1,NOUT], stddev=STDEV, dtype=tf.float32))\n",
    "\n",
    "hidden_layer = tf.nn.tanh(tf.matmul(x, Wh) + bh)\n",
    "output = tf.matmul(hidden_layer,Wo) + bo\n",
    "\n",
    "def get_mixture_coef(output):\n",
    "    out_pi = tf.placeholder(dtype=tf.float32, shape=[None,KMIX], name=\"mixparam\")\n",
    "    out_sigma = tf.placeholder(dtype=tf.float32, shape=[None,KMIX], name=\"mixparam\")\n",
    "    out_mu = tf.placeholder(dtype=tf.float32, shape=[None,KMIX], name=\"mixparam\")\n",
    "\n",
    "    out_pi, out_sigma, out_mu = tf.split(output,3,1)\n",
    "\n",
    "    max_pi = tf.reduce_max(out_pi, 1, keep_dims=True)\n",
    "    out_pi = tf.subtract(out_pi, max_pi)\n",
    "\n",
    "    out_pi = tf.exp(out_pi)\n",
    "\n",
    "    normalize_pi = tf.reciprocal(tf.reduce_sum(out_pi, 1, keep_dims=True))\n",
    "    out_pi = tf.multiply(normalize_pi, out_pi)\n",
    "\n",
    "    out_sigma = tf.exp(out_sigma)\n",
    "\n",
    "    return out_pi, out_sigma, out_mu\n",
    "\n",
    "out_pi, out_sigma, out_mu = get_mixture_coef(output)\n"
   ]
  },
  {
   "cell_type": "code",
   "execution_count": null,
   "metadata": {
    "collapsed": true
   },
   "outputs": [],
   "source": []
  },
  {
   "cell_type": "code",
   "execution_count": 240,
   "metadata": {
    "collapsed": true
   },
   "outputs": [],
   "source": [
    "NSAMPLE = 2500\n",
    "\n",
    "y_data = np.float32(np.random.uniform(-10.5, 10.5, (1, NSAMPLE))).T\n",
    "r_data = np.float32(np.random.normal(size=(NSAMPLE,1))) # random noise\n",
    "x_data = np.float32(np.sin(0.75*y_data)*7.0+y_data*0.5+r_data*1.0)\n",
    "\n",
    "oneDivSqrtTwoPI = 1 / math.sqrt(2*math.pi) # normalisation factor for gaussian, not needed.\n",
    "def tf_normal(y, mu, sigma):\n",
    "    result = tf.subtract(y, mu)\n",
    "    result = tf.multiply(result,tf.reciprocal(sigma))\n",
    "    result = -tf.square(result)/2\n",
    "    return tf.multiply(tf.exp(result),tf.reciprocal(sigma))*oneDivSqrtTwoPI\n",
    "\n",
    "def get_lossfunc(out_pi, out_sigma, out_mu, y):\n",
    "    result = tf_normal(y, out_mu, out_sigma)\n",
    "    result = tf.multiply(result, out_pi)\n",
    "    result = tf.reduce_sum(result, 1, keep_dims=True)\n",
    "    result = -tf.log(result)\n",
    "    return tf.reduce_mean(result)\n",
    "\n",
    "lossfunc = get_lossfunc(out_pi, out_sigma, out_mu, y)\n",
    "train_op = tf.train.AdamOptimizer().minimize(lossfunc)\n",
    "\n",
    "sess = tf.InteractiveSession()\n",
    "sess.run(tf.global_variables_initializer())\n",
    "\n",
    "NEPOCH = 10000\n",
    "loss = np.zeros(NEPOCH) # store the training progress here.\n",
    "for i in range(NEPOCH):\n",
    "    sess.run(train_op,feed_dict={x: x_data, y: y_data})\n",
    "    loss[i] = sess.run(lossfunc, feed_dict={x: x_data, y: y_data})"
   ]
  },
  {
   "cell_type": "code",
   "execution_count": 241,
   "metadata": {},
   "outputs": [
    {
     "data": {
      "image/png": "[encoded data removed]",
      "text/plain": [
       "<matplotlib.figure.Figure at 0x7f202f512650>"
      ]
     },
     "metadata": {},
     "output_type": "display_data"
    }
   ],
   "source": [
    "plt.figure(figsize=(8, 8))\n",
    "plt.plot(np.arange(100, NEPOCH,1), loss[100:], 'r-')\n",
    "plt.show()"
   ]
  },
  {
   "cell_type": "code",
   "execution_count": 265,
   "metadata": {
    "collapsed": true
   },
   "outputs": [],
   "source": [
    "x_test = np.float32(np.arange(-15,15,0.1))\n",
    "NTEST = x_test.size\n",
    "x_test = x_test.reshape(NTEST,1) # needs to be a matrix, not a vector\n",
    "\n",
    "def get_pi_idx(x, pdf):\n",
    "    N = pdf.size\n",
    "    accumulate = 0\n",
    "    for i in range(0, N):\n",
    "        accumulate += pdf[i]\n",
    "        if (accumulate > x):\n",
    "            return i\n",
    "    print 'error with sampling ensemble'\n",
    "    return -1\n",
    "\n",
    "def generate_ensemble(out_pi, out_mu, out_sigma, M = 10):\n",
    "    NTEST = x_test.size\n",
    "    result = np.random.rand(NTEST, M) # initially random [0, 1]\n",
    "    rn = np.random.randn(NTEST, M) # normal random matrix (0.0, 1.0)\n",
    "    mu = 0\n",
    "    std = 0\n",
    "    idx = 0\n",
    "\n",
    "    # transforms result into random ensembles\n",
    "    for j in range(0, M): # mixtures\n",
    "        for i in range(0, NTEST): # datapoints\n",
    "            idx = get_pi_idx(result[i, j], out_pi[i])\n",
    "            mu = out_mu[i, idx]\n",
    "            std = out_sigma[i, idx]\n",
    "            result[i, j] = mu + rn[i, j]*std\n",
    "    return result"
   ]
  },
  {
   "cell_type": "code",
   "execution_count": null,
   "metadata": {
    "collapsed": true
   },
   "outputs": [],
   "source": []
  },
  {
   "cell_type": "code",
   "execution_count": 249,
   "metadata": {},
   "outputs": [
    {
     "data": {
      "image/png": "[encoded data removed]",
      "text/plain": [
       "<matplotlib.figure.Figure at 0x7f202ff93e50>"
      ]
     },
     "metadata": {},
     "output_type": "display_data"
    }
   ],
   "source": [
    "out_pi_test, out_sigma_test, out_mu_test = sess.run(get_mixture_coef(output), feed_dict={x: x_test})\n",
    "\n",
    "y_test = generate_ensemble(out_pi_test, out_mu_test, out_sigma_test)\n",
    "\n",
    "plt.figure(figsize=(8, 8))\n",
    "plt.plot(x_data,y_data,'ro', x_test,y_test,'bo',alpha=0.3)\n",
    "plt.show()\n"
   ]
  },
  {
   "cell_type": "code",
   "execution_count": null,
   "metadata": {
    "collapsed": true
   },
   "outputs": [],
   "source": []
  },
  {
   "cell_type": "code",
   "execution_count": null,
   "metadata": {
    "collapsed": true
   },
   "outputs": [],
   "source": []
  },
  {
   "cell_type": "code",
   "execution_count": null,
   "metadata": {
    "collapsed": true
   },
   "outputs": [],
   "source": []
  },
  {
   "cell_type": "code",
   "execution_count": null,
   "metadata": {
    "collapsed": true
   },
   "outputs": [],
   "source": []
  },
  {
   "cell_type": "code",
   "execution_count": null,
   "metadata": {
    "collapsed": true
   },
   "outputs": [],
   "source": []
  },
  {
   "cell_type": "code",
   "execution_count": null,
   "metadata": {
    "collapsed": true
   },
   "outputs": [],
   "source": []
  },
  {
   "cell_type": "code",
   "execution_count": null,
   "metadata": {
    "collapsed": true
   },
   "outputs": [],
   "source": []
  },
  {
   "cell_type": "code",
   "execution_count": null,
   "metadata": {
    "collapsed": true
   },
   "outputs": [],
   "source": [
    "#####========================================================================\n",
    "\n",
    "# actual_offset = tf.slice(So,[0,0],[batch_size,2])\n",
    "# actual_pen = tf.squeeze(tf.slice(So,[0,2],[batch_size,-1]))\n",
    "\n",
    "# pred_offset = tf.multiply(tf.slice(output,[0,0],[batch_size,2]),offset_multiplier)\n",
    "# pred_pen = tf.squeeze(tf.slice(output,[0,2],[batch_size,-1]))\n",
    "\n",
    "# offset_loss = tf.reduce_sum(tf.sqrt(tf.reduce_sum(tf.square(tf.subtract(pred_offset,actual_offset)),axis=1)))\n",
    "# pen_loss = tf.reduce_mean(tf.nn.softmax_cross_entropy_with_logits(\n",
    "#             labels = actual_pen,\n",
    "#             logits = pred_pen))\n",
    "\n",
    "# loss = tf.add(tf.multiply(offset_weight,offset_loss),tf.multiply(1-offset_weight,pen_loss))\n",
    "\n",
    "# # run backprop\n",
    "# optimizer = tf.train.AdamOptimizer(learning_rate)\n",
    "# train_op = optimizer.minimize(loss)\n",
    "\n",
    "# # saver\n",
    "# save = False\n",
    "# saver = tf.train.Saver()\n",
    "\n",
    "# # get predicted stroke vector\n",
    "# strokes = tf.concat([pred_offset, tf.expand_dims(tf.round(tf.sigmoid(pred_pen_)+1),1)],axis=1)\n",
    "# Strokes = []\n",
    "\n",
    "# # run batches\n",
    "# with tf.Session() as sess:\n",
    "#     tf.global_variables_initializer().run()\n",
    "#     for m,idx in get_minibatches(S_train.as_matrix().astype('float32')[:len(S_train)-1],batch_size,shuffle=True):        \n",
    "#             Si_batch = m # batch of current strokes             \n",
    "#             if (max(idx)<45040):\n",
    "#                 So_batch = S_train.iloc[idx+1].as_matrix().astype('float32')                \n",
    "#             updates = sess.run([offset_loss, pen_loss, loss, pred_offset, actual_pen, pred_pen, strokes], feed_dict={Si:Si_batch,So:So_batch}) \n",
    "#             offset_loss_ = updates[0]\n",
    "#             pen_loss_ = updates[1]\n",
    "#             loss_ = updates[2]\n",
    "#             pred_offset_ = updates[3]\n",
    "#             actual_pen_ = updates[4]\n",
    "#             pred_pen_ = updates[5]\n",
    "#             strokes_ = updates[6]            \n",
    "#             if epoch_num%200==0:\n",
    "#                 print \"Epoch: \" + str(epoch_num) + \" | Loss: \" + str(loss_) + \\\n",
    "#                 \" | Offset loss: \" + str(offset_loss_) + \" | Pen loss: \" + str(pen_loss_) \n",
    "#             # save\n",
    "#             if save:\n",
    "#                 saver.save(sess, 'checkpoints/pix2svg_train_svg2svg_0')                \n",
    "#             # increment epoch number\n",
    "#             epoch_num += 1"
   ]
  },
  {
   "cell_type": "markdown",
   "metadata": {},
   "source": [
    "### run rnn version"
   ]
  },
  {
   "cell_type": "code",
   "execution_count": 150,
   "metadata": {
    "collapsed": true
   },
   "outputs": [],
   "source": [
    "# RANDOM_SEED = 42\n",
    "# tf.set_random_seed(RANDOM_SEED)\n",
    "\n",
    "# # reset entire graph\n",
    "# tf.reset_default_graph()\n",
    "\n",
    "# # weight on offset loss\n",
    "# offset_weight = 1000.\n",
    "\n",
    "# # learning rate\n",
    "# learning_rate = 0.01\n",
    "\n",
    "# # set batch size\n",
    "# batch_size = 10\n",
    "\n",
    "# # epoch counter\n",
    "# epoch_num = 0\n",
    "\n",
    "# # max strokes\n",
    "# max_strokes = 200\n",
    "\n",
    "# # initialize variables\n",
    "# F = tf.placeholder(\"float\", shape=[None, 2048])  # features (input)\n",
    "# S = tf.placeholder(\"float\", shape=[None, 3]) # strokes (output)\n",
    "\n",
    "# # layer sizes\n",
    "# x_size = F.shape[1]   # Number of input nodes: 2048 features and 1 bias\n",
    "# h_size = 512        # Number of hidden nodes\n",
    "# y_size = S.shape[1]   # Number of outcomes (x,y,pen)\n",
    "\n",
    "# # rnn hyperparameters\n",
    "# rnn_hidden_size = 512 # number of rnn hidden units\n",
    "\n",
    "# output = tf.placeholder(\"float\", shape=[None,y_size])\n",
    "\n",
    "# # convert to tensorflow tensor\n",
    "# F = tf.cast(tf.stack(F,name='F'),tf.float32)\n",
    "# S = tf.cast(tf.stack(S,name='S'),tf.float32)\n",
    "\n",
    "# # Weight initializations\n",
    "# W1 = tf.get_variable('W1', [x_size, h_size],initializer=tf.contrib.layers.xavier_initializer(), dtype=tf.float32)\n",
    "# b1 = tf.get_variable('b1', [h_size],initializer=tf.zeros_initializer(), dtype=tf.float32)\n",
    "# W2 = tf.get_variable('W2', [h_size, y_size],initializer=tf.contrib.layers.xavier_initializer(), dtype=tf.float32)\n",
    "# b2 = tf.get_variable('b2', [y_size],initializer=tf.zeros_initializer(), dtype=tf.float32)\n",
    "\n",
    "# # forward propagation\n",
    "# # Run RNN and run linear layer to fit to correct size.\n",
    "\n",
    "# rnn_input = tf.nn.xw_plus_b(F, W1, b1,name='rnn_input')\n",
    "# cell = tf.contrib.rnn.BasicLSTMCell(rnn_hidden_size)\n",
    "# starting_state = cell.zero_state(batch_size=batch_size, dtype=tf.float32)\n",
    "# outputs, final_rnn_state = tf.contrib.rnn.static_rnn(cell, \n",
    "#                             [rnn_input]*max_strokes,\n",
    "#                             initial_state=starting_state,\n",
    "#                             dtype=tf.float32)\n",
    "# W_hy = tf.get_variable('W_hy', [rnn_hidden_size, y_size],initializer=tf.contrib.layers.xavier_initializer(), dtype=tf.float32)\n",
    "\n",
    "# preds = []\n",
    "# for output in outputs:\n",
    "#     preds.append(tf.matmul(outputs, W_hy))\n",
    "\n",
    "\n",
    "# # output = tf.nn.xw_plus_b(fc1, W2, b2,name='output')\n",
    "\n",
    "# # actual_offset = tf.slice(S,[0,0],[batch_size,2])\n",
    "# # actual_pen = tf.slice(S,[0,2],[batch_size,-1]) \n",
    "# # pred_offset = tf.multiply(tf.slice(output,[0,0],[batch_size,2]),offset_weight)\n",
    "# # pred_pen = tf.nn.softmax(tf.slice(output,[0,2],[batch_size,-1]))\n",
    "\n",
    "# # offset_loss = tf.reduce_sum(tf.sqrt(tf.reduce_sum(tf.square(tf.subtract(pred_offset,actual_offset)),axis=1)))\n",
    "# # pen_loss = tf.reduce_mean(tf.nn.softmax_cross_entropy_with_logits(\n",
    "# #             labels = actual_pen,\n",
    "# #             logits = pred_pen))\n",
    "\n",
    "# # loss = tf.add(offset_loss,pen_loss)\n",
    "\n",
    "# # # run backprop\n",
    "# # optimizer = tf.train.AdamOptimizer(learning_rate)\n",
    "# # train_op = optimizer.minimize(loss)\n",
    "\n",
    "# # saver\n",
    "# save = False\n",
    "# saver = tf.train.Saver()\n",
    "\n",
    "# # # get predicted stroke vector\n",
    "# # strokes = tf.concat([pred_offset, pred_pen],axis=1)\n",
    "\n",
    "# # run batches\n",
    "# with tf.Session() as sess:\n",
    "#     tf.global_variables_initializer().run()\n",
    "#     for m in get_minibatches([F_train,S_train.as_matrix()],batch_size,shuffle=True):\n",
    "\n",
    "#         if m[0].shape[0]==batch_size:\n",
    "#             F_batch = m[0]\n",
    "#             S_batch = m[1]    \n",
    "\n",
    "#             updates = sess.run([preds], feed_dict={F:F_batch,S:S_batch})    \n",
    "\n",
    "#             preds_ = updates[0]\n",
    "\n",
    "#             if epoch_num%200==0:\n",
    "#                 print \"Epoch: \" + str(epoch_num) \n",
    "\n",
    "#             # save\n",
    "#             if save:\n",
    "#                 saver.save(sess, 'checkpoints/pix2svg_train_rnn_0')\n",
    "                \n",
    "#             # increment epoch number\n",
    "#             epoch_num += 1\n"
   ]
  },
  {
   "cell_type": "code",
   "execution_count": null,
   "metadata": {
    "collapsed": true
   },
   "outputs": [],
   "source": []
  },
  {
   "cell_type": "code",
   "execution_count": null,
   "metadata": {
    "collapsed": true
   },
   "outputs": [],
   "source": []
  },
  {
   "cell_type": "code",
   "execution_count": null,
   "metadata": {
    "collapsed": true
   },
   "outputs": [],
   "source": []
  },
  {
   "cell_type": "code",
   "execution_count": null,
   "metadata": {
    "collapsed": true
   },
   "outputs": [],
   "source": []
  },
  {
   "cell_type": "code",
   "execution_count": null,
   "metadata": {
    "collapsed": true
   },
   "outputs": [],
   "source": []
  },
  {
   "cell_type": "code",
   "execution_count": null,
   "metadata": {
    "collapsed": true
   },
   "outputs": [],
   "source": []
  },
  {
   "cell_type": "code",
   "execution_count": 337,
   "metadata": {
    "collapsed": true
   },
   "outputs": [],
   "source": [
    "# for epoch in range(50):\n",
    "#     # Train with each examplea\n",
    "#     for i in range(len(F_batch)):\n",
    "#         sess.run(updates, feed_dict={X: F_batch[i: i + 1], y: S_batch[i: i + 1]})\n",
    "        \n",
    "#         loss = sess.run(output, feed_dict={X: F_batch, y: S_batch})      "
   ]
  },
  {
   "cell_type": "code",
   "execution_count": 290,
   "metadata": {},
   "outputs": [
    {
     "data": {
      "text/plain": [
       "<matplotlib.figure.Figure at 0x7f474cfcf050>"
      ]
     },
     "metadata": {},
     "output_type": "display_data"
    },
    {
     "data": {
      "image/png": "[encoded data removed]",
      "text/plain": [
       "<matplotlib.figure.Figure at 0x7f474cfcf990>"
      ]
     },
     "metadata": {},
     "output_type": "display_data"
    }
   ],
   "source": [
    "fig = plt.figure()\n",
    "im = plt.matshow(np.corrcoef(F_batch_array),vmin=0.5)\n",
    "plt.show()"
   ]
  },
  {
   "cell_type": "code",
   "execution_count": null,
   "metadata": {
    "collapsed": true
   },
   "outputs": [],
   "source": []
  },
  {
   "cell_type": "code",
   "execution_count": null,
   "metadata": {
    "collapsed": true
   },
   "outputs": [],
   "source": []
  },
  {
   "cell_type": "code",
   "execution_count": null,
   "metadata": {
    "collapsed": true
   },
   "outputs": [],
   "source": []
  },
  {
   "cell_type": "code",
   "execution_count": null,
   "metadata": {
    "collapsed": true
   },
   "outputs": [],
   "source": []
  },
  {
   "cell_type": "code",
   "execution_count": null,
   "metadata": {
    "collapsed": true
   },
   "outputs": [],
   "source": []
  },
  {
   "cell_type": "code",
   "execution_count": 20,
   "metadata": {
    "collapsed": true
   },
   "outputs": [],
   "source": [
    "sess.close()"
   ]
  },
  {
   "cell_type": "code",
   "execution_count": 174,
   "metadata": {},
   "outputs": [
    {
     "data": {
      "image/png": "[encoded data removed]",
      "text/plain": [
       "<matplotlib.figure.Figure at 0x7f470566ca90>"
      ]
     },
     "metadata": {},
     "output_type": "display_data"
    }
   ],
   "source": [
    "# get minibatch\n",
    "batch_size = 1500\n",
    "F_batch = F_train[:batch_size,:]\n",
    "S_batch = S_train.head(n=batch_size)\n",
    "\n",
    "# reserve numpy version \n",
    "F_batch_array = F_batch\n",
    "S_batch_array = S_batch.as_matrix()\n",
    "\n",
    "plt.matshow(np.corrcoef(F_batch_array))\n",
    "plt.show()"
   ]
  },
  {
   "cell_type": "code",
   "execution_count": 198,
   "metadata": {},
   "outputs": [
    {
     "data": {
      "image/png": "[encoded data removed]",
      "text/plain": [
       "<matplotlib.figure.Figure at 0x7f4741b99690>"
      ]
     },
     "metadata": {},
     "output_type": "display_data"
    }
   ],
   "source": [
    "SF_ = SF[100:110,:]\n",
    "plt.matshow(np.corrcoef(SF_))\n",
    "plt.show()"
   ]
  },
  {
   "cell_type": "code",
   "execution_count": 200,
   "metadata": {},
   "outputs": [
    {
     "data": {
      "image/png": "[encoded data removed]",
      "text/plain": [
       "<matplotlib.figure.Figure at 0x7f4741c5fd50>"
      ]
     },
     "metadata": {},
     "output_type": "display_data"
    }
   ],
   "source": [
    "PF_ = PF[:batch_size,:]\n",
    "plt.matshow(np.corrcoef(PF_))\n",
    "plt.show()"
   ]
  },
  {
   "cell_type": "code",
   "execution_count": null,
   "metadata": {
    "collapsed": true
   },
   "outputs": [],
   "source": []
  },
  {
   "cell_type": "code",
   "execution_count": null,
   "metadata": {
    "collapsed": true
   },
   "outputs": [],
   "source": []
  },
  {
   "cell_type": "code",
   "execution_count": null,
   "metadata": {
    "collapsed": true
   },
   "outputs": [],
   "source": []
  },
  {
   "cell_type": "code",
   "execution_count": null,
   "metadata": {
    "collapsed": true
   },
   "outputs": [],
   "source": []
  },
  {
   "cell_type": "code",
   "execution_count": null,
   "metadata": {
    "collapsed": true
   },
   "outputs": [],
   "source": []
  },
  {
   "cell_type": "code",
   "execution_count": null,
   "metadata": {
    "collapsed": true
   },
   "outputs": [],
   "source": []
  }
 ],
 "metadata": {
  "kernelspec": {
   "display_name": "Python 2",
   "language": "python",
   "name": "python2"
  },
  "language_info": {
   "codemirror_mode": {
    "name": "ipython",
    "version": 2
   },
   "file_extension": ".py",
   "mimetype": "text/x-python",
   "name": "python",
   "nbconvert_exporter": "python",
   "pygments_lexer": "ipython2",
   "version": "2.7.12"
  }
 },
 "nbformat": 4,
 "nbformat_minor": 2
}
