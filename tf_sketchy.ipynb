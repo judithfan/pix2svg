{
 "cells": [
  {
   "cell_type": "code",
   "execution_count": 1,
   "metadata": {
    "collapsed": true
   },
   "outputs": [],
   "source": [
    "from __future__ import division\n",
    "\n",
    "import numpy as np\n",
    "from numpy import *\n",
    "\n",
    "import os\n",
    "\n",
    "import tensorflow as tf\n",
    "\n",
    "import PIL\n",
    "from PIL import Image\n",
    "import matplotlib.pyplot as plt\n",
    "\n",
    "from skimage import data, io, filters\n",
    "\n",
    "from matplotlib.path import Path\n",
    "import matplotlib.patches as patches\n",
    "\n",
    "import pandas as pd"
   ]
  },
  {
   "cell_type": "code",
   "execution_count": 2,
   "metadata": {
    "collapsed": true
   },
   "outputs": [],
   "source": [
    "path_to_strokes =  \"tiny/airplane.npy\"\n",
    "X = np.load(path_to_strokes)[()]"
   ]
  },
  {
   "cell_type": "code",
   "execution_count": 3,
   "metadata": {},
   "outputs": [
    {
     "name": "stdout",
     "output_type": "stream",
     "text": [
      "('Example sketch has ', '169', ' strokes')\n",
      "('Corresponds to photo: ', 'n02691156_10151')\n"
     ]
    }
   ],
   "source": [
    "print('Example sketch has ', str(shape(X['airplane'][0][0])[0]), ' strokes')\n",
    "print('Corresponds to photo: ', X['airplane'][1][0])\n",
    "\n",
    "path_to_source_photos = \"../tiny/photo/airplane/\"\n",
    "photo = os.path.join(path_to_source_photos,'n02691156_10151.jpg')"
   ]
  },
  {
   "cell_type": "code",
   "execution_count": 4,
   "metadata": {
    "collapsed": true
   },
   "outputs": [],
   "source": [
    "class TinyDataset():\n",
    "    \"\"\"tiny airplane dataset of photos and sketches for pix2svg.\"\"\"\n",
    "\n",
    "    def __init__(self, npy_file, root_dir, transform=None):\n",
    "        \"\"\"\n",
    "        Args:\n",
    "            npy_file (string): Path to the numpy file with stroke-5 representation and corresponding photos.\n",
    "                    # to get stroke-5 representation of svg\n",
    "                    x['airplane'][0][5]\n",
    "                    # to get corresponding photos\n",
    "                    x['airplane'][1][5]\n",
    "            root_dir (string): Directory with all the images.\n",
    "            transform (callable, optional): Optional transform to be applied\n",
    "                on a sample.\n",
    "        \"\"\"\n",
    "        self.root_dir = root_dir\n",
    "        self.stroke_dir = npy_file\n",
    "        self.photo_dir = os.path.join(root_dir,'photo')\n",
    "        self.strokes = np.load(npy_file)[()]\n",
    "        self.transform = transform\n",
    "    \n",
    "    def __len__(self):\n",
    "        return len(self.strokes['airplane'][0])\n",
    "\n",
    "    def __getitem__(self, idx):\n",
    "        img_name = os.path.join(self.photo_dir,'airplane',X['airplane'][1][idx]+ '.jpg')\n",
    "        photo = io.imread(img_name)\n",
    "        photo = photo.astype(float)\n",
    "        strokes = self.strokes['airplane'][0][idx]\n",
    "        sample = {'photo': photo, 'strokes': strokes,'name': X['airplane'][1][idx]+ '.jpg'}\n",
    "        \n",
    "        if self.transform:\n",
    "            sample = self.transform(sample)\n",
    "\n",
    "        return sample    \n",
    "\n",
    "class ToTensor(object):\n",
    "    \"\"\"Convert ndarrays in sample to Tensors.\"\"\"\n",
    "\n",
    "    def __call__(self, sample):\n",
    "        image, strokes, name = sample['photo'], sample['strokes'], sample['name']\n",
    "\n",
    "        # swap color axis because\n",
    "        # numpy image: H x W x C\n",
    "        # torch image: C X H X W\n",
    "        image = image.transpose((2, 0, 1))        \n",
    "        return {'tensor': tf.divide(tf.stack(sample['photo']),255),\n",
    "                'strokes': strokes,\n",
    "                'name': name,\n",
    "                'photo': image}    \n",
    "\n",
    "def to_normal_strokes(big_stroke):\n",
    "    \"\"\"Convert from stroke-5 format (from sketch-rnn paper) back to stroke-3.\"\"\"\n",
    "    l = 0\n",
    "    for i in range(len(big_stroke)):\n",
    "        if big_stroke[i, 4] > 0:\n",
    "            l = i\n",
    "            break\n",
    "    if l == 0:\n",
    "        l = len(big_stroke)\n",
    "    result = np.zeros((l, 3))\n",
    "    result[:, 0:2] = big_stroke[0:l, 0:2]\n",
    "    result[:, 2] = big_stroke[0:l, 3]\n",
    "    return result    \n",
    "    \n",
    "def strokes_to_lines(strokes):\n",
    "    \"\"\"\n",
    "    Convert stroke-3 format to polyline format.\n",
    "    List contains sublist of continuous line segments (strokes).    \n",
    "    \"\"\"\n",
    "    x = 0\n",
    "    y = 0\n",
    "    lines = []\n",
    "    line = []\n",
    "    for i in range(len(strokes)):\n",
    "        if strokes[i, 2] == 1:\n",
    "            x += float(strokes[i, 0])\n",
    "            y += float(strokes[i, 1])\n",
    "            line.append([x, y])\n",
    "            lines.append(line)\n",
    "            line = []\n",
    "        else:\n",
    "            x += float(strokes[i, 0])\n",
    "            y += float(strokes[i, 1])\n",
    "            line.append([x, y])\n",
    "    return lines\n",
    "\n",
    "def polyline_pathmaker(lines):\n",
    "    x = []\n",
    "    y = []\n",
    "\n",
    "    codes = [Path.MOVETO] # start with moveto command always\n",
    "    for i,l in enumerate(lines):\n",
    "        for _i,_l in enumerate(l):\n",
    "            x.append(_l[0])\n",
    "            y.append(_l[1])\n",
    "            if _i<len(l)-1:\n",
    "                codes.append(Path.LINETO) # keep pen on page\n",
    "            else:\n",
    "                if i != len(lines)-1: # final vertex\n",
    "                    codes.append(Path.MOVETO)\n",
    "    verts = zip(x,y)            \n",
    "    return verts, codes\n",
    "\n",
    "def path_renderer(verts, codes):\n",
    "    path = Path(verts, codes)\n",
    "    patch = patches.PathPatch(path, facecolor='none', lw=2)\n",
    "    ax.add_patch(patch)\n",
    "    ax.set_xlim(0,max(max(verts)))\n",
    "    ax.set_ylim(0,max(max(verts)))\n",
    "    ax.axis('off')\n",
    "    plt.gca().invert_yaxis() # y values increase as you go down in image\n",
    "    plt.show()"
   ]
  },
  {
   "cell_type": "code",
   "execution_count": 5,
   "metadata": {},
   "outputs": [
    {
     "name": "stdout",
     "output_type": "stream",
     "text": [
      "batch_render_tiny_intermediates.ipynb  \u001b[0m\u001b[01;34msketchy\u001b[0m/\r\n",
      "\u001b[01;34mcheckpoints\u001b[0m/                           \u001b[01;35mtest.png\u001b[0m\r\n",
      "helpers.py                             tf_sketchy.ipynb\r\n",
      "helpers.pyc                            \u001b[01;34mtiny\u001b[0m/\r\n",
      "LICENSE                                \u001b[01;34m___tiny_intermediates\u001b[0m/\r\n",
      "\u001b[01;34mpix2svg\u001b[0m/                               \u001b[01;34mtiny_intermediates\u001b[0m/\r\n",
      "README.md                              \u001b[01;34mtiny_intermediates_resized\u001b[0m/\r\n"
     ]
    }
   ],
   "source": [
    "%ls"
   ]
  },
  {
   "cell_type": "code",
   "execution_count": 6,
   "metadata": {
    "collapsed": true
   },
   "outputs": [],
   "source": [
    "## load in airplanes dataset\n",
    "airplanes = TinyDataset(npy_file='/home/jefan/ptsketchy/tiny/airplane.npy',root_dir='/home/jefan/ptsketchy/tiny',transform=None)"
   ]
  },
  {
   "cell_type": "code",
   "execution_count": 7,
   "metadata": {},
   "outputs": [
    {
     "name": "stdout",
     "output_type": "stream",
     "text": [
      "(100, (256, 256, 3), (99, 5))\n"
     ]
    },
    {
     "data": {
      "image/png": "[encoded data removed]",
      "text/plain": [
       "<matplotlib.figure.Figure at 0x7fb4f23afcd0>"
      ]
     },
     "metadata": {},
     "output_type": "display_data"
    }
   ],
   "source": [
    "## display given photo and corresponding sketch from stroke-5 representation\n",
    "i = 100\n",
    "sample = airplanes[i]\n",
    "print(i, sample['photo'].shape, sample['strokes'].shape)\n",
    "\n",
    "plt.figure()\n",
    "ax = plt.subplot(121)\n",
    "ax.set_title(sample['name'])\n",
    "ax.axis('off')\n",
    "img = np.reshape(sample['photo'],(256,256,3))\n",
    "plt.imshow(img,interpolation='nearest')\n",
    "\n",
    "ax = plt.subplot(122)\n",
    "lines = strokes_to_lines(to_normal_strokes(sample['strokes']))\n",
    "verts,codes = polyline_pathmaker(lines)\n",
    "path_renderer(verts,codes)\n",
    "\n",
    "plt.show()"
   ]
  },
  {
   "cell_type": "code",
   "execution_count": 8,
   "metadata": {
    "collapsed": true
   },
   "outputs": [],
   "source": [
    "# load in airplanes dataset\n",
    "airplanes = TinyDataset(npy_file='/home/jefan/ptsketchy/tiny/airplane.npy',\n",
    "                        root_dir='/home/jefan/ptsketchy/tiny',\n",
    "                        transform=ToTensor())"
   ]
  },
  {
   "cell_type": "code",
   "execution_count": 9,
   "metadata": {
    "collapsed": true
   },
   "outputs": [],
   "source": [
    "# load in features for photos\n",
    "path_to_features = 'sketchy/triplet_features'\n",
    "photo_features = np.load(os.path.join(path_to_features,'photo_features.npy'))\n",
    "F = photo_features"
   ]
  },
  {
   "cell_type": "code",
   "execution_count": 10,
   "metadata": {
    "collapsed": true
   },
   "outputs": [],
   "source": [
    "# read in filenames and generate pandas dataframe with object labels\n",
    "_filenames = pd.read_csv(os.path.join(path_to_features,'photo_filenames.txt'),header=None,names=['filename'])\n",
    "\n",
    "filenames = []\n",
    "for i in range(len(_filenames)):\n",
    "    filenames.append(_filenames[_filenames.index==i].values[0][0])\n",
    "filenames = ['sketchy' + f[1:] for f in filenames]\n",
    "path = filenames\n",
    "obj = [f.split('/')[3] for f in filenames]\n",
    "img = [f.split('/')[4] for f in filenames]\n",
    "\n",
    "data = {'path': path,\n",
    "         'object': obj,\n",
    "         'filename': img}\n",
    "X = pd.DataFrame.from_dict(data)"
   ]
  },
  {
   "cell_type": "code",
   "execution_count": 11,
   "metadata": {
    "collapsed": true
   },
   "outputs": [],
   "source": [
    "# subset airplane features only\n",
    "matches = X['object']=='airplane'\n",
    "inds = np.where(matches==True)\n",
    "X0 = X[matches]\n",
    "F0 = F[inds]"
   ]
  },
  {
   "cell_type": "code",
   "execution_count": null,
   "metadata": {
    "collapsed": true
   },
   "outputs": [],
   "source": []
  },
  {
   "cell_type": "code",
   "execution_count": 12,
   "metadata": {
    "collapsed": true
   },
   "outputs": [],
   "source": [
    "# construct (11094,1024) version of photo feature matrix, called PF, that matches indexing of the sketch feature matrix\n",
    "sketch_features = np.load('sketchy/airplane_features/airplane_sketch_features.npy')\n",
    "_sketch_filenames = pd.read_csv('sketchy/airplane_features/airplane_sketch_filenames.txt',header=None,names=['filename'])\n",
    "sketch_filenames = []\n",
    "for i in range(len(_sketch_filenames)):\n",
    "    sketch_filenames.append(_sketch_filenames[_sketch_filenames.index==i].values[0][0])\n",
    "PF = []\n",
    "inds = [] \n",
    "for sf in sketch_filenames:\n",
    "    q = sf.split('/')[2]+'.jpg'\n",
    "    PF.append(F0[X0['filename']==q])\n",
    "    inds.append(np.where(X0['filename']==q)[0][0])\n",
    "PF = np.squeeze(np.array(PF))\n",
    "SF = sketch_features\n",
    "inds = np.array(inds)\n",
    "\n",
    "## zip together/concatenate the photo and sketch features\n",
    "_F = np.hstack((PF,SF))"
   ]
  },
  {
   "cell_type": "code",
   "execution_count": 34,
   "metadata": {
    "collapsed": true
   },
   "outputs": [],
   "source": [
    "### now get a (11094,5) representation of the 'next stroke'\n",
    "### no wait, instead, just bump up the dimensionality of these feature matrices to fit that of \n",
    "### the (delta_x,delta_y) stroke representation\n",
    "### Strokes dataframe (\"S\") is of dimensionality (55855,5).\n",
    "### So, resize and re-index the feature matrix to match S. \n",
    "\n",
    "S = pd.read_csv('tiny/stroke_dataframe.csv')\n",
    "S1 = S\n",
    "photo_dir = np.array([sf.split('/')[2] for sf in sketch_filenames]) # photo dir\n",
    "sketch_dir = np.array(map(int,[sf.split('/')[3] for sf in sketch_filenames])) # sketch dir\n",
    "stroke_png = np.array(map(int,[sf.split('/')[4].split('.')[0] for sf in sketch_filenames])) # stroke png\n",
    "\n",
    "F = []\n",
    "for index, row in S.iterrows():\n",
    "    # get ind of the original small (11094,5) matrix that corresponds to this row of S (55855,5)\n",
    "    ind = np.intersect1d(np.intersect1d(np.where(photo_dir==row['photoID']),\n",
    "              np.where(sketch_dir==row['sketchID'])),\n",
    "              np.where(stroke_png==row['strokeID']))[0]\n",
    "    F.append(_F[ind])\n",
    "    \n",
    "F = np.array(F)\n",
    "F1 = F # protected F1 matrix"
   ]
  },
  {
   "cell_type": "markdown",
   "metadata": {},
   "source": [
    "### convert strokes matrix from absolute to relative coordinates "
   ]
  },
  {
   "cell_type": "code",
   "execution_count": null,
   "metadata": {
    "collapsed": true
   },
   "outputs": [],
   "source": [
    "from copy import deepcopy\n",
    "unique_photos = np.unique(S1.photoID)\n",
    "r = pd.DataFrame(columns=list(S1.keys()))\n",
    "\n",
    "run_this = False\n",
    "if run_this:\n",
    "    for i, p in enumerate(unique_photos):\n",
    "        print 'Processing ' + p + ': ' + str(i+1) + ' of ' + str(len(unique_photos)) + ' photos.'\n",
    "        s1 = S1[S1.photoID==p]\n",
    "        unique_sketches_of_photo = np.unique(s1.sketchID)\n",
    "        for sketch in unique_sketches_of_photo:\n",
    "            this_sketch = s1[s1.sketchID==sketch]\n",
    "            for index, row in this_sketch.iterrows():\n",
    "                _row = deepcopy(row)\n",
    "                if index==min(this_sketch.index): # first stroke\n",
    "                    r = r.append(row)\n",
    "                    this_x = row.x\n",
    "                    this_y = row.y\n",
    "                else:\n",
    "                    x_offset = _row.x-this_x\n",
    "                    y_offset = _row.y-this_y\n",
    "                    row.x = x_offset\n",
    "                    row.y = y_offset\n",
    "                    r = r.append(row)\n",
    "                this_x = _row.x # hold onto current row so you can compute difference with next one\n",
    "                this_y = _row.y\n",
    "    # save out relative strokes matrix as S2\n",
    "    S2 = r   \n",
    "    print 'Saving out stroke_dataframe_relative.csv'\n",
    "    S2.to_csv('tiny/stroke_dataframe_relative.csv')"
   ]
  },
  {
   "cell_type": "code",
   "execution_count": null,
   "metadata": {
    "collapsed": true
   },
   "outputs": [],
   "source": []
  },
  {
   "cell_type": "code",
   "execution_count": 119,
   "metadata": {},
   "outputs": [
    {
     "name": "stdout",
     "output_type": "stream",
     "text": [
      "generating list of photo indices based on X0\n",
      "generating random index to do train/val/test split\n",
      "constructing 55855 vectors that correspond to membership in train/val/test splits\n",
      " \n",
      "45041.0 sketch intermediates to train on.\n",
      "4185.0 sketch intermediates to validate on.\n",
      "6629.0 sketch intermediates to test on.\n",
      " \n",
      "Now actually splitting data.\n"
     ]
    }
   ],
   "source": [
    "# define S to either be ABSOLUTE strokes matrix (S1) or RELATIVE strokes matrix (S2)\n",
    "S = S2\n",
    "\n",
    "# generate 55855-long vector of photo indices\n",
    "print 'generating list of photo indices based on X0'\n",
    "inds = [] \n",
    "for index, row in S.iterrows():\n",
    "    q = row['photoID']+'.jpg'\n",
    "    inds.append(np.where(X0['filename']==q)[0][0])\n",
    "inds = np.array(inds)\n",
    "\n",
    "# generate random index to do train/val/test split\n",
    "print 'generating random index to do train/val/test split'\n",
    "_idx = np.arange(len(X0))\n",
    "np.random.seed(seed=0)\n",
    "np.random.shuffle(_idx)\n",
    "train_len = int(len(_idx)*0.85)\n",
    "val_len = int(len(_idx)*0.05)\n",
    "test_len = int(len(_idx*0.10))\n",
    "\n",
    "# indices of 100 photos that will go into train/val/test split\n",
    "train_inds = _idx[:train_len] \n",
    "val_inds = _idx[train_len:train_len+val_len]\n",
    "test_inds = _idx[train_len+val_len:len(_idx)]\n",
    "\n",
    "print 'constructing 55855 vectors that correspond to membership in train/val/test splits'\n",
    "# construct 55855 vectors that correspond to membership in train/val/test splits\n",
    "train_vec = np.zeros(len(F)).astype(bool)\n",
    "val_vec = np.zeros(len(F)).astype(bool)\n",
    "test_vec = np.zeros(len(F)).astype(bool)\n",
    "\n",
    "for i in train_inds:\n",
    "    train_vec[inds==i] = True\n",
    "for i in val_inds:\n",
    "    val_vec[inds==i] = True    \n",
    "for i in test_inds:\n",
    "    test_vec[inds==i] = True \n",
    "    \n",
    "assert sum(train_vec)+ sum(val_vec) + sum(test_vec) == len(train_vec)    \n",
    "print ' '\n",
    "print str(sum(train_vec)/len(train_vec) * len(F)) + ' sketch intermediates to train on.'\n",
    "print str(sum(val_vec)/len(val_vec) * len(F)) + ' sketch intermediates to validate on.'\n",
    "print str(sum(test_vec)/len(test_vec) * len(F)) + ' sketch intermediates to test on.'    \n",
    "print ' '\n",
    "print 'Now actually splitting data.'\n",
    "# now actually split data\n",
    "F_train = F[train_vec]\n",
    "F_val = F[val_vec]\n",
    "F_test = F[test_vec]\n",
    "\n",
    "S_train = S[train_vec]\n",
    "S_val = S[val_vec]\n",
    "S_test = S[test_vec]\n",
    "\n",
    "S_train = S_train[['x', 'y', 'pen']].copy()\n",
    "S_val = S_val[['x', 'y', 'pen']].copy()\n",
    "S_test = S_test[['x', 'y', 'pen']].copy()"
   ]
  },
  {
   "cell_type": "code",
   "execution_count": 120,
   "metadata": {
    "collapsed": true
   },
   "outputs": [],
   "source": [
    "## training helpers\n",
    "def minibatch(data, minibatch_idx):\n",
    "    return data[minibatch_idx] if type(data) is np.ndarray else [data[i] for i in minibatch_idx]\n",
    "\n",
    "def minibatches(data, batch_size, shuffle=True):\n",
    "    batches = [np.array(col) for col in zip(*data)]\n",
    "    return get_minibatches(batches, batch_size, shuffle)\n",
    "\n",
    "def get_minibatches(data, minibatch_size, shuffle=True):\n",
    "    \"\"\"\n",
    "    Iterates through the provided data one minibatch at at time. You can use this function to\n",
    "    iterate through data in minibatches as follows:\n",
    "        for inputs_minibatch in get_minibatches(inputs, minibatch_size):\n",
    "            ...\n",
    "    Or with multiple data sources:\n",
    "        for inputs_minibatch, labels_minibatch in get_minibatches([inputs, labels], minibatch_size):\n",
    "            ...\n",
    "    Args:\n",
    "        data: there are two possible values:\n",
    "            - a list or numpy array\n",
    "            - a list where each element is either a list or numpy array\n",
    "        minibatch_size: the maximum number of items in a minibatch\n",
    "        shuffle: whether to randomize the order of returned data\n",
    "    Returns:\n",
    "        minibatches: the return value depends on data:\n",
    "            - If data is a list/array it yields the next minibatch of data.\n",
    "            - If data a list of lists/arrays it returns the next minibatch of each element in the\n",
    "              list. This can be used to iterate through multiple data sources\n",
    "              (e.g., features and labels) at the same time.\n",
    "    \"\"\"\n",
    "    list_data = type(data) is list and (type(data[0]) is list or type(data[0]) is np.ndarray)\n",
    "    data_size = len(data[0]) if list_data else len(data)\n",
    "    indices = np.arange(data_size)\n",
    "    if shuffle:\n",
    "        np.random.shuffle(indices)\n",
    "    for minibatch_start in np.arange(0, data_size, minibatch_size):\n",
    "        minibatch_indices = indices[minibatch_start:minibatch_start + minibatch_size]\n",
    "        yield [minibatch(d, minibatch_indices) for d in data] if list_data \\\n",
    "            else minibatch(data, minibatch_indices)\n",
    "\n",
    "# usage notes:\n",
    "# for m in get_minibatches([F_train,S_train.as_matrix()],batch_size,shuffle=True):\n",
    "#     print len(m),m[0].shape,m[1].shape"
   ]
  },
  {
   "cell_type": "code",
   "execution_count": 424,
   "metadata": {
    "collapsed": true
   },
   "outputs": [],
   "source": []
  },
  {
   "cell_type": "code",
   "execution_count": null,
   "metadata": {
    "collapsed": true
   },
   "outputs": [],
   "source": []
  },
  {
   "cell_type": "markdown",
   "metadata": {},
   "source": [
    "### quality assurance make sure that image classification is working as advertised based on triplet features"
   ]
  },
  {
   "cell_type": "code",
   "execution_count": 53,
   "metadata": {},
   "outputs": [],
   "source": [
    "import numpy as np\n",
    "from sklearn.model_selection import train_test_split\n",
    "from sklearn.model_selection import cross_val_score\n",
    "from sklearn import svm\n",
    "\n",
    "# reminders:\n",
    "# S1 is stroke matrix\n",
    "# F1 is feature matrix\n",
    "# PF is photo-feature matrix\n",
    "# SF is sketch-feature matrix\n",
    "\n",
    "# get np.array of source photo labels\n",
    "photos = np.array([sf.split('/')[2] for sf in sketch_filenames])"
   ]
  },
  {
   "cell_type": "code",
   "execution_count": 54,
   "metadata": {},
   "outputs": [
    {
     "name": "stdout",
     "output_type": "stream",
     "text": [
      "(8875, 1024) (8875,)\n",
      "(2219, 1024) (2219,)\n",
      "Accuracy: 0.41 (+/- 0.08)\n"
     ]
    }
   ],
   "source": [
    "# split sketch feature data for linear classification\n",
    "X_train, X_test, y_train, y_test = train_test_split(\n",
    "    SF, photos, test_size=0.2, random_state=0)\n",
    "\n",
    "# check dimensionality of split data\n",
    "print 'dimensionality of train/test split'\n",
    "print X_train.shape, y_train.shape\n",
    "print X_test.shape, y_test.shape\n",
    "print ' '\n",
    "run_this = 0\n",
    "cval = True\n",
    "if run_this:\n",
    "    if cval==False:\n",
    "        # compute linear classification accuracy (takes a minute or so to run)\n",
    "        clf = svm.SVC(kernel='linear', C=1).fit(X_train, y_train)\n",
    "        clf.score(X_test, y_test)   \n",
    "    else:\n",
    "        # compute linear classification accuracy (takes several minutes to run)       \n",
    "        clf = svm.SVC(kernel='linear', C=1)\n",
    "        scores = cross_val_score(clf, SF, photos, cv=5)\n",
    "        print(\"Accuracy: %0.2f (+/- %0.2f)\" % (scores.mean(), scores.std() * 2))\n",
    "        ## Accuracy: 0.41 (+/- 0.08) achieved on 6/26/17"
   ]
  },
  {
   "cell_type": "code",
   "execution_count": null,
   "metadata": {},
   "outputs": [],
   "source": []
  },
  {
   "cell_type": "code",
   "execution_count": 131,
   "metadata": {},
   "outputs": [
    {
     "data": {
      "text/plain": [
       "array([[  3.42710022e+02,   1.84290909e+02,   1.00000000e+00],\n",
       "       [  8.09235001e+00,   1.64481602e+01,   2.00000000e+00],\n",
       "       [ -1.59576502e+01,   7.01851988e+00,   2.00000000e+00],\n",
       "       [  1.48666697e+01,   3.33330005e-01,   2.00000000e+00],\n",
       "       [ -5.85269022e+00,  -2.70000095e+01,   1.00000000e+00],\n",
       "       [  1.03673401e+01,   8.01329970e-01,   2.00000000e+00],\n",
       "       [  7.38532019e+00,   1.00771599e+01,   2.00000000e+00],\n",
       "       [  1.27826900e+01,   2.12017012e+00,   2.00000000e+00],\n",
       "       [  1.09117310e+02,   1.52216005e+00,   2.00000000e+00],\n",
       "       [  1.95280094e+01,   2.10898399e+01,   2.00000000e+00]], dtype=float32)"
      ]
     },
     "execution_count": 131,
     "metadata": {},
     "output_type": "execute_result"
    }
   ],
   "source": [
    "S_batch.as_matrix().astype('float32')"
   ]
  },
  {
   "cell_type": "markdown",
   "metadata": {},
   "source": [
    "### draft of model for single minibatch"
   ]
  },
  {
   "cell_type": "code",
   "execution_count": 138,
   "metadata": {},
   "outputs": [],
   "source": [
    "RANDOM_SEED = 42\n",
    "tf.set_random_seed(RANDOM_SEED)\n",
    "\n",
    "# reset entire graph\n",
    "tf.reset_default_graph()\n",
    "sess = tf.InteractiveSession()\n",
    "\n",
    "# weight on offset loss\n",
    "offset_weight = 100.\n",
    "\n",
    "# learning rate\n",
    "learning_rate = 0.01\n",
    "\n",
    "# get minibatch\n",
    "batch_size = 10\n",
    "F_batch = F_train[:batch_size,:]\n",
    "S_batch = S_train.head(n=batch_size)\n",
    "\n",
    "# reserve numpy version \n",
    "F_batch_array = F_batch\n",
    "S_batch_array = S_batch.as_matrix().astype('float32')\n",
    "\n",
    "# convert to tensorflow tensor\n",
    "F_batch = tf.cast(tf.stack(F_batch,name='F_batch'),tf.float32)\n",
    "S_batch = tf.cast(tf.stack(S_batch.as_matrix().astype('float32'),name='S_batch'),tf.float32)\n",
    "\n",
    "# Layer's sizes\n",
    "x_size = F_batch.shape[1]   # Number of input nodes: 2048 features and 1 bias\n",
    "h_size = 256                # Number of hidden nodes\n",
    "y_size = S_batch.shape[1]   # Number of outcomes (x,y,pen)\n",
    "\n",
    "# Symbols\n",
    "X = tf.placeholder(\"float\", shape=[None, x_size])\n",
    "y = tf.placeholder(\"float\", shape=[None, y_size])\n",
    "output = tf.placeholder(\"float\", shape=[None,y_size])\n",
    "\n",
    "# Weight initializations\n",
    "W1 = tf.get_variable('W1', [x_size, h_size],initializer=tf.contrib.layers.xavier_initializer(), dtype=tf.float32)\n",
    "b1 = tf.get_variable('b1', [h_size],initializer=tf.zeros_initializer(), dtype=tf.float32)\n",
    "\n",
    "W2 = tf.get_variable('W2', [h_size, h_size],initializer=tf.contrib.layers.xavier_initializer(), dtype=tf.float32)\n",
    "b2 = tf.get_variable('b2', [h_size],initializer=tf.zeros_initializer(), dtype=tf.float32)\n",
    "\n",
    "W3 = tf.get_variable('W3', [h_size, y_size],initializer=tf.contrib.layers.xavier_initializer(), dtype=tf.float32)\n",
    "b3 = tf.get_variable('b3', [y_size],initializer=tf.zeros_initializer(), dtype=tf.float32)\n",
    "\n",
    "# forward propagation\n",
    "fc1 = tf.nn.relu(tf.nn.xw_plus_b(F_batch, W1, b1,name='fc1'))\n",
    "fc2 = tf.nn.relu(tf.nn.xw_plus_b(fc1, W2, b2,name='fc2'))\n",
    "output = tf.nn.xw_plus_b(fc1, W3, b3,name='output')\n",
    "\n",
    "actual_offset = tf.slice(S_batch,[0,0],[batch_size,2])\n",
    "actual_pen = tf.slice(S_batch,[0,2],[batch_size,-1]) \n",
    "pred_offset = tf.multiply(tf.slice(output,[0,0],[batch_size,2]),offset_weight)\n",
    "pred_pen = tf.nn.softmax(tf.slice(output,[0,2],[batch_size,-1]))\n",
    "# currently doesn't properly handle the pen state loss\n",
    "offset_loss = tf.reduce_sum(tf.sqrt(tf.reduce_sum(tf.square(tf.subtract(pred_offset,actual_offset)),axis=1)))\n",
    "pen_loss = tf.reduce_mean(tf.nn.softmax_cross_entropy_with_logits(\n",
    "            labels = actual_pen,\n",
    "            logits = pred_pen))\n",
    "\n",
    "loss = tf.add(offset_loss,pen_loss)\n",
    "\n",
    "# run backprop\n",
    "optimizer = tf.train.AdamOptimizer(learning_rate)\n",
    "train_op = optimizer.minimize(loss)\n",
    "\n",
    "# # get predicted stroke vector\n",
    "strokes = tf.concat([pred_offset, pred_pen],axis=1)\n",
    "\n",
    "tf.global_variables_initializer().run()\n",
    "\n",
    "\n",
    "# sess.close()"
   ]
  },
  {
   "cell_type": "code",
   "execution_count": 139,
   "metadata": {
    "collapsed": true
   },
   "outputs": [],
   "source": [
    "updates = sess.run([fc1,output,pred_offset,\n",
    "                    pred_pen,actual_offset, actual_pen,\n",
    "                    offset_loss,pen_loss,loss,\n",
    "                    train_op,strokes], feed_dict={X:F_batch_array,y:S_batch_array})"
   ]
  },
  {
   "cell_type": "code",
   "execution_count": null,
   "metadata": {
    "collapsed": true
   },
   "outputs": [],
   "source": []
  },
  {
   "cell_type": "code",
   "execution_count": 140,
   "metadata": {
    "collapsed": true
   },
   "outputs": [],
   "source": [
    "fc1 = updates[0]\n",
    "output = updates[1]\n",
    "pred_offset = updates[2]\n",
    "pred_pen = updates[3]\n",
    "actual_offset = updates[4]\n",
    "actual_pen = updates[5]\n",
    "offset_loss = updates[6]\n",
    "pen_loss = updates[7]\n",
    "loss = updates[8]\n",
    "train_op = updates[9]\n",
    "strokes = updates[10]\n",
    "\n"
   ]
  },
  {
   "cell_type": "code",
   "execution_count": null,
   "metadata": {},
   "outputs": [],
   "source": []
  },
  {
   "cell_type": "code",
   "execution_count": 146,
   "metadata": {},
   "outputs": [
    {
     "data": {
      "text/plain": [
       "array([[ -4.9099865 , -25.54231262],\n",
       "       [ -4.9099865 , -25.54231262],\n",
       "       [ -4.9099865 , -25.54231262],\n",
       "       [ -4.9099865 , -25.54231262],\n",
       "       [ -6.00459099, -29.07175446],\n",
       "       [ -6.00459099, -29.07175446],\n",
       "       [ -6.00459099, -29.07175446],\n",
       "       [ -6.00459099, -29.07175446],\n",
       "       [ -6.00459099, -29.07175446],\n",
       "       [ -6.00459099, -29.07175446]], dtype=float32)"
      ]
     },
     "execution_count": 146,
     "metadata": {},
     "output_type": "execute_result"
    }
   ],
   "source": []
  },
  {
   "cell_type": "code",
   "execution_count": null,
   "metadata": {},
   "outputs": [],
   "source": []
  },
  {
   "cell_type": "code",
   "execution_count": null,
   "metadata": {
    "collapsed": true
   },
   "outputs": [],
   "source": []
  },
  {
   "cell_type": "code",
   "execution_count": null,
   "metadata": {
    "collapsed": true
   },
   "outputs": [],
   "source": []
  },
  {
   "cell_type": "markdown",
   "metadata": {},
   "source": [
    "###  run multiple batches of MLP version"
   ]
  },
  {
   "cell_type": "code",
   "execution_count": 148,
   "metadata": {},
   "outputs": [
    {
     "name": "stdout",
     "output_type": "stream",
     "text": [
      "Epoch: 0 | Loss: 71.0389 | Offset loss: 710.389 | Pen loss: 0.0\n",
      "Epoch: 200 | Loss: 61.5626 | Offset loss: 615.626 | Pen loss: 0.0\n",
      "Epoch: 400 | Loss: 89.0946 | Offset loss: 890.945 | Pen loss: 0.0\n",
      "Epoch: 600 | Loss: 47.4149 | Offset loss: 474.149 | Pen loss: 0.0\n",
      "Epoch: 800 | Loss: 38.3748 | Offset loss: 383.748 | Pen loss: 0.0\n",
      "Epoch: 1000 | Loss: 68.0604 | Offset loss: 680.604 | Pen loss: 0.0\n",
      "Epoch: 1200 | Loss: 71.572 | Offset loss: 715.72 | Pen loss: 0.0\n",
      "Epoch: 1400 | Loss: 37.8905 | Offset loss: 378.905 | Pen loss: 0.0\n",
      "Epoch: 1600 | Loss: 34.2405 | Offset loss: 342.405 | Pen loss: 0.0\n",
      "Epoch: 1800 | Loss: 89.9038 | Offset loss: 899.038 | Pen loss: 0.0\n",
      "Epoch: 2000 | Loss: 53.3413 | Offset loss: 533.413 | Pen loss: 0.0\n",
      "Epoch: 2200 | Loss: 71.1848 | Offset loss: 711.848 | Pen loss: 0.0\n",
      "Epoch: 2400 | Loss: 67.6233 | Offset loss: 676.233 | Pen loss: 0.0\n",
      "Epoch: 2600 | Loss: 64.3912 | Offset loss: 643.912 | Pen loss: 0.0\n",
      "Epoch: 2800 | Loss: 56.5589 | Offset loss: 565.589 | Pen loss: 0.0\n",
      "Epoch: 3000 | Loss: 61.1465 | Offset loss: 611.465 | Pen loss: 0.0\n",
      "Epoch: 3200 | Loss: 41.4406 | Offset loss: 414.406 | Pen loss: 0.0\n",
      "Epoch: 3400 | Loss: 35.6421 | Offset loss: 356.421 | Pen loss: 0.0\n",
      "Epoch: 3600 | Loss: 59.0903 | Offset loss: 590.903 | Pen loss: 0.0\n",
      "Epoch: 3800 | Loss: 86.5116 | Offset loss: 865.116 | Pen loss: 0.0\n",
      "Epoch: 4000 | Loss: 41.2602 | Offset loss: 412.602 | Pen loss: 0.0\n",
      "Epoch: 4200 | Loss: 66.9203 | Offset loss: 669.203 | Pen loss: 0.0\n",
      "Epoch: 4400 | Loss: 95.8063 | Offset loss: 958.063 | Pen loss: 0.0\n"
     ]
    }
   ],
   "source": [
    "RANDOM_SEED = 42\n",
    "tf.set_random_seed(RANDOM_SEED)\n",
    "\n",
    "# reset entire graph\n",
    "tf.reset_default_graph()\n",
    "\n",
    "# weight on offset loss\n",
    "offset_weight = 0.1\n",
    "\n",
    "# amount to multiply predicted offset values by\n",
    "offset_multiplier = 100.\n",
    "\n",
    "# learning rate\n",
    "learning_rate = 0.01\n",
    "\n",
    "# set batch size\n",
    "batch_size = 10\n",
    "\n",
    "# epoch counter\n",
    "epoch_num = 0\n",
    "\n",
    "# initialize variables\n",
    "F = tf.placeholder(\"float\", shape=[None, 2048])  # features (input)\n",
    "S = tf.placeholder(\"float\", shape=[None, 3]) # strokes (output)\n",
    "\n",
    "# Layer's sizes\n",
    "x_size = F.shape[1]   # Number of input nodes: 2048 features and 1 bias\n",
    "h_size = 256        # Number of hidden nodes\n",
    "y_size = S.shape[1]   # Number of outcomes (x,y,pen)\n",
    "\n",
    "output = tf.placeholder(\"float\", shape=[None,y_size])\n",
    "\n",
    "# convert to tensorflow tensor\n",
    "F = tf.cast(tf.stack(F,name='F'),tf.float32)\n",
    "S = tf.cast(tf.stack(S,name='S'),tf.float32)\n",
    "\n",
    "# Weight initializations\n",
    "W1 = tf.get_variable('W1', [x_size, h_size],initializer=tf.contrib.layers.xavier_initializer(), dtype=tf.float32)\n",
    "b1 = tf.get_variable('b1', [h_size],initializer=tf.zeros_initializer(), dtype=tf.float32)\n",
    "\n",
    "W2 = tf.get_variable('W2', [h_size, h_size],initializer=tf.contrib.layers.xavier_initializer(), dtype=tf.float32)\n",
    "b2 = tf.get_variable('b2', [h_size],initializer=tf.zeros_initializer(), dtype=tf.float32)\n",
    "\n",
    "W3 = tf.get_variable('W3', [h_size, y_size],initializer=tf.contrib.layers.xavier_initializer(), dtype=tf.float32)\n",
    "b3 = tf.get_variable('b3', [y_size],initializer=tf.zeros_initializer(), dtype=tf.float32)\n",
    "\n",
    "# forward propagation\n",
    "fc1 = tf.nn.relu(tf.nn.xw_plus_b(F, W1, b1,name='fc1'))\n",
    "fc2 = tf.nn.relu(tf.nn.xw_plus_b(fc1, W2, b2,name='fc2'))\n",
    "output = tf.nn.xw_plus_b(fc1, W3, b3,name='output')\n",
    "\n",
    "actual_offset = tf.slice(S,[0,0],[batch_size,2])\n",
    "actual_pen = tf.slice(S,[0,2],[batch_size,-1]) \n",
    "pred_offset = tf.multiply(tf.slice(output,[0,0],[batch_size,2]),offset_multiplier)\n",
    "pred_pen = tf.nn.softmax(tf.slice(output,[0,2],[batch_size,-1]))\n",
    "\n",
    "offset_loss = tf.reduce_sum(tf.sqrt(tf.reduce_sum(tf.square(tf.subtract(pred_offset,actual_offset)),axis=1)))\n",
    "pen_loss = tf.reduce_mean(tf.nn.softmax_cross_entropy_with_logits(\n",
    "            labels = actual_pen,\n",
    "            logits = pred_pen))\n",
    "\n",
    "loss = tf.add(tf.multiply(offset_weight,offset_loss),pen_loss)\n",
    "\n",
    "# run backprop\n",
    "optimizer = tf.train.AdamOptimizer(learning_rate)\n",
    "train_op = optimizer.minimize(loss)\n",
    "\n",
    "# saver\n",
    "save = False\n",
    "saver = tf.train.Saver()\n",
    "\n",
    "# get predicted stroke vector\n",
    "strokes = tf.concat([pred_offset, pred_pen],axis=1)\n",
    "\n",
    "# run batches\n",
    "with tf.Session() as sess:\n",
    "    tf.global_variables_initializer().run()\n",
    "    for m in get_minibatches([F_train,S_train.as_matrix().astype('float32')],batch_size,shuffle=True):\n",
    "\n",
    "        if m[0].shape[0]==batch_size:\n",
    "            F_batch = m[0]\n",
    "            S_batch = m[1]    \n",
    "\n",
    "            updates = sess.run([offset_loss, pen_loss, loss, pred_offset], feed_dict={F:F_batch,S:S_batch})    \n",
    "\n",
    "            offset_loss_ = updates[0]\n",
    "            pen_loss_ = updates[1]\n",
    "            loss_ = updates[2]\n",
    "            pred_offset_ = updates[3]\n",
    "\n",
    "            if epoch_num%200==0:\n",
    "                print \"Epoch: \" + str(epoch_num) + \" | Loss: \" + str(loss_) + \\\n",
    "                \" | Offset loss: \" + str(offset_loss_) + \" | Pen loss: \" + str(pen_loss_)\n",
    "\n",
    "            # save\n",
    "            if save:\n",
    "                saver.save(sess, 'checkpoints/pix2svg_train_0')\n",
    "                \n",
    "            # increment epoch number\n",
    "            epoch_num += 1\n"
   ]
  },
  {
   "cell_type": "code",
   "execution_count": null,
   "metadata": {
    "collapsed": true
   },
   "outputs": [],
   "source": [
    "## meeting notes\n",
    "\n",
    "# june 26: validate triplet network to make sure it does the task -- QA\n",
    "# does it take in pen location? put in pen location, pen state \n",
    "# put in sketch so far + (sketch so far +1)\n",
    "# delta x, delta y -- make sure the thing it spits out, after getting squashed by tanh, or whatever, is well centered\n",
    " "
   ]
  },
  {
   "cell_type": "code",
   "execution_count": null,
   "metadata": {
    "collapsed": true
   },
   "outputs": [],
   "source": []
  },
  {
   "cell_type": "code",
   "execution_count": null,
   "metadata": {
    "collapsed": true
   },
   "outputs": [],
   "source": []
  },
  {
   "cell_type": "code",
   "execution_count": null,
   "metadata": {
    "collapsed": true
   },
   "outputs": [],
   "source": []
  },
  {
   "cell_type": "markdown",
   "metadata": {},
   "source": [
    "### run rnn version"
   ]
  },
  {
   "cell_type": "code",
   "execution_count": 558,
   "metadata": {},
   "outputs": [
    {
     "ename": "ValueError",
     "evalue": "Shape must be rank 2 but is rank 3 for 'MatMul' (op: 'MatMul') with input shapes: [200,10,512], [512,3].",
     "output_type": "error",
     "traceback": [
      "\u001b[0;31m---------------------------------------------------------------------------\u001b[0m",
      "\u001b[0;31mValueError\u001b[0m                                Traceback (most recent call last)",
      "\u001b[0;32m<ipython-input-558-652c403bcbc4>\u001b[0m in \u001b[0;36m<module>\u001b[0;34m()\u001b[0m\n\u001b[1;32m     58\u001b[0m \u001b[0mpreds\u001b[0m \u001b[0;34m=\u001b[0m \u001b[0;34m[\u001b[0m\u001b[0;34m]\u001b[0m\u001b[0;34m\u001b[0m\u001b[0m\n\u001b[1;32m     59\u001b[0m \u001b[0;32mfor\u001b[0m \u001b[0moutput\u001b[0m \u001b[0;32min\u001b[0m \u001b[0moutputs\u001b[0m\u001b[0;34m:\u001b[0m\u001b[0;34m\u001b[0m\u001b[0m\n\u001b[0;32m---> 60\u001b[0;31m     \u001b[0mpreds\u001b[0m\u001b[0;34m.\u001b[0m\u001b[0mappend\u001b[0m\u001b[0;34m(\u001b[0m\u001b[0mtf\u001b[0m\u001b[0;34m.\u001b[0m\u001b[0mmatmul\u001b[0m\u001b[0;34m(\u001b[0m\u001b[0moutputs\u001b[0m\u001b[0;34m,\u001b[0m \u001b[0mW_hy\u001b[0m\u001b[0;34m)\u001b[0m\u001b[0;34m)\u001b[0m\u001b[0;34m\u001b[0m\u001b[0m\n\u001b[0m\u001b[1;32m     61\u001b[0m \u001b[0;34m\u001b[0m\u001b[0m\n\u001b[1;32m     62\u001b[0m \u001b[0;34m\u001b[0m\u001b[0m\n",
      "\u001b[0;32m/usr/local/lib/python2.7/dist-packages/tensorflow/python/ops/math_ops.pyc\u001b[0m in \u001b[0;36mmatmul\u001b[0;34m(a, b, transpose_a, transpose_b, adjoint_a, adjoint_b, a_is_sparse, b_is_sparse, name)\u001b[0m\n\u001b[1;32m   1763\u001b[0m     \u001b[0;32melse\u001b[0m\u001b[0;34m:\u001b[0m\u001b[0;34m\u001b[0m\u001b[0m\n\u001b[1;32m   1764\u001b[0m       return gen_math_ops._mat_mul(\n\u001b[0;32m-> 1765\u001b[0;31m           a, b, transpose_a=transpose_a, transpose_b=transpose_b, name=name)\n\u001b[0m\u001b[1;32m   1766\u001b[0m \u001b[0;34m\u001b[0m\u001b[0m\n\u001b[1;32m   1767\u001b[0m \u001b[0;34m\u001b[0m\u001b[0m\n",
      "\u001b[0;32m/usr/local/lib/python2.7/dist-packages/tensorflow/python/ops/gen_math_ops.pyc\u001b[0m in \u001b[0;36m_mat_mul\u001b[0;34m(a, b, transpose_a, transpose_b, name)\u001b[0m\n\u001b[1;32m   1452\u001b[0m   \"\"\"\n\u001b[1;32m   1453\u001b[0m   result = _op_def_lib.apply_op(\"MatMul\", a=a, b=b, transpose_a=transpose_a,\n\u001b[0;32m-> 1454\u001b[0;31m                                 transpose_b=transpose_b, name=name)\n\u001b[0m\u001b[1;32m   1455\u001b[0m   \u001b[0;32mreturn\u001b[0m \u001b[0mresult\u001b[0m\u001b[0;34m\u001b[0m\u001b[0m\n\u001b[1;32m   1456\u001b[0m \u001b[0;34m\u001b[0m\u001b[0m\n",
      "\u001b[0;32m/usr/local/lib/python2.7/dist-packages/tensorflow/python/framework/op_def_library.pyc\u001b[0m in \u001b[0;36mapply_op\u001b[0;34m(self, op_type_name, name, **keywords)\u001b[0m\n\u001b[1;32m    761\u001b[0m         op = g.create_op(op_type_name, inputs, output_types, name=scope,\n\u001b[1;32m    762\u001b[0m                          \u001b[0minput_types\u001b[0m\u001b[0;34m=\u001b[0m\u001b[0minput_types\u001b[0m\u001b[0;34m,\u001b[0m \u001b[0mattrs\u001b[0m\u001b[0;34m=\u001b[0m\u001b[0mattr_protos\u001b[0m\u001b[0;34m,\u001b[0m\u001b[0;34m\u001b[0m\u001b[0m\n\u001b[0;32m--> 763\u001b[0;31m                          op_def=op_def)\n\u001b[0m\u001b[1;32m    764\u001b[0m         \u001b[0;32mif\u001b[0m \u001b[0moutput_structure\u001b[0m\u001b[0;34m:\u001b[0m\u001b[0;34m\u001b[0m\u001b[0m\n\u001b[1;32m    765\u001b[0m           \u001b[0moutputs\u001b[0m \u001b[0;34m=\u001b[0m \u001b[0mop\u001b[0m\u001b[0;34m.\u001b[0m\u001b[0moutputs\u001b[0m\u001b[0;34m\u001b[0m\u001b[0m\n",
      "\u001b[0;32m/usr/local/lib/python2.7/dist-packages/tensorflow/python/framework/ops.pyc\u001b[0m in \u001b[0;36mcreate_op\u001b[0;34m(self, op_type, inputs, dtypes, input_types, name, attrs, op_def, compute_shapes, compute_device)\u001b[0m\n\u001b[1;32m   2327\u001b[0m                     original_op=self._default_original_op, op_def=op_def)\n\u001b[1;32m   2328\u001b[0m     \u001b[0;32mif\u001b[0m \u001b[0mcompute_shapes\u001b[0m\u001b[0;34m:\u001b[0m\u001b[0;34m\u001b[0m\u001b[0m\n\u001b[0;32m-> 2329\u001b[0;31m       \u001b[0mset_shapes_for_outputs\u001b[0m\u001b[0;34m(\u001b[0m\u001b[0mret\u001b[0m\u001b[0;34m)\u001b[0m\u001b[0;34m\u001b[0m\u001b[0m\n\u001b[0m\u001b[1;32m   2330\u001b[0m     \u001b[0mself\u001b[0m\u001b[0;34m.\u001b[0m\u001b[0m_add_op\u001b[0m\u001b[0;34m(\u001b[0m\u001b[0mret\u001b[0m\u001b[0;34m)\u001b[0m\u001b[0;34m\u001b[0m\u001b[0m\n\u001b[1;32m   2331\u001b[0m     \u001b[0mself\u001b[0m\u001b[0;34m.\u001b[0m\u001b[0m_record_op_seen_by_control_dependencies\u001b[0m\u001b[0;34m(\u001b[0m\u001b[0mret\u001b[0m\u001b[0;34m)\u001b[0m\u001b[0;34m\u001b[0m\u001b[0m\n",
      "\u001b[0;32m/usr/local/lib/python2.7/dist-packages/tensorflow/python/framework/ops.pyc\u001b[0m in \u001b[0;36mset_shapes_for_outputs\u001b[0;34m(op)\u001b[0m\n\u001b[1;32m   1715\u001b[0m       \u001b[0mshape_func\u001b[0m \u001b[0;34m=\u001b[0m \u001b[0m_call_cpp_shape_fn_and_require_op\u001b[0m\u001b[0;34m\u001b[0m\u001b[0m\n\u001b[1;32m   1716\u001b[0m \u001b[0;34m\u001b[0m\u001b[0m\n\u001b[0;32m-> 1717\u001b[0;31m   \u001b[0mshapes\u001b[0m \u001b[0;34m=\u001b[0m \u001b[0mshape_func\u001b[0m\u001b[0;34m(\u001b[0m\u001b[0mop\u001b[0m\u001b[0;34m)\u001b[0m\u001b[0;34m\u001b[0m\u001b[0m\n\u001b[0m\u001b[1;32m   1718\u001b[0m   \u001b[0;32mif\u001b[0m \u001b[0mshapes\u001b[0m \u001b[0;32mis\u001b[0m \u001b[0mNone\u001b[0m\u001b[0;34m:\u001b[0m\u001b[0;34m\u001b[0m\u001b[0m\n\u001b[1;32m   1719\u001b[0m     raise RuntimeError(\n",
      "\u001b[0;32m/usr/local/lib/python2.7/dist-packages/tensorflow/python/framework/ops.pyc\u001b[0m in \u001b[0;36mcall_with_requiring\u001b[0;34m(op)\u001b[0m\n\u001b[1;32m   1665\u001b[0m \u001b[0;34m\u001b[0m\u001b[0m\n\u001b[1;32m   1666\u001b[0m   \u001b[0;32mdef\u001b[0m \u001b[0mcall_with_requiring\u001b[0m\u001b[0;34m(\u001b[0m\u001b[0mop\u001b[0m\u001b[0;34m)\u001b[0m\u001b[0;34m:\u001b[0m\u001b[0;34m\u001b[0m\u001b[0m\n\u001b[0;32m-> 1667\u001b[0;31m     \u001b[0;32mreturn\u001b[0m \u001b[0mcall_cpp_shape_fn\u001b[0m\u001b[0;34m(\u001b[0m\u001b[0mop\u001b[0m\u001b[0;34m,\u001b[0m \u001b[0mrequire_shape_fn\u001b[0m\u001b[0;34m=\u001b[0m\u001b[0mTrue\u001b[0m\u001b[0;34m)\u001b[0m\u001b[0;34m\u001b[0m\u001b[0m\n\u001b[0m\u001b[1;32m   1668\u001b[0m \u001b[0;34m\u001b[0m\u001b[0m\n\u001b[1;32m   1669\u001b[0m   \u001b[0m_call_cpp_shape_fn_and_require_op\u001b[0m \u001b[0;34m=\u001b[0m \u001b[0mcall_with_requiring\u001b[0m\u001b[0;34m\u001b[0m\u001b[0m\n",
      "\u001b[0;32m/usr/local/lib/python2.7/dist-packages/tensorflow/python/framework/common_shapes.pyc\u001b[0m in \u001b[0;36mcall_cpp_shape_fn\u001b[0;34m(op, input_tensors_needed, input_tensors_as_shapes_needed, debug_python_shape_fn, require_shape_fn)\u001b[0m\n\u001b[1;32m    608\u001b[0m     res = _call_cpp_shape_fn_impl(op, input_tensors_needed,\n\u001b[1;32m    609\u001b[0m                                   \u001b[0minput_tensors_as_shapes_needed\u001b[0m\u001b[0;34m,\u001b[0m\u001b[0;34m\u001b[0m\u001b[0m\n\u001b[0;32m--> 610\u001b[0;31m                                   debug_python_shape_fn, require_shape_fn)\n\u001b[0m\u001b[1;32m    611\u001b[0m     \u001b[0;32mif\u001b[0m \u001b[0;32mnot\u001b[0m \u001b[0misinstance\u001b[0m\u001b[0;34m(\u001b[0m\u001b[0mres\u001b[0m\u001b[0;34m,\u001b[0m \u001b[0mdict\u001b[0m\u001b[0;34m)\u001b[0m\u001b[0;34m:\u001b[0m\u001b[0;34m\u001b[0m\u001b[0m\n\u001b[1;32m    612\u001b[0m       \u001b[0;31m# Handles the case where _call_cpp_shape_fn_impl calls unknown_shape(op).\u001b[0m\u001b[0;34m\u001b[0m\u001b[0;34m\u001b[0m\u001b[0m\n",
      "\u001b[0;32m/usr/local/lib/python2.7/dist-packages/tensorflow/python/framework/common_shapes.pyc\u001b[0m in \u001b[0;36m_call_cpp_shape_fn_impl\u001b[0;34m(op, input_tensors_needed, input_tensors_as_shapes_needed, debug_python_shape_fn, require_shape_fn)\u001b[0m\n\u001b[1;32m    674\u001b[0m       \u001b[0mmissing_shape_fn\u001b[0m \u001b[0;34m=\u001b[0m \u001b[0mTrue\u001b[0m\u001b[0;34m\u001b[0m\u001b[0m\n\u001b[1;32m    675\u001b[0m     \u001b[0;32melse\u001b[0m\u001b[0;34m:\u001b[0m\u001b[0;34m\u001b[0m\u001b[0m\n\u001b[0;32m--> 676\u001b[0;31m       \u001b[0;32mraise\u001b[0m \u001b[0mValueError\u001b[0m\u001b[0;34m(\u001b[0m\u001b[0merr\u001b[0m\u001b[0;34m.\u001b[0m\u001b[0mmessage\u001b[0m\u001b[0;34m)\u001b[0m\u001b[0;34m\u001b[0m\u001b[0m\n\u001b[0m\u001b[1;32m    677\u001b[0m \u001b[0;34m\u001b[0m\u001b[0m\n\u001b[1;32m    678\u001b[0m   \u001b[0;32mif\u001b[0m \u001b[0mmissing_shape_fn\u001b[0m\u001b[0;34m:\u001b[0m\u001b[0;34m\u001b[0m\u001b[0m\n",
      "\u001b[0;31mValueError\u001b[0m: Shape must be rank 2 but is rank 3 for 'MatMul' (op: 'MatMul') with input shapes: [200,10,512], [512,3]."
     ]
    }
   ],
   "source": [
    "RANDOM_SEED = 42\n",
    "tf.set_random_seed(RANDOM_SEED)\n",
    "\n",
    "# reset entire graph\n",
    "tf.reset_default_graph()\n",
    "\n",
    "# weight on offset loss\n",
    "offset_weight = 1000.\n",
    "\n",
    "# learning rate\n",
    "learning_rate = 0.01\n",
    "\n",
    "# set batch size\n",
    "batch_size = 10\n",
    "\n",
    "# epoch counter\n",
    "epoch_num = 0\n",
    "\n",
    "# max strokes\n",
    "max_strokes = 200\n",
    "\n",
    "# initialize variables\n",
    "F = tf.placeholder(\"float\", shape=[None, 2048])  # features (input)\n",
    "S = tf.placeholder(\"float\", shape=[None, 3]) # strokes (output)\n",
    "\n",
    "# layer sizes\n",
    "x_size = F.shape[1]   # Number of input nodes: 2048 features and 1 bias\n",
    "h_size = 512        # Number of hidden nodes\n",
    "y_size = S.shape[1]   # Number of outcomes (x,y,pen)\n",
    "\n",
    "# rnn hyperparameters\n",
    "rnn_hidden_size = 512 # number of rnn hidden units\n",
    "\n",
    "output = tf.placeholder(\"float\", shape=[None,y_size])\n",
    "\n",
    "# convert to tensorflow tensor\n",
    "F = tf.cast(tf.stack(F,name='F'),tf.float32)\n",
    "S = tf.cast(tf.stack(S,name='S'),tf.float32)\n",
    "\n",
    "# Weight initializations\n",
    "W1 = tf.get_variable('W1', [x_size, h_size],initializer=tf.contrib.layers.xavier_initializer(), dtype=tf.float32)\n",
    "b1 = tf.get_variable('b1', [h_size],initializer=tf.zeros_initializer(), dtype=tf.float32)\n",
    "W2 = tf.get_variable('W2', [h_size, y_size],initializer=tf.contrib.layers.xavier_initializer(), dtype=tf.float32)\n",
    "b2 = tf.get_variable('b2', [y_size],initializer=tf.zeros_initializer(), dtype=tf.float32)\n",
    "\n",
    "# forward propagation\n",
    "# Run RNN and run linear layer to fit to correct size.\n",
    "\n",
    "rnn_input = tf.nn.xw_plus_b(F, W1, b1,name='rnn_input')\n",
    "cell = tf.contrib.rnn.BasicLSTMCell(rnn_hidden_size)\n",
    "starting_state = cell.zero_state(batch_size=batch_size, dtype=tf.float32)\n",
    "outputs, final_rnn_state = tf.contrib.rnn.static_rnn(cell, \n",
    "                            [rnn_input]*max_strokes,\n",
    "                            initial_state=starting_state,\n",
    "                            dtype=tf.float32)\n",
    "W_hy = tf.get_variable('W_hy', [rnn_hidden_size, y_size],initializer=tf.contrib.layers.xavier_initializer(), dtype=tf.float32)\n",
    "\n",
    "preds = []\n",
    "for output in outputs:\n",
    "    preds.append(tf.matmul(outputs, W_hy))\n",
    "\n",
    "\n",
    "# output = tf.nn.xw_plus_b(fc1, W2, b2,name='output')\n",
    "\n",
    "# actual_offset = tf.slice(S,[0,0],[batch_size,2])\n",
    "# actual_pen = tf.slice(S,[0,2],[batch_size,-1]) \n",
    "# pred_offset = tf.multiply(tf.slice(output,[0,0],[batch_size,2]),offset_weight)\n",
    "# pred_pen = tf.nn.softmax(tf.slice(output,[0,2],[batch_size,-1]))\n",
    "\n",
    "# offset_loss = tf.reduce_sum(tf.sqrt(tf.reduce_sum(tf.square(tf.subtract(pred_offset,actual_offset)),axis=1)))\n",
    "# pen_loss = tf.reduce_mean(tf.nn.softmax_cross_entropy_with_logits(\n",
    "#             labels = actual_pen,\n",
    "#             logits = pred_pen))\n",
    "\n",
    "# loss = tf.add(offset_loss,pen_loss)\n",
    "\n",
    "# # run backprop\n",
    "# optimizer = tf.train.AdamOptimizer(learning_rate)\n",
    "# train_op = optimizer.minimize(loss)\n",
    "\n",
    "# saver\n",
    "save = False\n",
    "saver = tf.train.Saver()\n",
    "\n",
    "# # get predicted stroke vector\n",
    "# strokes = tf.concat([pred_offset, pred_pen],axis=1)\n",
    "\n",
    "# run batches\n",
    "with tf.Session() as sess:\n",
    "    tf.global_variables_initializer().run()\n",
    "    for m in get_minibatches([F_train,S_train.as_matrix()],batch_size,shuffle=True):\n",
    "\n",
    "        if m[0].shape[0]==batch_size:\n",
    "            F_batch = m[0]\n",
    "            S_batch = m[1]    \n",
    "\n",
    "            updates = sess.run([preds], feed_dict={F:F_batch,S:S_batch})    \n",
    "\n",
    "            preds_ = updates[0]\n",
    "\n",
    "            if epoch_num%200==0:\n",
    "                print \"Epoch: \" + str(epoch_num) \n",
    "\n",
    "            # save\n",
    "            if save:\n",
    "                saver.save(sess, 'checkpoints/pix2svg_train_rnn_0')\n",
    "                \n",
    "            # increment epoch number\n",
    "            epoch_num += 1\n"
   ]
  },
  {
   "cell_type": "code",
   "execution_count": null,
   "metadata": {
    "collapsed": true
   },
   "outputs": [],
   "source": []
  },
  {
   "cell_type": "code",
   "execution_count": null,
   "metadata": {
    "collapsed": true
   },
   "outputs": [],
   "source": []
  },
  {
   "cell_type": "code",
   "execution_count": null,
   "metadata": {
    "collapsed": true
   },
   "outputs": [],
   "source": []
  },
  {
   "cell_type": "code",
   "execution_count": null,
   "metadata": {
    "collapsed": true
   },
   "outputs": [],
   "source": []
  },
  {
   "cell_type": "code",
   "execution_count": null,
   "metadata": {
    "collapsed": true
   },
   "outputs": [],
   "source": []
  },
  {
   "cell_type": "code",
   "execution_count": null,
   "metadata": {
    "collapsed": true
   },
   "outputs": [],
   "source": []
  },
  {
   "cell_type": "code",
   "execution_count": 337,
   "metadata": {
    "collapsed": true
   },
   "outputs": [],
   "source": [
    "# for epoch in range(50):\n",
    "#     # Train with each examplea\n",
    "#     for i in range(len(F_batch)):\n",
    "#         sess.run(updates, feed_dict={X: F_batch[i: i + 1], y: S_batch[i: i + 1]})\n",
    "        \n",
    "#         loss = sess.run(output, feed_dict={X: F_batch, y: S_batch})      "
   ]
  },
  {
   "cell_type": "code",
   "execution_count": 290,
   "metadata": {},
   "outputs": [
    {
     "data": {
      "text/plain": [
       "<matplotlib.figure.Figure at 0x7f474cfcf050>"
      ]
     },
     "metadata": {},
     "output_type": "display_data"
    },
    {
     "data": {
      "image/png": "[encoded data removed]",
      "text/plain": [
       "<matplotlib.figure.Figure at 0x7f474cfcf990>"
      ]
     },
     "metadata": {},
     "output_type": "display_data"
    }
   ],
   "source": [
    "fig = plt.figure()\n",
    "im = plt.matshow(np.corrcoef(F_batch_array),vmin=0.5)\n",
    "plt.show()"
   ]
  },
  {
   "cell_type": "code",
   "execution_count": null,
   "metadata": {
    "collapsed": true
   },
   "outputs": [],
   "source": []
  },
  {
   "cell_type": "code",
   "execution_count": null,
   "metadata": {
    "collapsed": true
   },
   "outputs": [],
   "source": []
  },
  {
   "cell_type": "code",
   "execution_count": null,
   "metadata": {
    "collapsed": true
   },
   "outputs": [],
   "source": []
  },
  {
   "cell_type": "code",
   "execution_count": null,
   "metadata": {
    "collapsed": true
   },
   "outputs": [],
   "source": []
  },
  {
   "cell_type": "code",
   "execution_count": null,
   "metadata": {
    "collapsed": true
   },
   "outputs": [],
   "source": []
  },
  {
   "cell_type": "code",
   "execution_count": 20,
   "metadata": {
    "collapsed": true
   },
   "outputs": [],
   "source": [
    "sess.close()"
   ]
  },
  {
   "cell_type": "code",
   "execution_count": 174,
   "metadata": {},
   "outputs": [
    {
     "data": {
      "image/png": "[encoded data removed]",
      "text/plain": [
       "<matplotlib.figure.Figure at 0x7f470566ca90>"
      ]
     },
     "metadata": {},
     "output_type": "display_data"
    }
   ],
   "source": [
    "# get minibatch\n",
    "batch_size = 1500\n",
    "F_batch = F_train[:batch_size,:]\n",
    "S_batch = S_train.head(n=batch_size)\n",
    "\n",
    "# reserve numpy version \n",
    "F_batch_array = F_batch\n",
    "S_batch_array = S_batch.as_matrix()\n",
    "\n",
    "plt.matshow(np.corrcoef(F_batch_array))\n",
    "plt.show()"
   ]
  },
  {
   "cell_type": "code",
   "execution_count": 198,
   "metadata": {},
   "outputs": [
    {
     "data": {
      "image/png": "[encoded data removed]",
      "text/plain": [
       "<matplotlib.figure.Figure at 0x7f4741b99690>"
      ]
     },
     "metadata": {},
     "output_type": "display_data"
    }
   ],
   "source": [
    "SF_ = SF[100:110,:]\n",
    "plt.matshow(np.corrcoef(SF_))\n",
    "plt.show()"
   ]
  },
  {
   "cell_type": "code",
   "execution_count": 200,
   "metadata": {},
   "outputs": [
    {
     "data": {
      "image/png": "[encoded data removed]",
      "text/plain": [
       "<matplotlib.figure.Figure at 0x7f4741c5fd50>"
      ]
     },
     "metadata": {},
     "output_type": "display_data"
    }
   ],
   "source": [
    "PF_ = PF[:batch_size,:]\n",
    "plt.matshow(np.corrcoef(PF_))\n",
    "plt.show()"
   ]
  },
  {
   "cell_type": "code",
   "execution_count": null,
   "metadata": {
    "collapsed": true
   },
   "outputs": [],
   "source": []
  },
  {
   "cell_type": "code",
   "execution_count": null,
   "metadata": {
    "collapsed": true
   },
   "outputs": [],
   "source": []
  },
  {
   "cell_type": "code",
   "execution_count": null,
   "metadata": {
    "collapsed": true
   },
   "outputs": [],
   "source": []
  },
  {
   "cell_type": "code",
   "execution_count": null,
   "metadata": {
    "collapsed": true
   },
   "outputs": [],
   "source": []
  }
 ],
 "metadata": {
  "kernelspec": {
   "display_name": "Python 2",
   "language": "python",
   "name": "python2"
  },
  "language_info": {
   "codemirror_mode": {
    "name": "ipython",
    "version": 2
   },
   "file_extension": ".py",
   "mimetype": "text/x-python",
   "name": "python",
   "nbconvert_exporter": "python",
   "pygments_lexer": "ipython2",
   "version": "2.7.12"
  }
 },
 "nbformat": 4,
 "nbformat_minor": 2
}
