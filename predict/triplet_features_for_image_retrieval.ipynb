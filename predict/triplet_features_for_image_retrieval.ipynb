{
 "cells": [
  {
   "cell_type": "code",
   "execution_count": null,
   "metadata": {
    "collapsed": true
   },
   "outputs": [],
   "source": [
    "## 9/12/17: this notebook subsets the relevant stuff from tf_sketchy.ipynb\n",
    "## in order to compare triplet features to imagenet-only vgg \n",
    "## on the image retrieval task"
   ]
  },
  {
   "cell_type": "code",
   "execution_count": 9,
   "metadata": {
    "collapsed": true
   },
   "outputs": [],
   "source": [
    "from __future__ import division\n",
    "\n",
    "import numpy as np\n",
    "from numpy import *\n",
    "\n",
    "from sklearn.model_selection import train_test_split\n",
    "from sklearn.model_selection import cross_val_score\n",
    "from sklearn import svm\n",
    "from sklearn import linear_model\n",
    "\n",
    "import os\n",
    "\n",
    "import PIL\n",
    "from PIL import Image\n",
    "import matplotlib.pyplot as plt\n",
    "from matplotlib.path import Path\n",
    "import matplotlib.patches as patches\n",
    "\n",
    "from skimage import data, io, filters\n",
    "\n",
    "import pandas as pd"
   ]
  },
  {
   "cell_type": "code",
   "execution_count": 3,
   "metadata": {
    "collapsed": true
   },
   "outputs": [],
   "source": [
    "# load in features for photos\n",
    "path_to_features = 'sketchy/triplet_features'\n",
    "photo_features = np.load(os.path.join(path_to_features,'photo_features.npy'))\n",
    "F = photo_features\n",
    "\n",
    "# read in filenames and generate pandas dataframe with object labels\n",
    "_filenames = pd.read_csv(os.path.join(path_to_features,'photo_filenames.txt'),header=None,names=['filename'])\n",
    "\n",
    "filenames = []\n",
    "for i in range(len(_filenames)):\n",
    "    filenames.append(_filenames[_filenames.index==i].values[0][0])\n",
    "filenames = ['sketchy' + f[1:] for f in filenames]\n",
    "path = filenames\n",
    "obj = [f.split('/')[3] for f in filenames]\n",
    "img = [f.split('/')[4] for f in filenames]\n",
    "\n",
    "data = {'path': path,\n",
    "         'object': obj,\n",
    "         'filename': img}\n",
    "X = pd.DataFrame.from_dict(data)\n",
    "\n",
    "# subset airplane features only\n",
    "matches = X['object']=='airplane'\n",
    "inds = np.where(matches==True)\n",
    "X0 = X[matches]\n",
    "F0 = F[inds]"
   ]
  },
  {
   "cell_type": "code",
   "execution_count": 4,
   "metadata": {
    "collapsed": true
   },
   "outputs": [],
   "source": [
    "# construct (11094,1024) version of photo feature matrix, called PF, that matches indexing of the sketch feature matrix\n",
    "sketch_features = np.load('sketchy/airplane_features/airplane_sketch_features.npy')\n",
    "_sketch_filenames = pd.read_csv('sketchy/airplane_features/airplane_sketch_filenames.txt',header=None,names=['filename'])\n",
    "sketch_filenames = []\n",
    "for i in range(len(_sketch_filenames)):\n",
    "    sketch_filenames.append(_sketch_filenames[_sketch_filenames.index==i].values[0][0])\n",
    "PF = []\n",
    "inds = [] \n",
    "for sf in sketch_filenames:\n",
    "    q = sf.split('/')[2]+'.jpg'\n",
    "    PF.append(F0[X0['filename']==q])\n",
    "    inds.append(np.where(X0['filename']==q)[0][0])\n",
    "PF = np.squeeze(np.array(PF))\n",
    "SF = sketch_features\n",
    "inds = np.array(inds)\n",
    "\n",
    "## zip together/concatenate the photo and sketch features\n",
    "_F = np.hstack((PF,SF))"
   ]
  },
  {
   "cell_type": "code",
   "execution_count": 7,
   "metadata": {
    "collapsed": true
   },
   "outputs": [],
   "source": [
    "## get just complete sketches from each sketch folder\n",
    "sketch_folders = np.unique([os.path.dirname(s) for s in sketch_filenames])\n",
    "complete_paths = []\n",
    "SF_complete = []\n",
    "photos_complete = []\n",
    "for (j,s) in enumerate(sketch_folders):\n",
    "    complete_sketch = str(max([int(i.split('.')[0]) for i \\\n",
    "                               in os.listdir(s)])) + '.png'\n",
    "    complete_paths.append(os.path.join(os.path.dirname(s),complete_sketch))\n",
    "    SF_complete.append(SF[j])\n",
    "    photos_complete.append(os.path.dirname(s).split('/')[-1])\n",
    "SF_complete = np.array(SF_complete) \n",
    "photos_complete = np.array(photos_complete)"
   ]
  },
  {
   "cell_type": "code",
   "execution_count": null,
   "metadata": {
    "collapsed": true
   },
   "outputs": [],
   "source": []
  },
  {
   "cell_type": "code",
   "execution_count": 10,
   "metadata": {},
   "outputs": [
    {
     "name": "stdout",
     "output_type": "stream",
     "text": [
      "dimensionality of train/test split\n",
      "(536, 1024) (536,)\n",
      "(135, 1024) (135,)\n",
      " \n",
      "Accuracy: 0.43 (+/- 0.01)\n"
     ]
    }
   ],
   "source": [
    "## get image classification within airplane class\n",
    "run_this = 1\n",
    "FEAT = SF_complete\n",
    "LABELS = photos_complete\n",
    "if run_this:\n",
    "    # split sketch feature data for linear classification\n",
    "    X_train, X_test, y_train, y_test = train_test_split(\n",
    "        FEAT, LABELS, test_size=0.2, random_state=0)\n",
    "\n",
    "    # check dimensionality of split data\n",
    "    print 'dimensionality of train/test split'\n",
    "    print X_train.shape, y_train.shape\n",
    "    print X_test.shape, y_test.shape\n",
    "    print ' '\n",
    "    cval = True\n",
    "    if cval==False:\n",
    "        # compute linear classification accuracy (takes a minute or so to run)\n",
    "        clf = svm.SVC(kernel='linear', C=1).fit(X_train, y_train)\n",
    "        clf.score(X_test, y_test)   \n",
    "    else:\n",
    "        # compute linear classification accuracy (takes several minutes to run)       \n",
    "#         clf = svm.SVC(kernel='linear', C=1)\n",
    "        clf = linear_model.LogisticRegression(penalty='l2')\n",
    "        scores = cross_val_score(clf, FEAT, LABELS, cv=2)\n",
    "        print(\"Accuracy: %0.2f (+/- %0.2f)\" % (scores.mean(), scores.std() * 2))\n",
    "        ## SVM Accuracy: 0.41 (+/- 0.08) with cv=5 measured on 6/26/17 on intermediate sketches\n",
    "        ## softmax Accuracy: 0.43 (+/- 0.01) with cv=2 measured on 9/11/17        "
   ]
  },
  {
   "cell_type": "markdown",
   "metadata": {},
   "source": [
    "#### euclidean distances among sketches\n"
   ]
  },
  {
   "cell_type": "code",
   "execution_count": 12,
   "metadata": {},
   "outputs": [
    {
     "name": "stdout",
     "output_type": "stream",
     "text": [
      "(671, 671)\n"
     ]
    }
   ],
   "source": [
    "from sklearn.metrics.pairwise import pairwise_distances\n",
    "\n",
    "euc = pairwise_distances(SF_complete,metric='euclidean')\n",
    "print euc.shape"
   ]
  },
  {
   "cell_type": "code",
   "execution_count": 13,
   "metadata": {},
   "outputs": [
    {
     "data": {
      "image/png": "[encoded data removed]",
      "text/plain": [
       "<matplotlib.figure.Figure at 0x7f3a0e5e4110>"
      ]
     },
     "metadata": {},
     "output_type": "display_data"
    }
   ],
   "source": [
    "p_ind = 4\n",
    "fp = 20\n",
    "fig = plt.figure(figsize=(9,9))\n",
    "for (_i,p_ind) in enumerate(np.arange(fp,fp+9)):\n",
    "    unique_photos = np.unique(photos_complete)\n",
    "    inds = np.where(photos_complete==unique_photos[p_ind])[0]\n",
    "    start = inds[0]\n",
    "    stop = inds[-1]\n",
    "\n",
    "    # get within-photo sketch distances\n",
    "    within_block = euc[start:stop+1,start:stop+1]\n",
    "    assert len(within_block[np.triu_indices(len(within_block),k=1)])==(len(within_block)**2-len(within_block))/2\n",
    "    within_distances = within_block[np.triu_indices(len(within_block),k=1)]\n",
    "\n",
    "    # get between-photo sketch distances\n",
    "    all_inds = np.arange(len(photos_complete))\n",
    "    non_matches = [i for i in all_inds if i not in inds]\n",
    "    _non_matches_shuff = np.random.RandomState(seed=0).permutation(non_matches)\n",
    "    non_matches_shuff = _non_matches_shuff[:len(inds)]\n",
    "    btw_distances = euc[start:stop+1,non_matches_shuff].flatten()\n",
    "\n",
    "    # plot    \n",
    "    plt.subplot(3,3,_i+1)\n",
    "    h = plt.hist(within_distances,bins=20,alpha=0.3)\n",
    "    h = plt.hist(btw_distances,bins=20,alpha=0.3)\n",
    "    plt.title(str(p_ind))\n",
    "plt.show()\n",
    "    "
   ]
  },
  {
   "cell_type": "code",
   "execution_count": null,
   "metadata": {
    "collapsed": true
   },
   "outputs": [],
   "source": []
  }
 ],
 "metadata": {
  "kernelspec": {
   "display_name": "Python 2",
   "language": "python",
   "name": "python2"
  },
  "language_info": {
   "codemirror_mode": {
    "name": "ipython",
    "version": 2
   },
   "file_extension": ".py",
   "mimetype": "text/x-python",
   "name": "python",
   "nbconvert_exporter": "python",
   "pygments_lexer": "ipython2",
   "version": "2.7.12"
  }
 },
 "nbformat": 4,
 "nbformat_minor": 2
}
