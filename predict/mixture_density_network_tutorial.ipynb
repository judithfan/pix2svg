{
 "cells": [
  {
   "cell_type": "code",
   "execution_count": null,
   "metadata": {
    "collapsed": true
   },
   "outputs": [],
   "source": [
    "# from: http://blog.otoro.net/2015/11/24/mixture-density-networks-with-tensorflow/\n",
    "\n",
    "from __future__ import division\n",
    "\n",
    "import numpy as np\n",
    "from numpy import *\n",
    "\n",
    "import os\n",
    "\n",
    "import tensorflow as tf\n",
    "\n",
    "import PIL\n",
    "from PIL import Image\n",
    "import matplotlib.pyplot as plt\n",
    "\n",
    "from skimage import data, io, filters\n",
    "\n",
    "from matplotlib.path import Path\n",
    "import matplotlib.patches as patches\n",
    "\n",
    "import pandas as pd"
   ]
  },
  {
   "cell_type": "code",
   "execution_count": null,
   "metadata": {},
   "outputs": [],
   "source": [
    "## self contained example of sinusoidal function fitting\n",
    "NSAMPLE = 1000\n",
    "x_data = np.float32(np.random.uniform(-10.5, 10.5, (1, NSAMPLE))).T\n",
    "r_data = np.float32(np.random.normal(size=(NSAMPLE,1)))\n",
    "y_data = np.float32(np.sin(0.75*x_data)*7.0+x_data*0.5+r_data*1.0)\n",
    "\n",
    "x = tf.placeholder(dtype=tf.float32, shape=[None,1])\n",
    "y = tf.placeholder(dtype=tf.float32, shape=[None,1])\n",
    "\n",
    "NHIDDEN = 20\n",
    "W = tf.Variable(tf.random_normal([1,NHIDDEN], stddev=1.0, dtype=tf.float32))\n",
    "b = tf.Variable(tf.random_normal([1,NHIDDEN], stddev=1.0, dtype=tf.float32))\n",
    "\n",
    "W_out = tf.Variable(tf.random_normal([NHIDDEN,1], stddev=1.0, dtype=tf.float32))\n",
    "b_out = tf.Variable(tf.random_normal([1,1], stddev=1.0, dtype=tf.float32))\n",
    "\n",
    "hidden_layer = tf.nn.tanh(tf.matmul(x, W) + b)\n",
    "y_out = tf.matmul(hidden_layer,W_out) + b_out\n",
    "lossfunc = tf.nn.l2_loss(y_out-y)\n",
    "train_op = tf.train.RMSPropOptimizer(learning_rate=0.1, decay=0.8).minimize(lossfunc)\n",
    "\n",
    "sess = tf.InteractiveSession()\n",
    "sess.run(tf.global_variables_initializer())\n",
    "NEPOCH = 1000\n",
    "for i in range(NEPOCH):\n",
    "    sess.run(train_op,feed_dict={x: x_data, y: y_data})\n",
    "    \n",
    "x_test = np.float32(np.arange(-10.5,10.5,0.1))\n",
    "x_test = x_test.reshape(x_test.size,1)\n",
    "y_test = sess.run(y_out,feed_dict={x: x_test})\n",
    "\n",
    "plt.figure(figsize=(8, 8))\n",
    "plt.plot(x_data,y_data,'ro', x_test,y_test,'bo',alpha=0.3)\n",
    "plt.show()\n",
    "\n",
    "sess.close()    "
   ]
  },
  {
   "cell_type": "markdown",
   "metadata": {},
   "source": [
    "### now mixture density version for sinusoidal pattern that can't be captured by single function "
   ]
  },
  {
   "cell_type": "code",
   "execution_count": null,
   "metadata": {
    "collapsed": true
   },
   "outputs": [],
   "source": [
    "NHIDDEN = 24\n",
    "STDEV = 0.5\n",
    "KMIX = 24 # number of mixtures\n",
    "NOUT = KMIX * 3 # pi, mu, stdev\n",
    "\n",
    "x = tf.placeholder(dtype=tf.float32, shape=[None,1], name=\"x\")\n",
    "y = tf.placeholder(dtype=tf.float32, shape=[None,1], name=\"y\")\n",
    "\n",
    "Wh = tf.Variable(tf.random_normal([1,NHIDDEN], stddev=STDEV, dtype=tf.float32))\n",
    "bh = tf.Variable(tf.random_normal([1,NHIDDEN], stddev=STDEV, dtype=tf.float32))\n",
    "\n",
    "Wo = tf.Variable(tf.random_normal([NHIDDEN,NOUT], stddev=STDEV, dtype=tf.float32))\n",
    "bo = tf.Variable(tf.random_normal([1,NOUT], stddev=STDEV, dtype=tf.float32))\n",
    "\n",
    "hidden_layer = tf.nn.tanh(tf.matmul(x, Wh) + bh)\n",
    "output = tf.matmul(hidden_layer,Wo) + bo\n",
    "\n",
    "def get_mixture_coef(output):\n",
    "    out_pi = tf.placeholder(dtype=tf.float32, shape=[None,KMIX], name=\"mixparam\")\n",
    "    out_sigma = tf.placeholder(dtype=tf.float32, shape=[None,KMIX], name=\"mixparam\")\n",
    "    out_mu = tf.placeholder(dtype=tf.float32, shape=[None,KMIX], name=\"mixparam\")\n",
    "\n",
    "    out_pi, out_sigma, out_mu = tf.split(output,3,1)\n",
    "\n",
    "    max_pi = tf.reduce_max(out_pi, 1, keep_dims=True)\n",
    "    out_pi = tf.subtract(out_pi, max_pi)\n",
    "\n",
    "    out_pi = tf.exp(out_pi)\n",
    "\n",
    "    normalize_pi = tf.reciprocal(tf.reduce_sum(out_pi, 1, keep_dims=True))\n",
    "    out_pi = tf.multiply(normalize_pi, out_pi)\n",
    "\n",
    "    out_sigma = tf.exp(out_sigma)fx\n",
    "\n",
    "    return out_pi, out_sigma, out_mu\n",
    "\n",
    "out_pi, out_sigma, out_mu = get_mixture_coef(output)\n"
   ]
  },
  {
   "cell_type": "code",
   "execution_count": null,
   "metadata": {
    "collapsed": true
   },
   "outputs": [],
   "source": [
    "NSAMPLE = 2500\n",
    "\n",
    "y_data = np.float32(np.random.uniform(-10.5, 10.5, (1, NSAMPLE))).T\n",
    "r_data = np.float32(np.random.normal(size=(NSAMPLE,1))) # random noise\n",
    "x_data = np.float32(np.sin(0.75*y_data)*7.0+y_data*0.5+r_data*1.0)\n",
    "\n",
    "oneDivSqrtTwoPI = 1 / math.sqrt(2*math.pi) # normalisation factor for gaussian, not needed.\n",
    "def tf_normal(y, mu, sigma):\n",
    "    result = tf.subtract(y, mu)\n",
    "    result = tf.multiply(result,tf.reciprocal(sigma))\n",
    "    result = -tf.square(result)/2\n",
    "    return tf.multiply(tf.exp(result),tf.reciprocal(sigma))*oneDivSqrtTwoPI\n",
    "\n",
    "def get_lossfunc(out_pi, out_sigma, out_mu, y):\n",
    "    result = tf_normal(y, out_mu, out_sigma)\n",
    "    result = tf.multiply(result, out_pi)\n",
    "    result = tf.reduce_sum(result, 1, keep_dims=True)\n",
    "    result = -tf.log(result)\n",
    "    return tf.reduce_mean(result)\n",
    "\n",
    "lossfunc = get_lossfunc(out_pi, out_sigma, out_mu, y)\n",
    "train_op = tf.train.AdamOptimizer().minimize(lossfunc)\n",
    "\n",
    "sess = tf.InteractiveSession()\n",
    "sess.run(tf.global_variables_initializer())\n",
    "\n",
    "NEPOCH = 10000\n",
    "loss = np.zeros(NEPOCH) # store the training progress here.\n",
    "for i in range(NEPOCH):\n",
    "    sess.run(train_op,feed_dict={x: x_data, y: y_data})\n",
    "    loss[i] = sess.run(lossfunc, feed_dict={x: x_data, y: y_data})"
   ]
  },
  {
   "cell_type": "code",
   "execution_count": null,
   "metadata": {},
   "outputs": [],
   "source": [
    "plt.figure(figsize=(8, 8))\n",
    "plt.plot(np.arange(100, NEPOCH,1), loss[100:], 'r-')\n",
    "plt.show()"
   ]
  },
  {
   "cell_type": "code",
   "execution_count": null,
   "metadata": {
    "collapsed": true
   },
   "outputs": [],
   "source": [
    "x_test = np.float32(np.arange(-15,15,0.1))\n",
    "NTEST = x_test.size\n",
    "x_test = x_test.reshape(NTEST,1) # needs to be a matrix, not a vector\n",
    "\n",
    "def get_pi_idx(x, pdf):\n",
    "    N = pdf.size\n",
    "    accumulate = 0\n",
    "    for i in range(0, N):\n",
    "        accumulate += pdf[i]\n",
    "        if (accumulate > x):\n",
    "            return i\n",
    "    print 'error with sampling ensemble'\n",
    "    return -1\n",
    "\n",
    "def generate_ensemble(out_pi, out_mu, out_sigma, M = 10):\n",
    "    NTEST = x_test.size\n",
    "    result = np.random.rand(NTEST, M) # initially random [0, 1]\n",
    "    rn = np.random.randn(NTEST, M) # normal random matrix (0.0, 1.0)\n",
    "    mu = 0\n",
    "    std = 0\n",
    "    idx = 0\n",
    "\n",
    "    # transforms result into random ensembles\n",
    "    for j in range(0, M): # mixtures\n",
    "        for i in range(0, NTEST): # datapoints\n",
    "            idx = get_pi_idx(result[i, j], out_pi[i])\n",
    "            mu = out_mu[i, idx]\n",
    "            std = out_sigma[i, idx]\n",
    "            result[i, j] = mu + rn[i, j]*std\n",
    "    return result"
   ]
  },
  {
   "cell_type": "code",
   "execution_count": null,
   "metadata": {
    "collapsed": true
   },
   "outputs": [],
   "source": [
    "out_pi_test, out_sigma_test, out_mu_test = sess.run(get_mixture_coef(output), feed_dict={x: x_test})\n",
    "\n",
    "y_test = generate_ensemble(out_pi_test, out_mu_test, out_sigma_test)\n",
    "\n",
    "plt.figure(figsize=(8, 8))\n",
    "plt.plot(x_data,y_data,'ro', x_test,y_test,'bo',alpha=0.3)\n",
    "plt.show()\n"
   ]
  }
 ],
 "metadata": {
  "kernelspec": {
   "display_name": "Python 2",
   "language": "python",
   "name": "python2"
  },
  "language_info": {
   "codemirror_mode": {
    "name": "ipython",
    "version": 2
   },
   "file_extension": ".py",
   "mimetype": "text/x-python",
   "name": "python",
   "nbconvert_exporter": "python",
   "pygments_lexer": "ipython2",
   "version": "2.7.12"
  }
 },
 "nbformat": 4,
 "nbformat_minor": 2
}
